{
 "cells": [
  {
   "cell_type": "code",
   "execution_count": 1,
   "id": "3e9fb392-db34-4955-bd00-32b02800996e",
   "metadata": {},
   "outputs": [],
   "source": [
    "import pandas as pd"
   ]
  },
  {
   "cell_type": "code",
   "execution_count": 2,
   "id": "62330556-1b5a-4c12-a131-fd18a44489fc",
   "metadata": {},
   "outputs": [],
   "source": [
    "import seaborn as sns\n",
    "import matplotlib.pyplot as plt"
   ]
  },
  {
   "cell_type": "code",
   "execution_count": 3,
   "id": "4d24cb9c-c0ef-47cb-a0e7-2e7d7456980e",
   "metadata": {},
   "outputs": [],
   "source": [
    "import sklearn.datasets as skd"
   ]
  },
  {
   "cell_type": "code",
   "execution_count": 20,
   "id": "714337fe-a1d7-469f-bd36-85975100b56d",
   "metadata": {},
   "outputs": [],
   "source": [
    "data,labels=skd.make_blobs(n_samples=400, n_features=2,centers=2,cluster_std=4.1 )"
   ]
  },
  {
   "cell_type": "code",
   "execution_count": 21,
   "id": "e4a0faa2-5545-4972-8922-06a9552c12b1",
   "metadata": {
    "scrolled": true,
    "tags": []
   },
   "outputs": [
    {
     "data": {
      "text/plain": [
       "array([[ -7.24900581,   9.93338147],\n",
       "       [  6.43686007,  10.2431351 ],\n",
       "       [ -4.2592963 ,   9.59059179],\n",
       "       [ -5.93344623,   3.35822693],\n",
       "       [  0.383963  ,   5.6537259 ],\n",
       "       [  6.41779244,  10.52113603],\n",
       "       [  2.272707  ,   5.36939323],\n",
       "       [  4.61270792,   4.08130988],\n",
       "       [  6.5380394 ,   9.5066629 ],\n",
       "       [  4.17474585,  -0.20306264],\n",
       "       [  5.18129304,   4.38262889],\n",
       "       [ -7.57992583,   8.73030292],\n",
       "       [  0.41124422,  12.00212116],\n",
       "       [ -0.38944574,   3.69353576],\n",
       "       [  3.70010373,   7.78346958],\n",
       "       [ -6.06164003,   4.2540655 ],\n",
       "       [  4.74734312,   9.4265421 ],\n",
       "       [ -4.52062778,   8.74475958],\n",
       "       [  8.56743949,   3.11897536],\n",
       "       [  2.86413721,   5.41846191],\n",
       "       [ -5.17936108,   4.98323784],\n",
       "       [ -3.7357573 ,   4.44229731],\n",
       "       [  1.16035624,  13.90140658],\n",
       "       [  4.63821892,   5.11374114],\n",
       "       [ -4.09826714,  13.19468527],\n",
       "       [ -1.51972922,   6.15156437],\n",
       "       [  0.10847759,  11.47455958],\n",
       "       [  4.87070831,   6.41928893],\n",
       "       [ 13.36113155,   8.32907645],\n",
       "       [ -7.27472177,   3.99047924],\n",
       "       [  3.03421467,   9.08181018],\n",
       "       [ -5.54196411,   5.67444622],\n",
       "       [ -0.99904386,   3.29238715],\n",
       "       [ -1.38534279,   7.65355185],\n",
       "       [  2.68557309,   8.13345934],\n",
       "       [ -3.0032163 ,  12.1546317 ],\n",
       "       [ -2.58688437,   6.36725447],\n",
       "       [  8.08543013,  16.46434288],\n",
       "       [ -0.16683603,   5.75716488],\n",
       "       [ -4.51161857,   8.49250571],\n",
       "       [  2.44595246,   7.26636931],\n",
       "       [ -7.62745828,  13.1295092 ],\n",
       "       [  0.96972319,   5.50348229],\n",
       "       [ -5.39588555,   9.17113123],\n",
       "       [  4.29595845,  13.28635423],\n",
       "       [  0.57470993,   3.97909708],\n",
       "       [ -3.28575311,   7.22157935],\n",
       "       [ -4.1369676 ,  13.21778554],\n",
       "       [  0.85367521,  20.56196743],\n",
       "       [  3.70395621,  11.74690193],\n",
       "       [ -5.02127634,  11.10888895],\n",
       "       [ -4.6790927 ,   9.83665995],\n",
       "       [ -3.25854897,   5.93749937],\n",
       "       [  5.11362816,  11.67811979],\n",
       "       [ -9.32811373,   8.72656502],\n",
       "       [ -1.39296476,  11.43557435],\n",
       "       [ -1.93185653,  10.64632263],\n",
       "       [ -4.03715397,  11.30794179],\n",
       "       [ -0.51672874,   5.67888093],\n",
       "       [  3.54809696,   3.79907415],\n",
       "       [ -1.85712413,   4.0892881 ],\n",
       "       [  2.41565515,   4.50289573],\n",
       "       [ -7.48707865,   8.47859849],\n",
       "       [  4.63914931,   3.53786546],\n",
       "       [  6.75361121,  12.68526329],\n",
       "       [ -3.60359207,   5.57627152],\n",
       "       [  2.03635678,  14.20107438],\n",
       "       [ -5.83352619,   8.5117555 ],\n",
       "       [  4.08234297,  12.69194419],\n",
       "       [  3.5355903 ,   8.82163747],\n",
       "       [  4.4014641 ,   6.92093087],\n",
       "       [ -9.08013652,  15.86698467],\n",
       "       [  9.28221825,   7.70505529],\n",
       "       [  4.00568022,  12.35481539],\n",
       "       [-10.67477714,   8.60025235],\n",
       "       [  1.88200883,  12.07978789],\n",
       "       [  1.63136267,  14.95312018],\n",
       "       [ -3.36716806,   4.91925814],\n",
       "       [ -4.10978147,   6.92638988],\n",
       "       [  0.12102162,   7.55850051],\n",
       "       [ -1.16101456,  11.48283047],\n",
       "       [ -1.88204425,   0.81005313],\n",
       "       [  6.50368968,  11.97305509],\n",
       "       [  2.67192476,   4.32971904],\n",
       "       [ -7.27150489,   9.73613748],\n",
       "       [  2.08750987,  17.14185465],\n",
       "       [  0.40060334,   7.07205064],\n",
       "       [ -2.87573438,  -0.47424411],\n",
       "       [  5.09600185,   9.52624173],\n",
       "       [  2.12068669,  12.56261539],\n",
       "       [ -9.22475137,  16.64528459],\n",
       "       [  4.12952535,   9.67089366],\n",
       "       [ 10.95290778,   3.60398743],\n",
       "       [ -6.09411636,   9.60762753],\n",
       "       [ -4.78271084,   5.16153771],\n",
       "       [ -9.02562096,  10.43134616],\n",
       "       [  3.41043902,  10.91008231],\n",
       "       [ -8.37905093,  14.32236205],\n",
       "       [  6.73751153,   6.63208125],\n",
       "       [ -5.85996186,   6.24018331],\n",
       "       [ -2.35700039,   6.65902738],\n",
       "       [  2.74360094,   7.16895208],\n",
       "       [ -3.31252859,   9.90958955],\n",
       "       [ -0.13625473,   7.86408159],\n",
       "       [ -0.82750054,   6.53374282],\n",
       "       [ -6.89706588,   5.60815901],\n",
       "       [ -7.73447817,   9.94564238],\n",
       "       [  2.46582175,  -3.12983077],\n",
       "       [  0.77514207,   8.23943344],\n",
       "       [ -0.36404236,  13.83024414],\n",
       "       [ -1.86371428,   5.04710533],\n",
       "       [ -0.29314732,   2.51231152],\n",
       "       [ -4.33884419,  12.30074933],\n",
       "       [ -2.49355458,  13.71101047],\n",
       "       [ -0.06069179,  12.63712533],\n",
       "       [  0.11944517,   2.93926727],\n",
       "       [  0.24203724,   5.68533981],\n",
       "       [ -0.22199466,  -1.70967813],\n",
       "       [  3.05376091,   8.06815566],\n",
       "       [  5.81534612,   1.66737978],\n",
       "       [ 10.56290766,  11.80151624],\n",
       "       [-13.3068029 ,   9.08469485],\n",
       "       [ -9.2303972 ,   8.34359145],\n",
       "       [ -0.47016269,  11.69931122],\n",
       "       [ -0.48031722,  10.08203354],\n",
       "       [  2.35993619,  10.26522786],\n",
       "       [  1.16465388,  12.67141745],\n",
       "       [  8.76493431,  12.44807677],\n",
       "       [  2.83663885,   5.74332107],\n",
       "       [  3.93273939,  10.97299621],\n",
       "       [ -3.36693957,   7.55400944],\n",
       "       [ -4.86415879,   7.32934488],\n",
       "       [  2.97199636,  15.2845169 ],\n",
       "       [  2.38965697,  11.72993581],\n",
       "       [ -2.30928823,   7.88712219],\n",
       "       [  7.11277299,  10.13890172],\n",
       "       [-10.41052169,   9.11227361],\n",
       "       [  4.6481038 ,   8.03310752],\n",
       "       [ -4.81088903,   5.28533729],\n",
       "       [  1.12991097,  13.16352928],\n",
       "       [ -2.38966713,  13.20626384],\n",
       "       [  0.92322098,   9.37867264],\n",
       "       [  2.4884314 ,   3.87854253],\n",
       "       [  1.52898734,   1.75377996],\n",
       "       [  2.3325135 ,   7.52560357],\n",
       "       [ -0.70788537,   2.83274735],\n",
       "       [  2.10462222,   4.4579103 ],\n",
       "       [ -8.80395713,  12.21361768],\n",
       "       [ -6.30225582,  10.27430205],\n",
       "       [  6.20005788,   6.46961398],\n",
       "       [  1.20308613,   1.15781308],\n",
       "       [ -2.01935305,   0.29131431],\n",
       "       [ 10.57574986,  10.7474775 ],\n",
       "       [-11.42723146,   2.79233492],\n",
       "       [ -1.78564457,   0.89480762],\n",
       "       [ -7.69965867,  10.57330333],\n",
       "       [  3.46816697,   7.11060615],\n",
       "       [  2.42920642,  11.61690639],\n",
       "       [ -2.79931027,   2.04011928],\n",
       "       [  1.91716027,  12.6750082 ],\n",
       "       [ -1.37380365,   4.90846024],\n",
       "       [ -4.38914676,   9.52790907],\n",
       "       [  4.4818521 ,   6.43687488],\n",
       "       [  3.6395161 ,  12.99173485],\n",
       "       [  7.35027328,   8.01744305],\n",
       "       [ -0.64469186,   7.79548063],\n",
       "       [ -4.341338  ,   9.32324028],\n",
       "       [ -6.63467074,   8.83186137],\n",
       "       [  7.23207212,  10.58177373],\n",
       "       [ -4.91215454,  16.85803961],\n",
       "       [ -3.11237378,   5.01023515],\n",
       "       [  2.27171191,  19.09829391],\n",
       "       [  1.24370685,  13.87147426],\n",
       "       [ -9.69869349,  11.0069342 ],\n",
       "       [  3.30289148,   5.99904145],\n",
       "       [ -5.19878081,  14.73932324],\n",
       "       [  3.36710587,  12.32340307],\n",
       "       [ -5.01747651,   9.17403351],\n",
       "       [ -7.52840718,  15.16633708],\n",
       "       [  4.12209126,  12.9585387 ],\n",
       "       [  6.0583978 ,   9.48224183],\n",
       "       [  1.3616626 ,   9.70130276],\n",
       "       [ -4.80814951,   1.24761987],\n",
       "       [ -2.07129236,   2.87837544],\n",
       "       [ -3.06621349,  14.2875351 ],\n",
       "       [ -3.91007314,   4.1625598 ],\n",
       "       [  4.33836789,   9.89195969],\n",
       "       [ -2.1908323 ,   5.35672633],\n",
       "       [ -2.47930014,   7.26492004],\n",
       "       [ -7.97915745,  11.44291915],\n",
       "       [  0.13807545,   9.1826579 ],\n",
       "       [ -1.0625022 ,   9.95479551],\n",
       "       [  2.93014408,  15.28157311],\n",
       "       [  2.31850335,   9.56220976],\n",
       "       [ -2.09354106,   8.00215461],\n",
       "       [ -4.38510869,   8.8647561 ],\n",
       "       [  7.47449445,  10.13359914],\n",
       "       [ -4.59552048,   8.09619992],\n",
       "       [ -3.3619474 ,   6.27546869],\n",
       "       [ -3.31867663,  14.52710904],\n",
       "       [ -2.21187789,   6.77952154],\n",
       "       [ -6.3919827 ,   3.98354661],\n",
       "       [ -7.88102365,  18.49236335],\n",
       "       [  2.41651498,   1.85527715],\n",
       "       [  3.15476496,  -0.60621574],\n",
       "       [  4.99976844,  11.45002422],\n",
       "       [ -2.80903821,   5.59722755],\n",
       "       [  4.10504598,   7.407733  ],\n",
       "       [ -1.64087444,  14.53578798],\n",
       "       [ -4.69331739,   6.62642737],\n",
       "       [  5.95107786,   6.66544511],\n",
       "       [ -1.8008836 ,   3.82293422],\n",
       "       [-12.38075846,  14.49477171],\n",
       "       [ -1.02478783,   4.19256885],\n",
       "       [  5.85702186,   8.96704209],\n",
       "       [  0.46045905,   0.68751501],\n",
       "       [  8.2932084 ,  13.09345613],\n",
       "       [  6.68757073,   8.21696559],\n",
       "       [  5.36944907,  16.76182045],\n",
       "       [ -4.24115021,   6.5603035 ],\n",
       "       [  3.72648655,  12.18743327],\n",
       "       [ -2.0935939 ,   8.64155114],\n",
       "       [ -3.4942426 ,   1.16675429],\n",
       "       [  2.44088871,   3.71398273],\n",
       "       [ -1.0573633 ,   4.51482764],\n",
       "       [  4.34120441,   2.96644999],\n",
       "       [ -4.12064915,  11.95874   ],\n",
       "       [  1.13613185,   7.74293668],\n",
       "       [  5.90912162,   8.08993117],\n",
       "       [ -0.63106077,  10.02956906],\n",
       "       [ -3.28139755,  14.69082024],\n",
       "       [  1.03714516,  13.41845717],\n",
       "       [ -0.56037624,   1.56697589],\n",
       "       [  1.52917415,   9.27515607],\n",
       "       [  1.54944341,  11.13127265],\n",
       "       [  1.06589035,   8.93278541],\n",
       "       [ -5.55176666,  12.50270475],\n",
       "       [ -9.67284975,   6.17798738],\n",
       "       [ -7.06136311,   7.63871521],\n",
       "       [  1.76025163,  12.77145748],\n",
       "       [  1.6349574 ,  12.74843284],\n",
       "       [  0.12546004,  11.6549081 ],\n",
       "       [ -5.00802889,  12.11359653],\n",
       "       [ -3.07244011,  14.29799987],\n",
       "       [  2.47113961,   4.95026672],\n",
       "       [  5.16564877,   3.64008164],\n",
       "       [ -3.95691986,   8.31396423],\n",
       "       [ -5.92975269,  14.43240395],\n",
       "       [ -1.6795151 ,  11.04040154],\n",
       "       [  3.37011493,  11.16813266],\n",
       "       [  5.44869035,  14.41683635],\n",
       "       [ -6.59512995,  12.18103593],\n",
       "       [  3.18750338,   8.06368635],\n",
       "       [ -6.13629014,  17.40616007],\n",
       "       [  1.98141316,   9.21839832],\n",
       "       [ -7.40379861,  11.56220011],\n",
       "       [ -1.30598561,  20.87848446],\n",
       "       [ -4.02461344,   4.13920353],\n",
       "       [-11.10000437,  13.15962484],\n",
       "       [ -5.03876185,   9.6676178 ],\n",
       "       [ -3.45261954,  10.06951052],\n",
       "       [  9.91441273,  11.07758695],\n",
       "       [-10.67205652,   6.13922097],\n",
       "       [  1.87600431,  11.20588235],\n",
       "       [ -4.86301349,  10.70020974],\n",
       "       [  2.61290099,   7.41438057],\n",
       "       [ -5.20656183,  11.95489663],\n",
       "       [  3.22316402,   7.11553238],\n",
       "       [ -5.26113937,   0.68060697],\n",
       "       [-10.2416517 ,  10.84757521],\n",
       "       [ -2.6270758 ,   9.96347987],\n",
       "       [  6.90336551,  10.73566668],\n",
       "       [  3.45546979,   5.11518923],\n",
       "       [ -7.10607156,  12.85865974],\n",
       "       [ -5.80012231,   5.97103133],\n",
       "       [ -1.00450873,   3.78581261],\n",
       "       [  0.68912765,   5.6603289 ],\n",
       "       [  6.56763291,   7.16569475],\n",
       "       [  5.3893479 ,  15.53630581],\n",
       "       [  4.42264581,   6.82184783],\n",
       "       [  0.75013718,  15.0494775 ],\n",
       "       [ -2.30623237,   9.12332112],\n",
       "       [ -4.03133071,   7.21474868],\n",
       "       [  6.82818105,  10.15697355],\n",
       "       [  5.03464688,  12.33017654],\n",
       "       [ -0.59454304,   5.22934173],\n",
       "       [  7.01911281,   7.39319153],\n",
       "       [  2.40379909,  15.84441667],\n",
       "       [ -5.42285977,   3.24640607],\n",
       "       [  3.27562916,   5.42517193],\n",
       "       [  3.3941034 ,   6.2665208 ],\n",
       "       [ -3.24625088,  10.55976036],\n",
       "       [  0.30900745,   7.7297016 ],\n",
       "       [-10.39003265,   9.28673767],\n",
       "       [  8.02549616,   4.6465133 ],\n",
       "       [ -1.44902857,   6.69747583],\n",
       "       [ 10.44140636,   8.91889733],\n",
       "       [  4.30005041,   7.35217417],\n",
       "       [  4.61239582,  10.54573493],\n",
       "       [  2.76254873,  16.30827451],\n",
       "       [ -6.52324812,  14.08148576],\n",
       "       [ -6.43698608,   1.67434937],\n",
       "       [ -7.01241303,  17.77936292],\n",
       "       [ -4.3489194 ,  11.84555604],\n",
       "       [ -3.77031589,  16.54184271],\n",
       "       [ -2.94807386,  18.54311683],\n",
       "       [  3.84047221,   9.67811447],\n",
       "       [ -8.38228563,  12.08613175],\n",
       "       [ -2.78642864,  11.52439717],\n",
       "       [ -6.61332489,  11.02294296],\n",
       "       [ -1.49950238,  14.15380727],\n",
       "       [  5.23139995,  12.07244532],\n",
       "       [  2.52675686,   7.43050596],\n",
       "       [ -7.45875976,   4.66119003],\n",
       "       [ -8.26072521,  11.25535284],\n",
       "       [  6.76576634,   5.75728822],\n",
       "       [ -1.88528787,   8.85446558],\n",
       "       [ -0.96217606,   1.5427292 ],\n",
       "       [-11.04119263,   6.58406897],\n",
       "       [  6.5143248 ,  11.50991289],\n",
       "       [  7.43649729,  14.14134129],\n",
       "       [  0.96446634,   5.05585581],\n",
       "       [  3.04150902,   8.83700055],\n",
       "       [  2.15536793,  12.86733715],\n",
       "       [  3.01752361,   8.83925647],\n",
       "       [ -1.74173914,  16.67852899],\n",
       "       [ -4.75462795,   8.13763575],\n",
       "       [-11.56292097,  10.39575621],\n",
       "       [ -0.91239147,   7.11583874],\n",
       "       [ -6.71653413,  15.04998374],\n",
       "       [  4.1357365 ,   8.587722  ],\n",
       "       [  0.43565026,   8.05868806],\n",
       "       [ -5.49436915,  14.1180374 ],\n",
       "       [  4.72934848,   5.71350817],\n",
       "       [ -1.06586997,   5.35340655],\n",
       "       [  2.7064417 ,  17.96889922],\n",
       "       [  2.52747556,   9.26112481],\n",
       "       [ -3.22758879,   2.2388045 ],\n",
       "       [ -0.58915001,   5.72548067],\n",
       "       [ -9.47118867,   6.14816659],\n",
       "       [  2.05379988,   7.01509597],\n",
       "       [ -1.20016981,  14.6649783 ],\n",
       "       [  3.75321353,  12.72175685],\n",
       "       [  0.57565656,   7.23823852],\n",
       "       [  0.56680982,   5.93658495],\n",
       "       [ -3.62186279,  12.98384969],\n",
       "       [  0.79350352,  14.46119268],\n",
       "       [ -3.21034386,   3.82229928],\n",
       "       [ -4.38530354,  12.07638583],\n",
       "       [  2.59130043,   5.13735903],\n",
       "       [ -1.56736469,   6.12578388],\n",
       "       [ -0.33396403,   8.50329498],\n",
       "       [ -5.48526689,   6.60001879],\n",
       "       [  4.6053682 ,   6.22601563],\n",
       "       [ -6.14911408,  12.18452662],\n",
       "       [ -1.00003041,   7.98381071],\n",
       "       [ -0.8549966 ,  10.51546569],\n",
       "       [  3.62368994,  10.07049648],\n",
       "       [-10.92095171,  11.05151783],\n",
       "       [  3.50034617,   7.24581563],\n",
       "       [  0.81764128,   5.06965166],\n",
       "       [  2.19676934,   4.23091727],\n",
       "       [  3.08677868,   3.95690024],\n",
       "       [ -7.24984938,  12.0648398 ],\n",
       "       [  3.48711145,   2.76802705],\n",
       "       [  2.9727593 ,   7.18759231],\n",
       "       [ -6.25797646,   5.30258187],\n",
       "       [  4.97204563,   9.41794942],\n",
       "       [ -5.45169721,  14.03972048],\n",
       "       [ -5.70508053,  10.14602799],\n",
       "       [  8.91062683,  18.86775946],\n",
       "       [  5.55072384,   4.29368302],\n",
       "       [  2.87177302,   3.01000363],\n",
       "       [  3.46922883,   2.41999392],\n",
       "       [ -1.58489232,  13.23275319],\n",
       "       [ -0.74956867,   8.02203094],\n",
       "       [ -4.04514172,  12.58888587],\n",
       "       [ -3.67597702,  13.39474484],\n",
       "       [ -0.19860609,  11.32469296],\n",
       "       [  5.53764831,   5.68688769],\n",
       "       [  2.59158633,  10.78387942],\n",
       "       [ -3.55848383,   8.60685309],\n",
       "       [  0.05124134,   4.87333183],\n",
       "       [  0.87546656,   8.19786453],\n",
       "       [  1.07419474,  11.25534605],\n",
       "       [  6.95692485,   5.17961489],\n",
       "       [ -1.25545732,   4.38035533],\n",
       "       [-13.01454589,   5.4509146 ],\n",
       "       [ -0.70752379,   8.28901267],\n",
       "       [ -0.10783662,   7.44979776],\n",
       "       [  1.28082617,   0.83808716],\n",
       "       [  6.74273239,   3.3488605 ],\n",
       "       [ -3.64717246,   8.66645224],\n",
       "       [ -0.54336284,   3.25924818],\n",
       "       [ -3.39407177,  13.57293998],\n",
       "       [  4.07522018,   7.34424519],\n",
       "       [  3.39960743,  10.51839078],\n",
       "       [  2.78049605,  12.0579478 ],\n",
       "       [-12.41383664,   9.06208566],\n",
       "       [  5.72312839,   6.70562852]])"
      ]
     },
     "execution_count": 21,
     "metadata": {},
     "output_type": "execute_result"
    }
   ],
   "source": [
    "data"
   ]
  },
  {
   "cell_type": "code",
   "execution_count": 22,
   "id": "3959da92-3a6a-47c4-8522-80bfa84f00ec",
   "metadata": {
    "scrolled": true,
    "tags": []
   },
   "outputs": [
    {
     "data": {
      "text/plain": [
       "array([0, 1, 0, 0, 1, 1, 0, 1, 1, 1, 1, 0, 1, 1, 1, 1, 0, 1, 1, 1, 1, 1,\n",
       "       0, 1, 0, 0, 0, 1, 1, 0, 1, 0, 1, 0, 1, 1, 0, 1, 0, 1, 1, 0, 0, 0,\n",
       "       1, 1, 0, 1, 0, 1, 0, 1, 1, 0, 0, 0, 1, 0, 0, 1, 1, 1, 0, 1, 1, 1,\n",
       "       1, 0, 1, 0, 1, 0, 1, 1, 0, 1, 0, 0, 1, 0, 0, 1, 1, 0, 0, 0, 1, 1,\n",
       "       1, 0, 0, 1, 1, 0, 0, 0, 0, 0, 1, 0, 0, 1, 0, 1, 0, 0, 0, 0, 0, 1,\n",
       "       0, 1, 0, 0, 0, 1, 0, 1, 1, 1, 1, 0, 0, 0, 0, 1, 1, 1, 1, 1, 0, 0,\n",
       "       1, 1, 1, 1, 0, 0, 0, 0, 0, 1, 1, 1, 1, 1, 1, 1, 0, 1, 1, 0, 1, 0,\n",
       "       0, 0, 1, 0, 1, 0, 0, 1, 1, 1, 1, 0, 0, 0, 1, 0, 0, 0, 1, 0, 1, 0,\n",
       "       0, 0, 0, 1, 1, 1, 1, 1, 0, 1, 0, 0, 0, 0, 1, 0, 0, 1, 1, 0, 1, 0,\n",
       "       0, 0, 0, 0, 0, 0, 1, 0, 0, 0, 1, 0, 1, 0, 0, 1, 1, 1, 1, 1, 1, 0,\n",
       "       1, 0, 1, 1, 0, 1, 0, 0, 1, 0, 1, 1, 0, 1, 0, 1, 0, 0, 0, 1, 1, 0,\n",
       "       0, 0, 1, 1, 1, 1, 0, 0, 1, 0, 1, 0, 1, 0, 0, 1, 0, 0, 0, 1, 0, 1,\n",
       "       0, 1, 0, 1, 0, 0, 0, 1, 1, 1, 0, 1, 1, 1, 1, 1, 0, 0, 0, 1, 1, 0,\n",
       "       0, 1, 1, 1, 1, 0, 1, 0, 1, 0, 1, 0, 0, 1, 0, 0, 0, 0, 0, 0, 1, 0,\n",
       "       0, 0, 0, 1, 1, 0, 0, 0, 1, 1, 0, 0, 1, 1, 1, 0, 0, 1, 0, 0, 1, 0,\n",
       "       1, 1, 0, 0, 1, 0, 1, 1, 0, 0, 0, 0, 1, 1, 1, 0, 1, 0, 1, 1, 1, 1,\n",
       "       1, 1, 1, 0, 1, 1, 0, 1, 1, 1, 0, 0, 1, 1, 0, 0, 0, 0, 1, 1, 1, 1,\n",
       "       0, 0, 0, 0, 0, 1, 1, 0, 1, 1, 1, 1, 0, 0, 0, 0, 1, 1, 0, 0, 0, 1,\n",
       "       1, 1, 0, 1])"
      ]
     },
     "execution_count": 22,
     "metadata": {},
     "output_type": "execute_result"
    }
   ],
   "source": [
    "labels"
   ]
  },
  {
   "cell_type": "code",
   "execution_count": 23,
   "id": "537c92d7-b6b4-4325-a6d0-b7dccfde22cf",
   "metadata": {},
   "outputs": [
    {
     "data": {
      "text/plain": [
       "(400, 2)"
      ]
     },
     "execution_count": 23,
     "metadata": {},
     "output_type": "execute_result"
    }
   ],
   "source": [
    "data.shape"
   ]
  },
  {
   "cell_type": "code",
   "execution_count": 24,
   "id": "2bcead2d-5019-47e2-9624-390b0889c6df",
   "metadata": {},
   "outputs": [
    {
     "data": {
      "text/plain": [
       "<AxesSubplot:>"
      ]
     },
     "execution_count": 24,
     "metadata": {},
     "output_type": "execute_result"
    },
    {
     "data": {
      "image/png": "[encoded data removed]",
      "text/plain": [
       "<Figure size 432x288 with 1 Axes>"
      ]
     },
     "metadata": {
      "needs_background": "light"
     },
     "output_type": "display_data"
    }
   ],
   "source": [
    "sns.scatterplot(x=data[:,0],y=data[:,1],hue=labels)"
   ]
  },
  {
   "cell_type": "code",
   "execution_count": 25,
   "id": "1ffff221-3898-4a92-86fc-4e152ded8624",
   "metadata": {},
   "outputs": [
    {
     "data": {
      "text/html": [
       "<div>\n",
       "<style scoped>\n",
       "    .dataframe tbody tr th:only-of-type {\n",
       "        vertical-align: middle;\n",
       "    }\n",
       "\n",
       "    .dataframe tbody tr th {\n",
       "        vertical-align: top;\n",
       "    }\n",
       "\n",
       "    .dataframe thead th {\n",
       "        text-align: right;\n",
       "    }\n",
       "</style>\n",
       "<table border=\"1\" class=\"dataframe\">\n",
       "  <thead>\n",
       "    <tr style=\"text-align: right;\">\n",
       "      <th></th>\n",
       "      <th>A</th>\n",
       "      <th>B</th>\n",
       "    </tr>\n",
       "  </thead>\n",
       "  <tbody>\n",
       "    <tr>\n",
       "      <th>0</th>\n",
       "      <td>-7.249006</td>\n",
       "      <td>9.933381</td>\n",
       "    </tr>\n",
       "    <tr>\n",
       "      <th>1</th>\n",
       "      <td>6.436860</td>\n",
       "      <td>10.243135</td>\n",
       "    </tr>\n",
       "    <tr>\n",
       "      <th>2</th>\n",
       "      <td>-4.259296</td>\n",
       "      <td>9.590592</td>\n",
       "    </tr>\n",
       "    <tr>\n",
       "      <th>3</th>\n",
       "      <td>-5.933446</td>\n",
       "      <td>3.358227</td>\n",
       "    </tr>\n",
       "    <tr>\n",
       "      <th>4</th>\n",
       "      <td>0.383963</td>\n",
       "      <td>5.653726</td>\n",
       "    </tr>\n",
       "  </tbody>\n",
       "</table>\n",
       "</div>"
      ],
      "text/plain": [
       "          A          B\n",
       "0 -7.249006   9.933381\n",
       "1  6.436860  10.243135\n",
       "2 -4.259296   9.590592\n",
       "3 -5.933446   3.358227\n",
       "4  0.383963   5.653726"
      ]
     },
     "execution_count": 25,
     "metadata": {},
     "output_type": "execute_result"
    }
   ],
   "source": [
    "x=pd.DataFrame(data,columns=['A','B'])\n",
    "x.head()"
   ]
  },
  {
   "cell_type": "code",
   "execution_count": 26,
   "id": "ff94fa3c-e1a3-4b26-9a53-4988f41b19e3",
   "metadata": {},
   "outputs": [
    {
     "data": {
      "text/plain": [
       "array([0, 1, 0, 0, 1, 1, 0, 1, 1, 1, 1, 0, 1, 1, 1, 1, 0, 1, 1, 1, 1, 1,\n",
       "       0, 1, 0, 0, 0, 1, 1, 0, 1, 0, 1, 0, 1, 1, 0, 1, 0, 1, 1, 0, 0, 0,\n",
       "       1, 1, 0, 1, 0, 1, 0, 1, 1, 0, 0, 0, 1, 0, 0, 1, 1, 1, 0, 1, 1, 1,\n",
       "       1, 0, 1, 0, 1, 0, 1, 1, 0, 1, 0, 0, 1, 0, 0, 1, 1, 0, 0, 0, 1, 1,\n",
       "       1, 0, 0, 1, 1, 0, 0, 0, 0, 0, 1, 0, 0, 1, 0, 1, 0, 0, 0, 0, 0, 1,\n",
       "       0, 1, 0, 0, 0, 1, 0, 1, 1, 1, 1, 0, 0, 0, 0, 1, 1, 1, 1, 1, 0, 0,\n",
       "       1, 1, 1, 1, 0, 0, 0, 0, 0, 1, 1, 1, 1, 1, 1, 1, 0, 1, 1, 0, 1, 0,\n",
       "       0, 0, 1, 0, 1, 0, 0, 1, 1, 1, 1, 0, 0, 0, 1, 0, 0, 0, 1, 0, 1, 0,\n",
       "       0, 0, 0, 1, 1, 1, 1, 1, 0, 1, 0, 0, 0, 0, 1, 0, 0, 1, 1, 0, 1, 0,\n",
       "       0, 0, 0, 0, 0, 0, 1, 0, 0, 0, 1, 0, 1, 0, 0, 1, 1, 1, 1, 1, 1, 0,\n",
       "       1, 0, 1, 1, 0, 1, 0, 0, 1, 0, 1, 1, 0, 1, 0, 1, 0, 0, 0, 1, 1, 0,\n",
       "       0, 0, 1, 1, 1, 1, 0, 0, 1, 0, 1, 0, 1, 0, 0, 1, 0, 0, 0, 1, 0, 1,\n",
       "       0, 1, 0, 1, 0, 0, 0, 1, 1, 1, 0, 1, 1, 1, 1, 1, 0, 0, 0, 1, 1, 0,\n",
       "       0, 1, 1, 1, 1, 0, 1, 0, 1, 0, 1, 0, 0, 1, 0, 0, 0, 0, 0, 0, 1, 0,\n",
       "       0, 0, 0, 1, 1, 0, 0, 0, 1, 1, 0, 0, 1, 1, 1, 0, 0, 1, 0, 0, 1, 0,\n",
       "       1, 1, 0, 0, 1, 0, 1, 1, 0, 0, 0, 0, 1, 1, 1, 0, 1, 0, 1, 1, 1, 1,\n",
       "       1, 1, 1, 0, 1, 1, 0, 1, 1, 1, 0, 0, 1, 1, 0, 0, 0, 0, 1, 1, 1, 1,\n",
       "       0, 0, 0, 0, 0, 1, 1, 0, 1, 1, 1, 1, 0, 0, 0, 0, 1, 1, 0, 0, 0, 1,\n",
       "       1, 1, 0, 1])"
      ]
     },
     "execution_count": 26,
     "metadata": {},
     "output_type": "execute_result"
    }
   ],
   "source": [
    "labels"
   ]
  },
  {
   "cell_type": "code",
   "execution_count": 27,
   "id": "6436b353-c02d-4d38-8c08-05ca8ae8d8e6",
   "metadata": {},
   "outputs": [
    {
     "data": {
      "text/html": [
       "<div>\n",
       "<style scoped>\n",
       "    .dataframe tbody tr th:only-of-type {\n",
       "        vertical-align: middle;\n",
       "    }\n",
       "\n",
       "    .dataframe tbody tr th {\n",
       "        vertical-align: top;\n",
       "    }\n",
       "\n",
       "    .dataframe thead th {\n",
       "        text-align: right;\n",
       "    }\n",
       "</style>\n",
       "<table border=\"1\" class=\"dataframe\">\n",
       "  <thead>\n",
       "    <tr style=\"text-align: right;\">\n",
       "      <th></th>\n",
       "      <th>A</th>\n",
       "      <th>B</th>\n",
       "    </tr>\n",
       "  </thead>\n",
       "  <tbody>\n",
       "    <tr>\n",
       "      <th>count</th>\n",
       "      <td>400.000000</td>\n",
       "      <td>400.000000</td>\n",
       "    </tr>\n",
       "    <tr>\n",
       "      <th>mean</th>\n",
       "      <td>-0.488175</td>\n",
       "      <td>8.771844</td>\n",
       "    </tr>\n",
       "    <tr>\n",
       "      <th>std</th>\n",
       "      <td>4.963405</td>\n",
       "      <td>4.144983</td>\n",
       "    </tr>\n",
       "    <tr>\n",
       "      <th>min</th>\n",
       "      <td>-13.306803</td>\n",
       "      <td>-3.129831</td>\n",
       "    </tr>\n",
       "    <tr>\n",
       "      <th>25%</th>\n",
       "      <td>-4.112498</td>\n",
       "      <td>5.686501</td>\n",
       "    </tr>\n",
       "    <tr>\n",
       "      <th>50%</th>\n",
       "      <td>-0.313556</td>\n",
       "      <td>8.728434</td>\n",
       "    </tr>\n",
       "    <tr>\n",
       "      <th>75%</th>\n",
       "      <td>3.196419</td>\n",
       "      <td>11.734177</td>\n",
       "    </tr>\n",
       "    <tr>\n",
       "      <th>max</th>\n",
       "      <td>13.361132</td>\n",
       "      <td>20.878484</td>\n",
       "    </tr>\n",
       "  </tbody>\n",
       "</table>\n",
       "</div>"
      ],
      "text/plain": [
       "                A           B\n",
       "count  400.000000  400.000000\n",
       "mean    -0.488175    8.771844\n",
       "std      4.963405    4.144983\n",
       "min    -13.306803   -3.129831\n",
       "25%     -4.112498    5.686501\n",
       "50%     -0.313556    8.728434\n",
       "75%      3.196419   11.734177\n",
       "max     13.361132   20.878484"
      ]
     },
     "execution_count": 27,
     "metadata": {},
     "output_type": "execute_result"
    }
   ],
   "source": [
    "x.describe()"
   ]
  },
  {
   "cell_type": "code",
   "execution_count": 28,
   "id": "a477482d-0393-48e7-a21e-3c3f496deea9",
   "metadata": {},
   "outputs": [],
   "source": [
    "from sklearn.neighbors import KNeighborsClassifier"
   ]
  },
  {
   "cell_type": "code",
   "execution_count": 29,
   "id": "be1df5fc-16fd-47d4-a8e1-4ee0e862a4cf",
   "metadata": {},
   "outputs": [],
   "source": [
    "from sklearn.model_selection import train_test_split"
   ]
  },
  {
   "cell_type": "code",
   "execution_count": 30,
   "id": "310cd2af-d62b-4495-aaee-e2367c818950",
   "metadata": {},
   "outputs": [],
   "source": [
    "xtrain,xtest,ytrain,ytest=train_test_split(x,labels,test_size=0.25,random_state=101)"
   ]
  },
  {
   "cell_type": "code",
   "execution_count": 37,
   "id": "1e8ced97-e596-48c5-a5d8-4f568b20c6d9",
   "metadata": {},
   "outputs": [],
   "source": [
    "model=KNeighborsClassifier(n_neighbors=3).fit(xtrain,ytrain)"
   ]
  },
  {
   "cell_type": "code",
   "execution_count": 38,
   "id": "ebf2522e-32b3-4c47-8180-b0e5e9c941a1",
   "metadata": {},
   "outputs": [
    {
     "data": {
      "text/plain": [
       "0.85"
      ]
     },
     "execution_count": 38,
     "metadata": {},
     "output_type": "execute_result"
    }
   ],
   "source": [
    "model.score(xtrain,ytrain)# by changing cluster_std"
   ]
  },
  {
   "cell_type": "code",
   "execution_count": 39,
   "id": "648e5a45-6ff3-4d86-96d4-6a460e718e3b",
   "metadata": {},
   "outputs": [
    {
     "data": {
      "text/plain": [
       "0.74"
      ]
     },
     "execution_count": 39,
     "metadata": {},
     "output_type": "execute_result"
    }
   ],
   "source": [
    "model.score(xtest,ytest)"
   ]
  },
  {
   "cell_type": "code",
   "execution_count": 43,
   "id": "6b2b9871-c99e-48e6-b9a3-109f771ce636",
   "metadata": {},
   "outputs": [],
   "source": [
    "score=[]\n",
    "for i in range(2,50):\n",
    "    model_i=KNeighborsClassifier(n_neighbors=i).fit(xtrain,ytrain)\n",
    "    score.append(model_i.score(xtrain,ytrain))"
   ]
  },
  {
   "cell_type": "code",
   "execution_count": 46,
   "id": "8dd7ad98-0096-4a2c-b51f-f9c4ce31eb13",
   "metadata": {},
   "outputs": [
    {
     "data": {
      "text/plain": [
       "0"
      ]
     },
     "execution_count": 46,
     "metadata": {},
     "output_type": "execute_result"
    },
    {
     "data": {
      "image/png": "[encoded data removed]",
      "text/plain": [
       "<Figure size 1080x432 with 1 Axes>"
      ]
     },
     "metadata": {
      "needs_background": "light"
     },
     "output_type": "display_data"
    }
   ],
   "source": [
    "plt.figure(figsize=(15,6))\n",
    "plt.plot(range(2,50),score,marker='o')\n",
    "plt.grid(True)\n",
    "plt.xticks(range(2,50))\n",
    "0"
   ]
  },
  {
   "cell_type": "code",
   "execution_count": 48,
   "id": "9ca45bc6-0238-4000-8b6c-f269fc5508b8",
   "metadata": {},
   "outputs": [],
   "source": [
    "score_train=[]\n",
    "score_test=[]\n",
    "for i in range(2,50):\n",
    "    model_i=KNeighborsClassifier(n_neighbors=i).fit(xtrain,ytrain)\n",
    "    score_train.append(model_i.score(xtrain,ytrain))\n",
    "    score_test.append(model_i.score(xtest,ytest))"
   ]
  },
  {
   "cell_type": "code",
   "execution_count": 50,
   "id": "29b67fca-eb86-4b25-a31f-a2300773f9de",
   "metadata": {},
   "outputs": [
    {
     "data": {
      "text/plain": [
       "0"
      ]
     },
     "execution_count": 50,
     "metadata": {},
     "output_type": "execute_result"
    },
    {
     "data": {
      "image/png": "[encoded data removed]",
      "text/plain": [
       "<Figure size 1080x432 with 1 Axes>"
      ]
     },
     "metadata": {
      "needs_background": "light"
     },
     "output_type": "display_data"
    }
   ],
   "source": [
    "plt.figure(figsize=(15,6))\n",
    "plt.plot(range(2,50),score_train,marker='o')\n",
    "plt.plot(range(2,50),score_test,marker='*',color='red')\n",
    "plt.grid(True)\n",
    "plt.xticks(range(2,50))\n",
    "0"
   ]
  },
  {
   "cell_type": "code",
   "execution_count": null,
   "id": "b87d881e-bb93-4c3e-a548-74a37c44b14c",
   "metadata": {},
   "outputs": [],
   "source": []
  }
 ],
 "metadata": {
  "kernelspec": {
   "display_name": "Python 3",
   "language": "python",
   "name": "python3"
  },
  "language_info": {
   "codemirror_mode": {
    "name": "ipython",
    "version": 3
   },
   "file_extension": ".py",
   "mimetype": "text/x-python",
   "name": "python",
   "nbconvert_exporter": "python",
   "pygments_lexer": "ipython3",
   "version": "3.8.8"
  }
 },
 "nbformat": 4,
 "nbformat_minor": 5
}
