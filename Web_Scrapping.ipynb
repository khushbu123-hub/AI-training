{
 "cells": [
  {
   "cell_type": "code",
   "execution_count": 1,
   "metadata": {},
   "outputs": [],
   "source": [
    "import requests\n",
    "import pandas as pd\n",
    "from bs4 import BeautifulSoup"
   ]
  },
  {
   "cell_type": "code",
   "execution_count": 2,
   "metadata": {},
   "outputs": [],
   "source": [
    "url = \"https://pythonhow.com/example.html\""
   ]
  },
  {
   "cell_type": "code",
   "execution_count": 3,
   "metadata": {},
   "outputs": [],
   "source": [
    "r = requests.get(url)"
   ]
  },
  {
   "cell_type": "code",
   "execution_count": 4,
   "metadata": {},
   "outputs": [
    {
     "data": {
      "text/plain": [
       "406"
      ]
     },
     "execution_count": 4,
     "metadata": {},
     "output_type": "execute_result"
    }
   ],
   "source": [
    "r.status_code  # Not Acceptable Error due to security issues"
   ]
  },
  {
   "cell_type": "code",
   "execution_count": 5,
   "metadata": {},
   "outputs": [],
   "source": [
    "headers = {\n",
    "    \"sec-ch-ua\": '\"Not;A Brand\";v=\"99\", \"Google Chrome\";v=\"91\", \"Chromium\";v=\"91\"',\n",
    "    \"sec-ch-ua-mobile\": '?0',\n",
    "    \"Upgrade-Insecure-Requests\": '1',\n",
    "    \"User-Agent\": 'Mozilla/5.0 (Windows NT 6.1; Win64; x64) AppleWebKit/537.36 (KHTML, like Gecko) Chrome/91.0.4472.101 Safari/537.36',\n",
    "    \"Accept\": 'text/html,application/xhtml+xml,application/xml;q=0.9,image/avif,image/webp,image/apng,*/*;q=0.8,application/signed-exchange;v=b3;q=0.9'\n",
    "} # User Agent and Accept are necessary"
   ]
  },
  {
   "cell_type": "code",
   "execution_count": 6,
   "metadata": {},
   "outputs": [
    {
     "name": "stdout",
     "output_type": "stream",
     "text": [
      "b'<!DOCTYPE html>\\n<html>\\n<head>\\n<style>\\ndiv.cities {\\n    background-color:black;\\n    color:white;\\n    margin:20px;\\n    padding:20px;\\n} \\n</style>\\n</head>\\n<body>\\n<h1 align=\"center\"> Here are three big cities </h1>\\n<div class=\"cities\">\\n<h2>London</h2>\\n<p>London is the capital of England and it\\'s been a British settlement since 2000 years ago. </p>\\n</div>\\n<div class=\"cities\">\\n<h2>Paris</h2>\\n<p>Paris is the capital city of France. It was declared capital since 508.</p>\\n</div>\\n<div class=\"cities\">\\n<h2>Tokyo</h2>\\n<p>Tokyo is the capital of Japan and one of the most populated cities in the world.</p>\\n</div>\\n</body>\\n</html>'\n"
     ]
    }
   ],
   "source": [
    "r = requests.get(url,headers = headers)\n",
    "print(r.content)"
   ]
  },
  {
   "cell_type": "code",
   "execution_count": 7,
   "metadata": {},
   "outputs": [
    {
     "data": {
      "text/plain": [
       "200"
      ]
     },
     "execution_count": 7,
     "metadata": {},
     "output_type": "execute_result"
    }
   ],
   "source": [
    "r.status_code"
   ]
  },
  {
   "cell_type": "code",
   "execution_count": 8,
   "metadata": {},
   "outputs": [
    {
     "name": "stdout",
     "output_type": "stream",
     "text": [
      "<!DOCTYPE html>\n",
      "<html>\n",
      "<head>\n",
      "<style>\n",
      "div.cities {\n",
      "    background-color:black;\n",
      "    color:white;\n",
      "    margin:20px;\n",
      "    padding:20px;\n",
      "} \n",
      "</style>\n",
      "</head>\n",
      "<body>\n",
      "<h1 align=\"center\"> Here are three big cities </h1>\n",
      "<div class=\"cities\">\n",
      "<h2>London</h2>\n",
      "<p>London is the capital of England and it's been a British settlement since 2000 years ago. </p>\n",
      "</div>\n",
      "<div class=\"cities\">\n",
      "<h2>Paris</h2>\n",
      "<p>Paris is the capital city of France. It was declared capital since 508.</p>\n",
      "</div>\n",
      "<div class=\"cities\">\n",
      "<h2>Tokyo</h2>\n",
      "<p>Tokyo is the capital of Japan and one of the most populated cities in the world.</p>\n",
      "</div>\n",
      "</body>\n",
      "</html>\n"
     ]
    }
   ],
   "source": [
    "text = r.text\n",
    "print(text)"
   ]
  },
  {
   "cell_type": "code",
   "execution_count": 9,
   "metadata": {},
   "outputs": [
    {
     "data": {
      "text/plain": [
       "<!DOCTYPE html>\n",
       "\n",
       "<html>\n",
       "<head>\n",
       "<style>\n",
       "div.cities {\n",
       "    background-color:black;\n",
       "    color:white;\n",
       "    margin:20px;\n",
       "    padding:20px;\n",
       "} \n",
       "</style>\n",
       "</head>\n",
       "<body>\n",
       "<h1 align=\"center\"> Here are three big cities </h1>\n",
       "<div class=\"cities\">\n",
       "<h2>London</h2>\n",
       "<p>London is the capital of England and it's been a British settlement since 2000 years ago. </p>\n",
       "</div>\n",
       "<div class=\"cities\">\n",
       "<h2>Paris</h2>\n",
       "<p>Paris is the capital city of France. It was declared capital since 508.</p>\n",
       "</div>\n",
       "<div class=\"cities\">\n",
       "<h2>Tokyo</h2>\n",
       "<p>Tokyo is the capital of Japan and one of the most populated cities in the world.</p>\n",
       "</div>\n",
       "</body>\n",
       "</html>"
      ]
     },
     "execution_count": 9,
     "metadata": {},
     "output_type": "execute_result"
    }
   ],
   "source": [
    "soup = BeautifulSoup(text,'html.parser')\n",
    "soup"
   ]
  },
  {
   "cell_type": "code",
   "execution_count": 10,
   "metadata": {},
   "outputs": [
    {
     "data": {
      "text/plain": [
       "bs4.BeautifulSoup"
      ]
     },
     "execution_count": 10,
     "metadata": {},
     "output_type": "execute_result"
    }
   ],
   "source": [
    "type(soup)"
   ]
  },
  {
   "cell_type": "code",
   "execution_count": 11,
   "metadata": {},
   "outputs": [
    {
     "data": {
      "text/plain": [
       "[<h2>London</h2>, <h2>Paris</h2>, <h2>Tokyo</h2>]"
      ]
     },
     "execution_count": 11,
     "metadata": {},
     "output_type": "execute_result"
    }
   ],
   "source": [
    "soup.find_all('h2')"
   ]
  },
  {
   "cell_type": "code",
   "execution_count": 12,
   "metadata": {},
   "outputs": [
    {
     "data": {
      "text/plain": [
       "'London'"
      ]
     },
     "execution_count": 12,
     "metadata": {},
     "output_type": "execute_result"
    }
   ],
   "source": [
    "soup.find_all('h2')[0].text"
   ]
  },
  {
   "cell_type": "code",
   "execution_count": 13,
   "metadata": {},
   "outputs": [
    {
     "data": {
      "text/plain": [
       "['London', 'Paris', 'Tokyo']"
      ]
     },
     "execution_count": 13,
     "metadata": {},
     "output_type": "execute_result"
    }
   ],
   "source": [
    "cities = [i.text for i in soup.find_all('h2')]\n",
    "cities"
   ]
  },
  {
   "cell_type": "code",
   "execution_count": 14,
   "metadata": {},
   "outputs": [
    {
     "data": {
      "text/plain": [
       "[<p>London is the capital of England and it's been a British settlement since 2000 years ago. </p>,\n",
       " <p>Paris is the capital city of France. It was declared capital since 508.</p>,\n",
       " <p>Tokyo is the capital of Japan and one of the most populated cities in the world.</p>]"
      ]
     },
     "execution_count": 14,
     "metadata": {},
     "output_type": "execute_result"
    }
   ],
   "source": [
    "soup.find_all('p')"
   ]
  },
  {
   "cell_type": "code",
   "execution_count": 15,
   "metadata": {},
   "outputs": [
    {
     "data": {
      "text/plain": [
       "[\"London is the capital of England and it's been a British settlement since 2000 years ago. \",\n",
       " 'Paris is the capital city of France. It was declared capital since 508.',\n",
       " 'Tokyo is the capital of Japan and one of the most populated cities in the world.']"
      ]
     },
     "execution_count": 15,
     "metadata": {},
     "output_type": "execute_result"
    }
   ],
   "source": [
    "desc = [i.text for i in soup.find_all('p')]\n",
    "desc"
   ]
  },
  {
   "cell_type": "code",
   "execution_count": 16,
   "metadata": {},
   "outputs": [
    {
     "data": {
      "text/html": [
       "<div>\n",
       "<style scoped>\n",
       "    .dataframe tbody tr th:only-of-type {\n",
       "        vertical-align: middle;\n",
       "    }\n",
       "\n",
       "    .dataframe tbody tr th {\n",
       "        vertical-align: top;\n",
       "    }\n",
       "\n",
       "    .dataframe thead th {\n",
       "        text-align: right;\n",
       "    }\n",
       "</style>\n",
       "<table border=\"1\" class=\"dataframe\">\n",
       "  <thead>\n",
       "    <tr style=\"text-align: right;\">\n",
       "      <th></th>\n",
       "      <th>Cities</th>\n",
       "      <th>Description</th>\n",
       "    </tr>\n",
       "  </thead>\n",
       "  <tbody>\n",
       "    <tr>\n",
       "      <th>0</th>\n",
       "      <td>London</td>\n",
       "      <td>London is the capital of England and it's been...</td>\n",
       "    </tr>\n",
       "    <tr>\n",
       "      <th>1</th>\n",
       "      <td>Paris</td>\n",
       "      <td>Paris is the capital city of France. It was de...</td>\n",
       "    </tr>\n",
       "    <tr>\n",
       "      <th>2</th>\n",
       "      <td>Tokyo</td>\n",
       "      <td>Tokyo is the capital of Japan and one of the m...</td>\n",
       "    </tr>\n",
       "  </tbody>\n",
       "</table>\n",
       "</div>"
      ],
      "text/plain": [
       "   Cities                                        Description\n",
       "0  London  London is the capital of England and it's been...\n",
       "1   Paris  Paris is the capital city of France. It was de...\n",
       "2   Tokyo  Tokyo is the capital of Japan and one of the m..."
      ]
     },
     "execution_count": 16,
     "metadata": {},
     "output_type": "execute_result"
    }
   ],
   "source": [
    "df = pd.DataFrame({'Cities': cities,'Description':desc})\n",
    "df"
   ]
  },
  {
   "cell_type": "code",
   "execution_count": 20,
   "metadata": {},
   "outputs": [],
   "source": [
    "curr_page = 1\n",
    "product = 'smart phones'\n",
    "url = \"https://www.flipkart.com/search?q=\""
   ]
  },
  {
   "cell_type": "code",
   "execution_count": 21,
   "metadata": {},
   "outputs": [],
   "source": [
    "headers = {\n",
    "    'User-Agent': 'Mozilla/5.0 (Windows NT 6.1; Win64; x64) AppleWebKit/537.36 (KHTML, like Gecko) Chrome/91.0.4472.101 Safari/537.36',\n",
    "    'Accept': 'text/html,application/xhtml+xml,application/xml;q=0.9,image/avif,image/webp,image/apng,*/*;q=0.8,application/signed-exchange;v=b3;q=0.9'\n",
    "}"
   ]
  },
  {
   "cell_type": "code",
   "execution_count": 23,
   "metadata": {},
   "outputs": [
    {
     "data": {
      "text/plain": [
       "'https://www.flipkart.com/search?q=smart+phones&page=1'"
      ]
     },
     "execution_count": 23,
     "metadata": {},
     "output_type": "execute_result"
    }
   ],
   "source": [
    "query_url= url + '+'.join(product.split()) + '&page={}'.format(curr_page)\n",
    "query_url"
   ]
  },
  {
   "cell_type": "code",
   "execution_count": 24,
   "metadata": {},
   "outputs": [
    {
     "data": {
      "text/plain": [
       "200"
      ]
     },
     "execution_count": 24,
     "metadata": {},
     "output_type": "execute_result"
    }
   ],
   "source": [
    "r = requests.get(query_url,headers) \n",
    "r.status_code"
   ]
  },
  {
   "cell_type": "code",
   "execution_count": 25,
   "metadata": {},
   "outputs": [],
   "source": [
    "text = r.text\n",
    "soup = BeautifulSoup(text,'html.parser')"
   ]
  },
  {
   "cell_type": "code",
   "execution_count": 138,
   "metadata": {},
   "outputs": [],
   "source": [
    "result_page = soup.find_all('div',{'class':'_1YokD2 _3Mn1Gg'})[1]\n"
   ]
  },
  {
   "cell_type": "code",
   "execution_count": 40,
   "metadata": {},
   "outputs": [],
   "source": [
    "titles = [i.text for i in result_page.find_all('div',{'class':'_4rR01T'})]"
   ]
  },
  {
   "cell_type": "code",
   "execution_count": 30,
   "metadata": {},
   "outputs": [
    {
     "data": {
      "text/plain": [
       "['realme C21 (Cross Black, 64 GB)',\n",
       " 'realme C21 (Cross Black, 32 GB)',\n",
       " 'realme C21 (Cross Blue, 64 GB)',\n",
       " 'realme C20 (Cool Blue, 32 GB)',\n",
       " 'realme C20 (Cool Grey, 32 GB)',\n",
       " 'REDMI 9i (Midnight Black, 64 GB)',\n",
       " 'POCO M3 (Power Black, 64 GB)',\n",
       " 'realme Narzo 30A (Laser Black, 32 GB)',\n",
       " 'realme Narzo 30A (Laser Blue, 32 GB)',\n",
       " 'realme Narzo 30A (Laser Black, 64 GB)',\n",
       " 'REDMI 9 Power (Electric Green, 64 GB)',\n",
       " 'POCO M3 (Cool Blue, 64 GB)',\n",
       " 'Infinix Smart 5 (Morandi Green, 32 GB)',\n",
       " 'Infinix Smart 5 (Obsidian Black, 32 GB)',\n",
       " 'Infinix Smart 5 (7° Purple, 32 GB)',\n",
       " 'Infinix Smart 5 (Aegean Blue, 32 GB)',\n",
       " 'realme C12 (Power Silver, 32 GB)',\n",
       " 'REDMI 9i (Nature Green, 64 GB)',\n",
       " 'realme C12 (Power Blue, 32 GB)',\n",
       " 'GIONEE Max (Red, 32 GB)',\n",
       " 'REDMI 9i (Sea Blue, 64 GB)',\n",
       " 'SAMSUNG Galaxy F12 (Sky Blue, 64 GB)',\n",
       " 'SAMSUNG Galaxy F41 (Fusion Blue, 128 GB)',\n",
       " 'GIONEE Max (Black, 32 GB)']"
      ]
     },
     "execution_count": 30,
     "metadata": {},
     "output_type": "execute_result"
    }
   ],
   "source": [
    "titles"
   ]
  },
  {
   "cell_type": "code",
   "execution_count": 86,
   "metadata": {},
   "outputs": [
    {
     "data": {
      "text/plain": [
       "[8999,\n",
       " 7999,\n",
       " 8999,\n",
       " 6799,\n",
       " 6799,\n",
       " 7999,\n",
       " 10999,\n",
       " 7999,\n",
       " 7999,\n",
       " 8999,\n",
       " 10499,\n",
       " 10999,\n",
       " 6799,\n",
       " 6799,\n",
       " 6799,\n",
       " 6799,\n",
       " 7999,\n",
       " 7999,\n",
       " 7999,\n",
       " 5499,\n",
       " 7999,\n",
       " 9999,\n",
       " 14499,\n",
       " 5499]"
      ]
     },
     "execution_count": 86,
     "metadata": {},
     "output_type": "execute_result"
    }
   ],
   "source": [
    "disc_price = [int(('').join(i.text[1:].split(','))) for i in result_page.find_all('div',{'class':'_30jeq3 _1_WHN1'})]\n",
    "disc_price"
   ]
  },
  {
   "cell_type": "code",
   "execution_count": 87,
   "metadata": {},
   "outputs": [
    {
     "data": {
      "text/plain": [
       "['4.4',\n",
       " '4.4',\n",
       " '4.4',\n",
       " '4.3',\n",
       " '4.3',\n",
       " '4.3',\n",
       " '4.3',\n",
       " '4.4',\n",
       " '4.4',\n",
       " '4.4',\n",
       " '4.3',\n",
       " '4.3',\n",
       " '4.4',\n",
       " '4.4',\n",
       " '4.4',\n",
       " '4.4',\n",
       " '4.4',\n",
       " '4.3',\n",
       " '4.4',\n",
       " '4.1',\n",
       " '4.3',\n",
       " '4.2',\n",
       " '4.3',\n",
       " '4.1']"
      ]
     },
     "execution_count": 87,
     "metadata": {},
     "output_type": "execute_result"
    }
   ],
   "source": [
    "avg_rating = [i.text for i in result_page.find_all('div',{'class':'_3LWZlK'})]\n",
    "avg_rating"
   ]
  },
  {
   "cell_type": "code",
   "execution_count": 32,
   "metadata": {},
   "outputs": [
    {
     "data": {
      "text/plain": [
       "[['40,304 Ratings', '2,829 Reviews'],\n",
       " ['14,612 Ratings', '833 Reviews'],\n",
       " ['2,01,965 Ratings', '19,621 Reviews'],\n",
       " ['14,612 Ratings', '833 Reviews'],\n",
       " ['39,493 Ratings', '3,306 Reviews'],\n",
       " ['3,537 Ratings', '445 Reviews'],\n",
       " ['24,610 Ratings', '2,232 Reviews'],\n",
       " ['2,01,965 Ratings', '19,621 Reviews'],\n",
       " ['2,844 Ratings', '161 Reviews'],\n",
       " ['2,300 Ratings', '138 Reviews'],\n",
       " ['8,753 Ratings', '953 Reviews'],\n",
       " ['11,485 Ratings', '709 Reviews'],\n",
       " ['15,481 Ratings', '1,863 Reviews'],\n",
       " ['8,443 Ratings', '880 Reviews'],\n",
       " ['15,481 Ratings', '1,863 Reviews'],\n",
       " ['20,003 Ratings', '1,859 Reviews'],\n",
       " ['3,14,520 Ratings', '17,875 Reviews'],\n",
       " ['3,75,944 Ratings', '28,293 Reviews'],\n",
       " ['617 Ratings', '52 Reviews'],\n",
       " ['617 Ratings', '52 Reviews'],\n",
       " ['268 Ratings', '21 Reviews'],\n",
       " ['617 Ratings', '52 Reviews'],\n",
       " ['268 Ratings', '21 Reviews'],\n",
       " ['20,886 Ratings', '1,809 Reviews']]"
      ]
     },
     "execution_count": 32,
     "metadata": {},
     "output_type": "execute_result"
    }
   ],
   "source": [
    "total_ratings = [i.text.split('\\xa0&\\xa0') for i in result_page.find_all('span',{'class':'_2_R_DZ'})]\n",
    "total_ratings"
   ]
  },
  {
   "cell_type": "code",
   "execution_count": 33,
   "metadata": {},
   "outputs": [
    {
     "data": {
      "text/plain": [
       "[2829,\n",
       " 833,\n",
       " 19621,\n",
       " 833,\n",
       " 3306,\n",
       " 445,\n",
       " 2232,\n",
       " 19621,\n",
       " 161,\n",
       " 138,\n",
       " 953,\n",
       " 709,\n",
       " 1863,\n",
       " 880,\n",
       " 1863,\n",
       " 1859,\n",
       " 17875,\n",
       " 28293,\n",
       " 52,\n",
       " 52,\n",
       " 21,\n",
       " 52,\n",
       " 21,\n",
       " 1809]"
      ]
     },
     "execution_count": 33,
     "metadata": {},
     "output_type": "execute_result"
    }
   ],
   "source": [
    "reviews = [int(''.join(i.text.split('\\xa0&\\xa0')[1].split(' ')[0].split(','))) for i in result_page.find_all('span',{'class':'_2_R_DZ'})]\n",
    "reviews"
   ]
  },
  {
   "cell_type": "code",
   "execution_count": 61,
   "metadata": {},
   "outputs": [
    {
     "data": {
      "text/plain": [
       "['2 GB RAM | 32 GB ROM | Expandable Upto 256 GB15.8 cm (6.22 inch) HD+ Display13MP Rear Camera | 5MP Front Camera4030 mAh Li-ion BatteryMTK Helio P22 ProcessorBrand Warranty of 1 Year Available for Mobile and 6 Months for Accessories',\n",
       " '4 GB RAM | 64 GB ROM16.59 cm (6.53 inch) HD+ Display13MP + 2MP | 5MP Front Camera5000 mAh BatteryMediaTek Helio G35 Processor1 year manufacturer warranty for device and 6 months manufacturer warranty for in-box accessories including batteries from the date of purchase',\n",
       " '6 GB RAM | 64 GB ROM | Expandable Upto 512 GB16.94 cm (6.67 inch) Full HD+ Display64MP + 13MP + 2MP + 2MP | 20MP Front Camera6000 mAh Lithium-ion Polymer BatteryQualcomm Snapdragon 732G Processor1 Year for Handset and 6 Months for Accessories',\n",
       " '4 GB RAM | 64 GB ROM16.59 cm (6.53 inch) HD+ Display13MP + 8MP | 5MP Front Camera5000 mAh BatteryMediaTek Helio G35 Processor1 year manufacturer warranty for device and 6 months manufacturer warranty for in-box accessories including batteries from the date of purchase',\n",
       " '4 GB RAM | 64 GB ROM | Expandable Upto 512 GB16.55 cm (6.515 inch) HD+ Display48MP + 5MP + 2MP + 2MP | 8MP Front Camera6000 mAh Lithium-ion BatteryExynos 850 Processor1 Year Warranty Provided by the Manufacturer from Date of Purchase',\n",
       " '6 GB RAM | 128 GB ROM17.22 cm (6.78 inch) Full HD+ Display64MP + 8MP + 2MP | 16MP Front Camera6000 mAh BatteryQualcomm Snapdragon 732G Processor120Hz Refresh RateStock Android Experience1 Year on Handset and 6 Months on Accessories',\n",
       " '4 GB RAM | 64 GB ROM | Expandable Upto 1 TB16.54 cm (6.51 inch) HD+ Display13MP + 2MP | 5MP Front Camera5000 mAh BatteryMediaTek Helio G25 Processor1 Year on Handset and 6 Months on Accessories',\n",
       " '6 GB RAM | 128 GB ROM | Expandable Upto 512 GB16.94 cm (6.67 inch) Full HD+ Display64MP + 13MP + 2MP + 2MP | 20MP Front Camera6000 mAh Lithium-ion Polymer BatteryQualcomm Snapdragon 732G Processor1 Year for Handset and 6 Months for Accessories',\n",
       " '4 GB RAM | 64 GB ROM | Expandable Upto 1 TB16.54 cm (6.51 inch) HD+ Display13MP + 2MP + 2MP | 8MP Front Camera5000 mAh Li-ion BatteryMediaTek Helio G80 Processor1 Year for Handset and 6 Months for In-box Accessories',\n",
       " '6 GB RAM | 128 GB ROM | Expandable Upto 1 TB16.54 cm (6.51 inch) HD+ Display13MP + 2MP + 2MP | 8MP Front Camera5000 mAh Li-ion BatteryMediaTek Helio G80 Processor1 Year for Handset and 6 Months for In-box Accessories',\n",
       " '6 GB RAM | 128 GB ROM17.22 cm (6.78 inch) Full HD+ Display108MP + 8MP + 2MP | 32MP Front Camera6000 mAh BatteryQualcomm Snapdragon 732G Processor120Hz Refresh RateStock Android Experience1 Year on Handset and 6 Months on Accessories',\n",
       " '4 GB RAM | 128 GB ROM | Expandable Upto 256 GB16.43 cm (6.47 inch) HD+ Display13MP + 8MP + 2MP + 2MP | 8MP Front Camera5000 mAh Lithium-ion BatteryMediaTek Helio P35 Processor1 Year for Device and 6 Months for In-box Accessories',\n",
       " '8 GB RAM | 128 GB ROM | Expandable Upto 1 TB17.02 cm (6.7 inch) Full HD+ Display64MP + 12MP + 5MP + 5MP | 32MP Front Camera7000 mAh Lithium-ion BatteryExynos 9825 Processor1 Year Warranty Provided by the Manufacturer from Date of Purchase',\n",
       " '8 GB RAM | 128 GB ROM | Expandable Upto 1 TB16.94 cm (6.67 inch) Full HD+ Display48MP + 8MP + 2MP + 2MP | 20MP Front Camera5160 mAh Lithium-ion Polymer BatteryQualcomm Snapdragon 860 ProcessorMultiple Hands-free Voice AssistantsOne Year Warranty for Handset, 6 Months for Accessories',\n",
       " '8 GB RAM | 128 GB ROM | Expandable Upto 1 TB17.02 cm (6.7 inch) Full HD+ Display64MP + 12MP + 5MP + 5MP | 32MP Front Camera7000 mAh Lithium-ion BatteryExynos 9825 Processor1 Year Warranty Provided by the Manufacturer from Date of Purchase',\n",
       " '6 GB RAM | 128 GB ROM | Expandable Upto 1 TB16.94 cm (6.67 inch) Full HD+ Display48MP + 8MP + 2MP + 2MP | 20MP Front Camera5160 mAh Lithium-ion Polymer BatteryQualcomm Snapdragon 860 ProcessorMultiple Hands-free Voice AssistantsOne Year Warranty for Handset, 6 Months for Accessories',\n",
       " '4 GB RAM | 128 GB ROM | Expandable Upto 512 GB16.59 cm (6.53 inch) HD+ Display13MP Rear Camera | 5MP Front Camera5000 mAh Lithium Polymer BatteryMediaTek Helio G25 ProcessorBrand Warranty of 1 Year Available for Mobile and 6 Months for Accessories',\n",
       " '6 GB RAM | 64 GB ROM | Expandable Upto 512 GB16.59 cm (6.53 inch) Full HD+ Display13MP + 8MP + 5MP + 2MP | 8MP Front Camera5000 mAh Lithium Polymer BatteryMediaTek Helio G80 Processor1 Year for Handset, 6 Months for Accessories',\n",
       " '2 GB RAM | 32 GB ROM | Expandable Upto 32 GB12.7 cm (5 inch) HD Display5MP Rear Camera | 2MP Front Camera3020 mAh Lithium-ion BatteryUnisoc 9832E Quad Core Processor100 Days Replacement within 1 Year Warranty on Mobile Device and 6 Months on Accessories',\n",
       " '2 GB RAM | 32 GB ROM | Expandable Upto 32 GB12.7 cm (5 inch) HD Display5MP Rear Camera | 2MP Front Camera3020 mAh Lithium-ion BatteryUnisoc 9832E Quad Core Processor100 Days Replacement within 1 Year Warranty on Mobile Device and 6 Months on Accessories',\n",
       " '4 GB RAM | 64 GB ROM | Expandable Upto 256 GB16.51 cm (6.5 inch) HD+ Display13MP + 2MP + 2MP | 8MP Front Camera6000 mAh BatteryMediaTek Helio G85 Processor1 Year Warranty for Mobile and 6 Months for Accessories',\n",
       " '2 GB RAM | 32 GB ROM | Expandable Upto 32 GB12.7 cm (5 inch) HD Display5MP Rear Camera | 2MP Front Camera3020 mAh Lithium-ion BatteryUnisoc 9832E Quad Core Processor100 Days Replacement within 1 Year Warranty on Mobile Device and 6 Months on Accessories',\n",
       " '4 GB RAM | 128 GB ROM | Expandable Upto 256 GB16.51 cm (6.5 inch) HD+ Display13MP + 2MP + 2MP | 8MP Front Camera6000 mAh BatteryMediaTek Helio G85 Processor1 Year Warranty for Mobile and 6 Months for Accessories',\n",
       " '3 GB RAM | 32 GB ROM | Expandable Upto 128 GB15.46 cm (6.088 inch) HD+ Display8MP + 0.3MP | 5MP Front Camera4000 mAh Lithium-ion Polymer BatteryUnisoc SC9863A Octa Core Processor1 Year on Handset with 100 Days Replacement']"
      ]
     },
     "execution_count": 61,
     "metadata": {},
     "output_type": "execute_result"
    }
   ],
   "source": [
    "features = [i.text for i in result_page.find_all('div',{'class':'fMghEO'})]\n",
    "features"
   ]
  },
  {
   "cell_type": "code",
   "execution_count": 155,
   "metadata": {
    "scrolled": true
   },
   "outputs": [
    {
     "data": {
      "text/plain": [
       "[17927,\n",
       " 18990,\n",
       " 52900,\n",
       " 7999,\n",
       " 7999,\n",
       " 7999,\n",
       " 13999,\n",
       " 13990,\n",
       " 16999,\n",
       " 17999,\n",
       " 12999,\n",
       " 25999,\n",
       " 15999,\n",
       " 5975,\n",
       " 11999,\n",
       " 25990,\n",
       " 25990,\n",
       " 25990,\n",
       " 22999,\n",
       " 13999,\n",
       " 29999]"
      ]
     },
     "execution_count": 155,
     "metadata": {},
     "output_type": "execute_result"
    }
   ],
   "source": [
    "original_price = [int((\"\").join(i.text[1:].split(','))) for i in result_page.find_all('div',{'class':'_3I9_wc _27UcVY'})]\n",
    "original_price"
   ]
  },
  {
   "cell_type": "code",
   "execution_count": 90,
   "metadata": {},
   "outputs": [],
   "source": [
    "df = pd.DataFrame({'title':titles,'disc_price':disc_price,'avg_rating':avg_rating})"
   ]
  },
  {
   "cell_type": "code",
   "execution_count": 85,
   "metadata": {},
   "outputs": [
    {
     "data": {
      "text/html": [
       "<div>\n",
       "<style scoped>\n",
       "    .dataframe tbody tr th:only-of-type {\n",
       "        vertical-align: middle;\n",
       "    }\n",
       "\n",
       "    .dataframe tbody tr th {\n",
       "        vertical-align: top;\n",
       "    }\n",
       "\n",
       "    .dataframe thead th {\n",
       "        text-align: right;\n",
       "    }\n",
       "</style>\n",
       "<table border=\"1\" class=\"dataframe\">\n",
       "  <thead>\n",
       "    <tr style=\"text-align: right;\">\n",
       "      <th></th>\n",
       "      <th>title</th>\n",
       "      <th>price</th>\n",
       "      <th>avg_rating</th>\n",
       "    </tr>\n",
       "  </thead>\n",
       "  <tbody>\n",
       "    <tr>\n",
       "      <th>0</th>\n",
       "      <td>realme C21 (Cross Black, 64 GB)</td>\n",
       "      <td>₹8,999</td>\n",
       "      <td>4.4</td>\n",
       "    </tr>\n",
       "    <tr>\n",
       "      <th>1</th>\n",
       "      <td>realme C21 (Cross Black, 32 GB)</td>\n",
       "      <td>₹7,999</td>\n",
       "      <td>4.4</td>\n",
       "    </tr>\n",
       "    <tr>\n",
       "      <th>2</th>\n",
       "      <td>realme C21 (Cross Blue, 64 GB)</td>\n",
       "      <td>₹8,999</td>\n",
       "      <td>4.4</td>\n",
       "    </tr>\n",
       "    <tr>\n",
       "      <th>3</th>\n",
       "      <td>realme C20 (Cool Blue, 32 GB)</td>\n",
       "      <td>₹6,799</td>\n",
       "      <td>4.3</td>\n",
       "    </tr>\n",
       "    <tr>\n",
       "      <th>4</th>\n",
       "      <td>realme C20 (Cool Grey, 32 GB)</td>\n",
       "      <td>₹6,799</td>\n",
       "      <td>4.3</td>\n",
       "    </tr>\n",
       "  </tbody>\n",
       "</table>\n",
       "</div>"
      ],
      "text/plain": [
       "                             title   price avg_rating\n",
       "0  realme C21 (Cross Black, 64 GB)  ₹8,999        4.4\n",
       "1  realme C21 (Cross Black, 32 GB)  ₹7,999        4.4\n",
       "2   realme C21 (Cross Blue, 64 GB)  ₹8,999        4.4\n",
       "3    realme C20 (Cool Blue, 32 GB)  ₹6,799        4.3\n",
       "4    realme C20 (Cool Grey, 32 GB)  ₹6,799        4.3"
      ]
     },
     "execution_count": 85,
     "metadata": {},
     "output_type": "execute_result"
    }
   ],
   "source": [
    "df.head()"
   ]
  },
  {
   "cell_type": "code",
   "execution_count": null,
   "metadata": {},
   "outputs": [],
   "source": []
  },
  {
   "cell_type": "code",
   "execution_count": null,
   "metadata": {},
   "outputs": [],
   "source": []
  },
  {
   "cell_type": "code",
   "execution_count": null,
   "metadata": {},
   "outputs": [],
   "source": []
  },
  {
   "cell_type": "code",
   "execution_count": null,
   "metadata": {
    "scrolled": true
   },
   "outputs": [],
   "source": []
  },
  {
   "cell_type": "code",
   "execution_count": null,
   "metadata": {},
   "outputs": [],
   "source": []
  }
 ],
 "metadata": {
  "kernelspec": {
   "display_name": "Python 3",
   "language": "python",
   "name": "python3"
  },
  "language_info": {
   "codemirror_mode": {
    "name": "ipython",
    "version": 3
   },
   "file_extension": ".py",
   "mimetype": "text/x-python",
   "name": "python",
   "nbconvert_exporter": "python",
   "pygments_lexer": "ipython3",
   "version": "3.7.4"
  }
 },
 "nbformat": 4,
 "nbformat_minor": 2
}
