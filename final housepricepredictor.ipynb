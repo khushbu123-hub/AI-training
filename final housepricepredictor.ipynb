{
 "cells": [
  {
   "cell_type": "code",
   "execution_count": 1,
   "id": "12c6225e-3e67-42da-8071-d3a939bf81af",
   "metadata": {},
   "outputs": [],
   "source": [
    "import pandas as pd\n",
    "import tkinter as tk\n",
    "import warnings \n",
    "warnings.filterwarnings('ignore')"
   ]
  },
  {
   "cell_type": "code",
   "execution_count": 3,
   "id": "69dd8264-63b5-4a22-b3fd-3726836183c3",
   "metadata": {},
   "outputs": [],
   "source": [
    "model=pd.read_pickle('HousePricePredicctor')"
   ]
  },
  {
   "cell_type": "code",
   "execution_count": 21,
   "id": "f0f96baf-ae83-4c38-a1a8-e8878d6882eb",
   "metadata": {},
   "outputs": [],
   "source": [
    "import math\n",
    "app=tk.Tk()#one app is requires\n",
    "app.title('House predictor')\n",
    "app.geometry('450x300')\n",
    "tk.Label(app,text=\"Income:\",bg='midnightblue',fg='white').place(x=25,y=30)\n",
    "tk.Label(app,text=\"House age:\",bg='midnightblue',fg='white').place(x=25,y=60)\n",
    "tk.Label(app,text=\"No of rooms:\",bg='midnightblue',fg='white').place(x=25,y=90)\n",
    "tk.Label(app,text=\"Area population:\",bg='midnightblue',fg='white').place(x=25,y=120)\n",
    "tk.Label(app,text=\"House price:\",bg='midnightblue',fg='white',font=(\"Helvetica\",15,\"bold\")).place(x=25,y=220)\n",
    "\n",
    "areaincome=tk.Variable(app)#for empty box\n",
    "tk.Entry(app,textvariable=areaincome,width=30,bg='lightgrey').place(x=180,y=30)\n",
    "houseage=tk.Variable(app)\n",
    "tk.Entry(app,textvariable=houseage,width=30,bg='lightgrey').place(x=180,y=60)\n",
    "noofrooms=tk.Variable(app)\n",
    "tk.Entry(app,textvariable=noofrooms,width=30,bg='lightgrey').place(x=180,y=90)\n",
    "areapopulation=tk.Variable(app)\n",
    "tk.Entry(app,textvariable=areapopulation,width=30,bg='lightgrey').place(x=180,y=120)\n",
    "\n",
    "recommend_var=tk.Variable(app)\n",
    "tk.Label(app,textvariable=recommend_var,width=30,bg=\"lightgrey\",font=('Helvetica',15,'bold')).place(x=180,y=220)\n",
    "\n",
    "def find_command():\n",
    "    a=areaincome.get()#for taking the input\n",
    "    b=houseage.get()\n",
    "    c=noofrooms.get()\n",
    "    d=areapopulation.get()\n",
    "    query = pd.DataFrame({'Avg. Area Income':[a],'Avg. Area House Age':[b],\n",
    "                      'Avg. Area Number of Rooms':[c],'Area Population':[d]})  \n",
    "    e=model.predict(query)[0]\n",
    "    recommend_var.set(\"{0:.1f}$\".format(e))\n",
    "    areaincome.set('')\n",
    "    houseage.set('')\n",
    "    noofrooms.set('')\n",
    "    areapopulation.set('')\n",
    "\n",
    "tk.Button(app,text='Find Prediction',command=find_command,bg='red').place(x=120,y=165)\n",
    "app.mainloop()"
   ]
  },
  {
   "cell_type": "code",
   "execution_count": null,
   "id": "51b0d3c8-9864-45d8-a86f-e4128bc646a0",
   "metadata": {},
   "outputs": [],
   "source": []
  },
  {
   "cell_type": "code",
   "execution_count": null,
   "id": "364677ff-20bd-446d-99f5-8408020cda9b",
   "metadata": {},
   "outputs": [],
   "source": []
  }
 ],
 "metadata": {
  "kernelspec": {
   "display_name": "Python 3",
   "language": "python",
   "name": "python3"
  },
  "language_info": {
   "codemirror_mode": {
    "name": "ipython",
    "version": 3
   },
   "file_extension": ".py",
   "mimetype": "text/x-python",
   "name": "python",
   "nbconvert_exporter": "python",
   "pygments_lexer": "ipython3",
   "version": "3.8.8"
  }
 },
 "nbformat": 4,
 "nbformat_minor": 5
}
