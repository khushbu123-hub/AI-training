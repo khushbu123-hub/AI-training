{
 "cells": [
  {
   "cell_type": "code",
   "execution_count": 48,
   "id": "3f4f29df-81be-46bc-b229-a78ffc50685b",
   "metadata": {},
   "outputs": [],
   "source": [
    "import tkinter as tk\n",
    "import pandas as pd\n",
    "app=tk.Tk()\n",
    "app.title('Campus Recruitment Model')\n",
    "app.geometry('550x380')\n",
    "tk.Label(app,text=\"10th Percentage : \",font=(\"calibri\", 12,'bold'),bg='white',fg='black').place(x=80,y=80)\n",
    "tk.Label(app,text=\"12th Percentage : \",font=(\"calibri\", 12,'bold'),bg='white',fg='black').place(x=80,y=120)\n",
    "tk.Label(app,text=\"Degree Percentage : \",font=(\"calibri\", 12,'bold'),bg='white',fg='black').place(x=80,y=160)\n",
    "tk.Label(app,text=\"Specialisation in : \",font=(\"calibri\", 12,'bold'),bg='white',fg='black').place(x=80,y=200)\n",
    "\n",
    "title =tk.Label(app, text=\"Campus Recruitment System\", font=(\"ariel\", 15, \"bold\"), bg='white',\n",
    "                      fg=\"black\").place(x=50, y=20, width=400, height=30)\n",
    "ssc_p_var =tk.Variable(app)\n",
    "tk.Entry(app,textvariable= ssc_p_var,width=25,bd=3).place(x=250,y=80)\n",
    "\n",
    "hsc_p_var = tk.Variable(app)\n",
    "tk.Entry(app,textvariable= hsc_p_var,width=25,bd=3).place(x=250,y=120)\n",
    "\n",
    "degree_p_var = tk.Variable(app)\n",
    "tk.Entry(app,textvariable= degree_p_var,width=25,bd=3).place(x=250,y=160)\n",
    "\n",
    "spec_var = tk.Variable(app)\n",
    "tk.Entry(app,textvariable= spec_var,width=25,bd=3).place(x=250,y=200)\n",
    "\n",
    "status_var = tk.Variable(app)\n",
    "tk.Label(app,text=\"Status : \",font=(\"calibri\", 12,'bold'),bg='white',fg='black').place(x=80,y=280)\n",
    "tk.Label(app,textvariable=status_var,font=(\"calibri\", 10, \"bold\"),bg='white').place(x=180,y=280)\n",
    "\n",
    "spec_var.set('Mkt&HR or Mkt&Fin .....')\n",
    "def calculate_price():\n",
    "    if(spec_var.get() == 'Mkt&HR'):\n",
    "        spec = 1\n",
    "    else:\n",
    "        spec = 0\n",
    "    query = pd.DataFrame({\n",
    "        'ssc_p':[ssc_p_var.get()],\n",
    "        'hsc_p':[hsc_p_var.get()],\n",
    "        'degree_p':[degree_p_var.get()],\n",
    "        'Specialisation': [spec]\n",
    "    })\n",
    "    \n",
    "    model = pd.read_pickle('Campus Recruitment')\n",
    "    if(model.predict(query)[0] == 1):\n",
    "        status_var.set(\"Congratulations! You're are Selected\")\n",
    "    else:\n",
    "        status_var.set('Sorry better luck next time')\n",
    "def Clear():\n",
    "    ssc_p_var.set('')\n",
    "    hsc_p_var.set('')\n",
    "    degree_p_var.set('')\n",
    "    spec_var.set('Mkt&HR or Mkt&Fin .....')\n",
    "    status_var.set('')\n",
    "    \n",
    "tk.Button(app,text='See Your Result',command = calculate_price,bg='black',fg='white',font=('Calibri',12,'bold')).place(x=160,y=330)\n",
    "tk.Button(app,text='Clear',width=10,command = Clear,bg='black',fg='white',font=('Calibri',12,'bold')).place(x=300,y=330)\n",
    "app.mainloop()"
   ]
  },
  {
   "cell_type": "code",
   "execution_count": null,
   "id": "c6eeca1a-0eec-43b1-9e76-2444b53542f3",
   "metadata": {},
   "outputs": [],
   "source": []
  },
  {
   "cell_type": "code",
   "execution_count": null,
   "id": "18f3846f-edb0-4a9c-ad6d-597d70fc4a6d",
   "metadata": {},
   "outputs": [],
   "source": []
  }
 ],
 "metadata": {
  "kernelspec": {
   "display_name": "Python 3",
   "language": "python",
   "name": "python3"
  },
  "language_info": {
   "codemirror_mode": {
    "name": "ipython",
    "version": 3
   },
   "file_extension": ".py",
   "mimetype": "text/x-python",
   "name": "python",
   "nbconvert_exporter": "python",
   "pygments_lexer": "ipython3",
   "version": "3.8.8"
  }
 },
 "nbformat": 4,
 "nbformat_minor": 5
}
