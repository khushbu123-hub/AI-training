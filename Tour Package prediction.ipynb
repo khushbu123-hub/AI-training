{
 "cells": [
  {
   "cell_type": "markdown",
   "metadata": {},
   "source": []
  },
  {
   "cell_type": "markdown",
   "metadata": {},
   "source": [
    "### Exploratory data Analysis of Tour Package data"
   ]
  },
  {
   "cell_type": "code",
   "execution_count": 1,
   "metadata": {},
   "outputs": [],
   "source": [
    "import pandas as pd\n",
    "import matplotlib.pyplot as plt\n",
    "%matplotlib inline\n",
    "import numpy as np\n",
    "import seaborn as sns\n",
    "import warnings \n",
    "warnings.filterwarnings('ignore')"
   ]
  },
  {
   "cell_type": "code",
   "execution_count": 2,
   "metadata": {},
   "outputs": [],
   "source": [
    "df= pd.read_csv('tour_package.csv')"
   ]
  },
  {
   "cell_type": "code",
   "execution_count": 3,
   "metadata": {},
   "outputs": [
    {
     "data": {
      "text/html": [
       "<div>\n",
       "<style scoped>\n",
       "    .dataframe tbody tr th:only-of-type {\n",
       "        vertical-align: middle;\n",
       "    }\n",
       "\n",
       "    .dataframe tbody tr th {\n",
       "        vertical-align: top;\n",
       "    }\n",
       "\n",
       "    .dataframe thead th {\n",
       "        text-align: right;\n",
       "    }\n",
       "</style>\n",
       "<table border=\"1\" class=\"dataframe\">\n",
       "  <thead>\n",
       "    <tr style=\"text-align: right;\">\n",
       "      <th></th>\n",
       "      <th>CustomerID</th>\n",
       "      <th>ProdTaken</th>\n",
       "      <th>Age</th>\n",
       "      <th>TypeofContact</th>\n",
       "      <th>CityTier</th>\n",
       "      <th>DurationOfPitch</th>\n",
       "      <th>Occupation</th>\n",
       "      <th>Gender</th>\n",
       "      <th>NumberOfPersonVisiting</th>\n",
       "      <th>NumberOfFollowups</th>\n",
       "      <th>ProductPitched</th>\n",
       "      <th>PreferredPropertyStar</th>\n",
       "      <th>MaritalStatus</th>\n",
       "      <th>NumberOfTrips</th>\n",
       "      <th>Passport</th>\n",
       "      <th>PitchSatisfactionScore</th>\n",
       "      <th>OwnCar</th>\n",
       "      <th>NumberOfChildrenVisiting</th>\n",
       "      <th>Designation</th>\n",
       "      <th>MonthlyIncome</th>\n",
       "    </tr>\n",
       "  </thead>\n",
       "  <tbody>\n",
       "    <tr>\n",
       "      <th>0</th>\n",
       "      <td>200000</td>\n",
       "      <td>1</td>\n",
       "      <td>41.0</td>\n",
       "      <td>Self Enquiry</td>\n",
       "      <td>3</td>\n",
       "      <td>6.0</td>\n",
       "      <td>Salaried</td>\n",
       "      <td>Female</td>\n",
       "      <td>3</td>\n",
       "      <td>3.0</td>\n",
       "      <td>Deluxe</td>\n",
       "      <td>3.0</td>\n",
       "      <td>Single</td>\n",
       "      <td>1.0</td>\n",
       "      <td>1</td>\n",
       "      <td>2</td>\n",
       "      <td>1</td>\n",
       "      <td>0.0</td>\n",
       "      <td>Manager</td>\n",
       "      <td>20993.0</td>\n",
       "    </tr>\n",
       "    <tr>\n",
       "      <th>1</th>\n",
       "      <td>200001</td>\n",
       "      <td>0</td>\n",
       "      <td>49.0</td>\n",
       "      <td>Company Invited</td>\n",
       "      <td>1</td>\n",
       "      <td>14.0</td>\n",
       "      <td>Salaried</td>\n",
       "      <td>Male</td>\n",
       "      <td>3</td>\n",
       "      <td>4.0</td>\n",
       "      <td>Deluxe</td>\n",
       "      <td>4.0</td>\n",
       "      <td>Divorced</td>\n",
       "      <td>2.0</td>\n",
       "      <td>0</td>\n",
       "      <td>3</td>\n",
       "      <td>1</td>\n",
       "      <td>2.0</td>\n",
       "      <td>Manager</td>\n",
       "      <td>20130.0</td>\n",
       "    </tr>\n",
       "    <tr>\n",
       "      <th>2</th>\n",
       "      <td>200002</td>\n",
       "      <td>1</td>\n",
       "      <td>37.0</td>\n",
       "      <td>Self Enquiry</td>\n",
       "      <td>1</td>\n",
       "      <td>8.0</td>\n",
       "      <td>Free Lancer</td>\n",
       "      <td>Male</td>\n",
       "      <td>3</td>\n",
       "      <td>4.0</td>\n",
       "      <td>Basic</td>\n",
       "      <td>3.0</td>\n",
       "      <td>Single</td>\n",
       "      <td>7.0</td>\n",
       "      <td>1</td>\n",
       "      <td>3</td>\n",
       "      <td>0</td>\n",
       "      <td>0.0</td>\n",
       "      <td>Executive</td>\n",
       "      <td>17090.0</td>\n",
       "    </tr>\n",
       "    <tr>\n",
       "      <th>3</th>\n",
       "      <td>200003</td>\n",
       "      <td>0</td>\n",
       "      <td>33.0</td>\n",
       "      <td>Company Invited</td>\n",
       "      <td>1</td>\n",
       "      <td>9.0</td>\n",
       "      <td>Salaried</td>\n",
       "      <td>Female</td>\n",
       "      <td>2</td>\n",
       "      <td>3.0</td>\n",
       "      <td>Basic</td>\n",
       "      <td>3.0</td>\n",
       "      <td>Divorced</td>\n",
       "      <td>2.0</td>\n",
       "      <td>1</td>\n",
       "      <td>5</td>\n",
       "      <td>1</td>\n",
       "      <td>1.0</td>\n",
       "      <td>Executive</td>\n",
       "      <td>17909.0</td>\n",
       "    </tr>\n",
       "    <tr>\n",
       "      <th>4</th>\n",
       "      <td>200004</td>\n",
       "      <td>0</td>\n",
       "      <td>NaN</td>\n",
       "      <td>Self Enquiry</td>\n",
       "      <td>1</td>\n",
       "      <td>8.0</td>\n",
       "      <td>Small Business</td>\n",
       "      <td>Male</td>\n",
       "      <td>2</td>\n",
       "      <td>3.0</td>\n",
       "      <td>Basic</td>\n",
       "      <td>4.0</td>\n",
       "      <td>Divorced</td>\n",
       "      <td>1.0</td>\n",
       "      <td>0</td>\n",
       "      <td>5</td>\n",
       "      <td>1</td>\n",
       "      <td>0.0</td>\n",
       "      <td>Executive</td>\n",
       "      <td>18468.0</td>\n",
       "    </tr>\n",
       "  </tbody>\n",
       "</table>\n",
       "</div>"
      ],
      "text/plain": [
       "   CustomerID  ProdTaken   Age    TypeofContact  CityTier  DurationOfPitch  \\\n",
       "0      200000          1  41.0     Self Enquiry         3              6.0   \n",
       "1      200001          0  49.0  Company Invited         1             14.0   \n",
       "2      200002          1  37.0     Self Enquiry         1              8.0   \n",
       "3      200003          0  33.0  Company Invited         1              9.0   \n",
       "4      200004          0   NaN     Self Enquiry         1              8.0   \n",
       "\n",
       "       Occupation  Gender  NumberOfPersonVisiting  NumberOfFollowups  \\\n",
       "0        Salaried  Female                       3                3.0   \n",
       "1        Salaried    Male                       3                4.0   \n",
       "2     Free Lancer    Male                       3                4.0   \n",
       "3        Salaried  Female                       2                3.0   \n",
       "4  Small Business    Male                       2                3.0   \n",
       "\n",
       "  ProductPitched  PreferredPropertyStar MaritalStatus  NumberOfTrips  \\\n",
       "0         Deluxe                    3.0        Single            1.0   \n",
       "1         Deluxe                    4.0      Divorced            2.0   \n",
       "2          Basic                    3.0        Single            7.0   \n",
       "3          Basic                    3.0      Divorced            2.0   \n",
       "4          Basic                    4.0      Divorced            1.0   \n",
       "\n",
       "   Passport  PitchSatisfactionScore  OwnCar  NumberOfChildrenVisiting  \\\n",
       "0         1                       2       1                       0.0   \n",
       "1         0                       3       1                       2.0   \n",
       "2         1                       3       0                       0.0   \n",
       "3         1                       5       1                       1.0   \n",
       "4         0                       5       1                       0.0   \n",
       "\n",
       "  Designation  MonthlyIncome  \n",
       "0     Manager        20993.0  \n",
       "1     Manager        20130.0  \n",
       "2   Executive        17090.0  \n",
       "3   Executive        17909.0  \n",
       "4   Executive        18468.0  "
      ]
     },
     "execution_count": 3,
     "metadata": {},
     "output_type": "execute_result"
    }
   ],
   "source": [
    "df.head()"
   ]
  },
  {
   "cell_type": "code",
   "execution_count": 4,
   "metadata": {},
   "outputs": [
    {
     "name": "stdout",
     "output_type": "stream",
     "text": [
      "<class 'pandas.core.frame.DataFrame'>\n",
      "RangeIndex: 4888 entries, 0 to 4887\n",
      "Data columns (total 20 columns):\n",
      " #   Column                    Non-Null Count  Dtype  \n",
      "---  ------                    --------------  -----  \n",
      " 0   CustomerID                4888 non-null   int64  \n",
      " 1   ProdTaken                 4888 non-null   int64  \n",
      " 2   Age                       4662 non-null   float64\n",
      " 3   TypeofContact             4863 non-null   object \n",
      " 4   CityTier                  4888 non-null   int64  \n",
      " 5   DurationOfPitch           4637 non-null   float64\n",
      " 6   Occupation                4888 non-null   object \n",
      " 7   Gender                    4888 non-null   object \n",
      " 8   NumberOfPersonVisiting    4888 non-null   int64  \n",
      " 9   NumberOfFollowups         4843 non-null   float64\n",
      " 10  ProductPitched            4888 non-null   object \n",
      " 11  PreferredPropertyStar     4862 non-null   float64\n",
      " 12  MaritalStatus             4888 non-null   object \n",
      " 13  NumberOfTrips             4748 non-null   float64\n",
      " 14  Passport                  4888 non-null   int64  \n",
      " 15  PitchSatisfactionScore    4888 non-null   int64  \n",
      " 16  OwnCar                    4888 non-null   int64  \n",
      " 17  NumberOfChildrenVisiting  4822 non-null   float64\n",
      " 18  Designation               4888 non-null   object \n",
      " 19  MonthlyIncome             4655 non-null   float64\n",
      "dtypes: float64(7), int64(7), object(6)\n",
      "memory usage: 763.9+ KB\n"
     ]
    }
   ],
   "source": [
    "df.info()"
   ]
  },
  {
   "cell_type": "code",
   "execution_count": 5,
   "metadata": {},
   "outputs": [
    {
     "data": {
      "text/plain": [
       "4888"
      ]
     },
     "execution_count": 5,
     "metadata": {},
     "output_type": "execute_result"
    }
   ],
   "source": [
    "df['CustomerID'].nunique()"
   ]
  },
  {
   "cell_type": "code",
   "execution_count": 6,
   "metadata": {},
   "outputs": [
    {
     "name": "stdout",
     "output_type": "stream",
     "text": [
      "CustomerID\n",
      "--------------------\n",
      "[200000 200001 200002 ... 204885 204886 204887]\n",
      "\n",
      "ProdTaken\n",
      "--------------------\n",
      "[1 0]\n",
      "\n",
      "Age\n",
      "--------------------\n",
      "[41. 49. 37. 33. nan 32. 59. 30. 38. 36. 35. 31. 34. 28. 29. 22. 53. 21.\n",
      " 42. 44. 46. 39. 24. 43. 50. 27. 26. 48. 55. 45. 56. 23. 51. 40. 54. 58.\n",
      " 20. 25. 19. 57. 52. 47. 18. 60. 61.]\n",
      "\n",
      "TypeofContact\n",
      "--------------------\n",
      "['Self Enquiry' 'Company Invited' nan]\n",
      "\n",
      "CityTier\n",
      "--------------------\n",
      "[3 1 2]\n",
      "\n",
      "DurationOfPitch\n",
      "--------------------\n",
      "[  6.  14.   8.   9.  30.  29.  33.  22.  21.  32.  25.  27.  11.  17.\n",
      "  15.  13.  12.  16.  10.  31.  18.  nan  24.  35.  28.  20.  26.  34.\n",
      "  23.   5.  19. 126.   7.  36. 127.]\n",
      "\n",
      "Occupation\n",
      "--------------------\n",
      "['Salaried' 'Free Lancer' 'Small Business' 'Large Business']\n",
      "\n",
      "Gender\n",
      "--------------------\n",
      "['Female' 'Male' 'Fe Male']\n",
      "\n",
      "NumberOfPersonVisiting\n",
      "--------------------\n",
      "[3 2 1 4 5]\n",
      "\n",
      "NumberOfFollowups\n",
      "--------------------\n",
      "[ 3.  4.  2.  5. nan  1.  6.]\n",
      "\n",
      "ProductPitched\n",
      "--------------------\n",
      "['Deluxe' 'Basic' 'Standard' 'Super Deluxe' 'King']\n",
      "\n",
      "PreferredPropertyStar\n",
      "--------------------\n",
      "[ 3.  4.  5. nan]\n",
      "\n",
      "MaritalStatus\n",
      "--------------------\n",
      "['Single' 'Divorced' 'Married' 'Unmarried']\n",
      "\n",
      "NumberOfTrips\n",
      "--------------------\n",
      "[ 1.  2.  7.  5.  6.  3.  4. 19. 21.  8. nan 20. 22.]\n",
      "\n",
      "Passport\n",
      "--------------------\n",
      "[1 0]\n",
      "\n",
      "PitchSatisfactionScore\n",
      "--------------------\n",
      "[2 3 5 4 1]\n",
      "\n",
      "OwnCar\n",
      "--------------------\n",
      "[1 0]\n",
      "\n",
      "NumberOfChildrenVisiting\n",
      "--------------------\n",
      "[ 0.  2.  1. nan  3.]\n",
      "\n",
      "Designation\n",
      "--------------------\n",
      "['Manager' 'Executive' 'Senior Manager' 'AVP' 'VP']\n",
      "\n",
      "MonthlyIncome\n",
      "--------------------\n",
      "[20993. 20130. 17090. ... 22097. 22995. 21471.]\n",
      "\n"
     ]
    }
   ],
   "source": [
    "for col in df.columns:\n",
    "    print(col)\n",
    "    print(20*'-')\n",
    "    print(df[col].unique())\n",
    "    print()"
   ]
  },
  {
   "cell_type": "code",
   "execution_count": 7,
   "metadata": {},
   "outputs": [
    {
     "data": {
      "text/plain": [
       "CustomerID                    0\n",
       "ProdTaken                     0\n",
       "Age                         226\n",
       "TypeofContact                25\n",
       "CityTier                      0\n",
       "DurationOfPitch             251\n",
       "Occupation                    0\n",
       "Gender                        0\n",
       "NumberOfPersonVisiting        0\n",
       "NumberOfFollowups            45\n",
       "ProductPitched                0\n",
       "PreferredPropertyStar        26\n",
       "MaritalStatus                 0\n",
       "NumberOfTrips               140\n",
       "Passport                      0\n",
       "PitchSatisfactionScore        0\n",
       "OwnCar                        0\n",
       "NumberOfChildrenVisiting     66\n",
       "Designation                   0\n",
       "MonthlyIncome               233\n",
       "dtype: int64"
      ]
     },
     "execution_count": 7,
     "metadata": {},
     "output_type": "execute_result"
    }
   ],
   "source": [
    "df.isnull().sum()"
   ]
  },
  {
   "cell_type": "code",
   "execution_count": 8,
   "metadata": {},
   "outputs": [
    {
     "data": {
      "text/plain": [
       "<matplotlib.axes._subplots.AxesSubplot at 0x8d9d208>"
      ]
     },
     "execution_count": 8,
     "metadata": {},
     "output_type": "execute_result"
    },
    {
     "data": {
      "image/png": "[encoded data removed]",
      "text/plain": [
       "<Figure size 432x288 with 1 Axes>"
      ]
     },
     "metadata": {
      "needs_background": "light"
     },
     "output_type": "display_data"
    }
   ],
   "source": [
    "sns.countplot(x='TypeofContact',data=df[pd.isnull(df['Age'])])"
   ]
  },
  {
   "cell_type": "code",
   "execution_count": 9,
   "metadata": {},
   "outputs": [],
   "source": [
    "df.drop('CustomerID',axis=1,inplace=True)"
   ]
  },
  {
   "cell_type": "code",
   "execution_count": 10,
   "metadata": {},
   "outputs": [],
   "source": [
    "df['Gender'].replace({'Fe Male':'Female'},inplace=True)"
   ]
  },
  {
   "cell_type": "code",
   "execution_count": 11,
   "metadata": {},
   "outputs": [
    {
     "name": "stdout",
     "output_type": "stream",
     "text": [
      "TypeofContact  Company Invited  Self Enquiry\n",
      "count              1362.000000   3275.000000\n",
      "mean                 37.286344     37.819542\n",
      "std                   8.801106      9.520456\n",
      "min                  18.000000     18.000000\n",
      "25%                  31.000000     31.000000\n",
      "50%                  36.000000     36.000000\n",
      "75%                  43.000000     44.000000\n",
      "max                  61.000000     61.000000\n",
      "\n",
      "CityTier            1           2            3\n",
      "count     3010.000000  189.000000  1463.000000\n",
      "mean        37.692691   38.687831    37.339713\n",
      "std          9.304757    9.282958     9.338232\n",
      "min         18.000000   19.000000    18.000000\n",
      "25%         31.000000   31.000000    31.000000\n",
      "50%         36.000000   38.000000    36.000000\n",
      "75%         44.000000   44.000000    44.000000\n",
      "max         61.000000   60.000000    61.000000\n",
      "\n",
      "Occupation  Free Lancer  Large Business     Salaried  Small Business\n",
      "count          2.000000      414.000000  2254.000000     1992.000000\n",
      "mean          37.500000       36.637681    37.649068       37.796687\n",
      "std            0.707107        9.946790     8.966313        9.563467\n",
      "min           37.000000       19.000000    18.000000       18.000000\n",
      "25%           37.250000       29.000000    31.000000       31.000000\n",
      "50%           37.500000       35.000000    36.000000       36.000000\n",
      "75%           37.750000       43.000000    43.000000       45.000000\n",
      "max           38.000000       60.000000    61.000000       61.000000\n",
      "\n",
      "Gender       Female         Male\n",
      "count   1890.000000  2772.000000\n",
      "mean      38.065608    37.319986\n",
      "std        9.523254     9.162103\n",
      "min       18.000000    18.000000\n",
      "25%       31.000000    31.000000\n",
      "50%       37.000000    36.000000\n",
      "75%       44.000000    43.000000\n",
      "max       61.000000    61.000000\n",
      "\n",
      "ProductPitched        Basic       Deluxe        King    Standard  Super Deluxe\n",
      "count           1698.000000  1651.000000  230.000000  741.000000    342.000000\n",
      "mean              33.054181    37.382193   48.065217   40.581646     48.026316\n",
      "std                8.613176     7.800693    6.133173    8.373084      6.324269\n",
      "min               18.000000    21.000000   27.000000   19.000000     29.000000\n",
      "25%               27.000000    32.000000   42.250000   35.000000     43.000000\n",
      "50%               32.000000    36.000000   49.000000   38.000000     49.000000\n",
      "75%               37.000000    42.000000   52.750000   46.000000     53.000000\n",
      "max               60.000000    61.000000   61.000000   61.000000     60.000000\n",
      "\n",
      "MaritalStatus    Divorced      Married      Single   Unmarried\n",
      "count          905.000000  2241.000000  834.000000  682.000000\n",
      "mean            38.556906    38.264614   35.767386   36.539589\n",
      "std              9.414926     8.790825   10.952965    8.218691\n",
      "min             22.000000    21.000000   18.000000   20.000000\n",
      "25%             31.000000    31.000000   28.000000   31.000000\n",
      "50%             37.000000    37.000000   34.000000   36.000000\n",
      "75%             45.000000    44.000000   43.000000   41.000000\n",
      "max             61.000000    61.000000   60.000000   61.000000\n",
      "\n",
      "Designation         AVP    Executive      Manager  Senior Manager          VP\n",
      "count        342.000000  1698.000000  1651.000000      741.000000  230.000000\n",
      "mean          48.026316    33.054181    37.382193       40.581646   48.065217\n",
      "std            6.324269     8.613176     7.800693        8.373084    6.133173\n",
      "min           29.000000    18.000000    21.000000       19.000000   27.000000\n",
      "25%           43.000000    27.000000    32.000000       35.000000   42.250000\n",
      "50%           49.000000    32.000000    36.000000       38.000000   49.000000\n",
      "75%           53.000000    37.000000    42.000000       46.000000   52.750000\n",
      "max           60.000000    60.000000    61.000000       61.000000   61.000000\n",
      "\n"
     ]
    }
   ],
   "source": [
    "for col in ['TypeofContact','CityTier','Occupation','Gender','ProductPitched','MaritalStatus','Designation']:\n",
    "        print(df.groupby(col)['Age'].describe().T)\n",
    "        print()"
   ]
  },
  {
   "cell_type": "code",
   "execution_count": 12,
   "metadata": {
    "scrolled": true
   },
   "outputs": [
    {
     "data": {
      "text/plain": [
       "Gender  Designation   \n",
       "Female  AVP               48.000000\n",
       "        Executive         33.209449\n",
       "        Manager           37.621543\n",
       "        Senior Manager    40.825153\n",
       "        VP                49.036585\n",
       "Male    AVP               48.049451\n",
       "        Executive         32.961430\n",
       "        Manager           37.211618\n",
       "        Senior Manager    40.390361\n",
       "        VP                47.527027\n",
       "Name: Age, dtype: float64"
      ]
     },
     "execution_count": 12,
     "metadata": {},
     "output_type": "execute_result"
    }
   ],
   "source": [
    "df.groupby(['Gender','Designation'])['Age'].mean()"
   ]
  },
  {
   "cell_type": "code",
   "execution_count": 13,
   "metadata": {},
   "outputs": [
    {
     "data": {
      "text/plain": [
       "MaritalStatus  Designation   \n",
       "Divorced       AVP               48.113636\n",
       "               Executive         34.572848\n",
       "               Manager           36.753894\n",
       "               Senior Manager    41.598592\n",
       "               VP                48.346154\n",
       "Married        AVP               47.777108\n",
       "               Executive         34.260582\n",
       "               Manager           37.599509\n",
       "               Senior Manager    40.385224\n",
       "               VP                47.674603\n",
       "Single         AVP               48.902439\n",
       "               Executive         30.442013\n",
       "               Manager           37.497409\n",
       "               Senior Manager    42.740000\n",
       "               VP                48.730769\n",
       "Unmarried      AVP               41.666667\n",
       "               Executive         32.087432\n",
       "               Manager           37.390093\n",
       "               Senior Manager    39.535294\n",
       "Name: Age, dtype: float64"
      ]
     },
     "execution_count": 13,
     "metadata": {},
     "output_type": "execute_result"
    }
   ],
   "source": [
    "df.groupby(['MaritalStatus','Designation'])['Age'].mean()"
   ]
  },
  {
   "cell_type": "code",
   "execution_count": 14,
   "metadata": {},
   "outputs": [],
   "source": [
    "df['Age']=df.apply(lambda x: round(df[(df['MaritalStatus']==x['MaritalStatus']) & (df['Designation']==x['Designation'])]['Age'].mean(),2) if pd.isnull(x['Age']) else x['Age'],axis=1)"
   ]
  },
  {
   "cell_type": "code",
   "execution_count": 15,
   "metadata": {},
   "outputs": [],
   "source": [
    "num_col = ['Age','DurationOfPitch','NumberOfTrips','MonthlyIncome']\n",
    "cat_col = ['ProdTaken','NumberOfChildrenVisiting','Designation','OwnCar','PitchSatisfactionScore','Passport','MaritalStatus','PreferredPropertyStar','ProductPitched','NumberOfFollowups','NumberOfPersonVisiting','Gender','Occupation','CityTier','TypeofContact','ProdTaken']"
   ]
  },
  {
   "cell_type": "code",
   "execution_count": 16,
   "metadata": {},
   "outputs": [
    {
     "data": {
      "image/png": "[encoded data removed]",
      "text/plain": [
       "<Figure size 432x288 with 1 Axes>"
      ]
     },
     "metadata": {
      "needs_background": "light"
     },
     "output_type": "display_data"
    },
    {
     "data": {
      "image/png": "[encoded data removed]",
      "text/plain": [
       "<Figure size 432x288 with 1 Axes>"
      ]
     },
     "metadata": {
      "needs_background": "light"
     },
     "output_type": "display_data"
    },
    {
     "data": {
      "image/png": "[encoded data removed]",
      "text/plain": [
       "<Figure size 432x288 with 1 Axes>"
      ]
     },
     "metadata": {
      "needs_background": "light"
     },
     "output_type": "display_data"
    },
    {
     "data": {
      "image/png": "[encoded data removed]",
      "text/plain": [
       "<Figure size 432x288 with 1 Axes>"
      ]
     },
     "metadata": {
      "needs_background": "light"
     },
     "output_type": "display_data"
    },
    {
     "data": {
      "image/png": "[encoded data removed]",
      "text/plain": [
       "<Figure size 432x288 with 1 Axes>"
      ]
     },
     "metadata": {
      "needs_background": "light"
     },
     "output_type": "display_data"
    },
    {
     "data": {
      "image/png": "[encoded data removed]",
      "text/plain": [
       "<Figure size 432x288 with 1 Axes>"
      ]
     },
     "metadata": {
      "needs_background": "light"
     },
     "output_type": "display_data"
    },
    {
     "data": {
      "image/png": "[encoded data removed]",
      "text/plain": [
       "<Figure size 432x288 with 1 Axes>"
      ]
     },
     "metadata": {
      "needs_background": "light"
     },
     "output_type": "display_data"
    },
    {
     "data": {
      "image/png": "[encoded data removed]",
      "text/plain": [
       "<Figure size 432x288 with 1 Axes>"
      ]
     },
     "metadata": {
      "needs_background": "light"
     },
     "output_type": "display_data"
    },
    {
     "data": {
      "image/png": "[encoded data removed]",
      "text/plain": [
       "<Figure size 432x288 with 1 Axes>"
      ]
     },
     "metadata": {
      "needs_background": "light"
     },
     "output_type": "display_data"
    },
    {
     "data": {
      "image/png": "[encoded data removed]",
      "text/plain": [
       "<Figure size 432x288 with 1 Axes>"
      ]
     },
     "metadata": {
      "needs_background": "light"
     },
     "output_type": "display_data"
    },
    {
     "data": {
      "image/png": "[encoded data removed]",
      "text/plain": [
       "<Figure size 432x288 with 1 Axes>"
      ]
     },
     "metadata": {
      "needs_background": "light"
     },
     "output_type": "display_data"
    },
    {
     "data": {
      "image/png": "[encoded data removed]",
      "text/plain": [
       "<Figure size 432x288 with 1 Axes>"
      ]
     },
     "metadata": {
      "needs_background": "light"
     },
     "output_type": "display_data"
    },
    {
     "data": {
      "image/png": "[encoded data removed]",
      "text/plain": [
       "<Figure size 432x288 with 1 Axes>"
      ]
     },
     "metadata": {
      "needs_background": "light"
     },
     "output_type": "display_data"
    },
    {
     "data": {
      "image/png": "[encoded data removed]",
      "text/plain": [
       "<Figure size 432x288 with 1 Axes>"
      ]
     },
     "metadata": {
      "needs_background": "light"
     },
     "output_type": "display_data"
    },
    {
     "data": {
      "image/png": "[encoded data removed]",
      "text/plain": [
       "<Figure size 432x288 with 1 Axes>"
      ]
     },
     "metadata": {
      "needs_background": "light"
     },
     "output_type": "display_data"
    },
    {
     "data": {
      "image/png": "[encoded data removed]",
      "text/plain": [
       "<Figure size 432x288 with 1 Axes>"
      ]
     },
     "metadata": {
      "needs_background": "light"
     },
     "output_type": "display_data"
    }
   ],
   "source": [
    "for col in cat_col:\n",
    "    sns.countplot(x=col,data=df,hue='ProdTaken')\n",
    "    plt.show()"
   ]
  },
  {
   "cell_type": "code",
   "execution_count": 17,
   "metadata": {},
   "outputs": [
    {
     "data": {
      "image/png": "[encoded data removed]",
      "text/plain": [
       "<Figure size 432x288 with 1 Axes>"
      ]
     },
     "metadata": {
      "needs_background": "light"
     },
     "output_type": "display_data"
    },
    {
     "data": {
      "image/png": "[encoded data removed]",
      "text/plain": [
       "<Figure size 432x288 with 1 Axes>"
      ]
     },
     "metadata": {
      "needs_background": "light"
     },
     "output_type": "display_data"
    },
    {
     "data": {
      "image/png": "[encoded data removed]",
      "text/plain": [
       "<Figure size 432x288 with 1 Axes>"
      ]
     },
     "metadata": {
      "needs_background": "light"
     },
     "output_type": "display_data"
    },
    {
     "data": {
      "image/png": "[encoded data removed]",
      "text/plain": [
       "<Figure size 432x288 with 1 Axes>"
      ]
     },
     "metadata": {
      "needs_background": "light"
     },
     "output_type": "display_data"
    }
   ],
   "source": [
    "for col in num_col:\n",
    "    sns.histplot(x=col,data=df,hue='ProdTaken',bins=20)\n",
    "    plt.show()"
   ]
  },
  {
   "cell_type": "markdown",
   "metadata": {},
   "source": [
    "Important Features After Analysis: PreferredPropertyStar,Occupation,CityTier,ProductPiched,Designation,Age,MonthlyIncome,NumberOfTrips,DurationOfPitch"
   ]
  },
  {
   "cell_type": "code",
   "execution_count": 18,
   "metadata": {},
   "outputs": [
    {
     "data": {
      "text/plain": [
       "<matplotlib.axes._subplots.AxesSubplot at 0xad66e88>"
      ]
     },
     "execution_count": 18,
     "metadata": {},
     "output_type": "execute_result"
    },
    {
     "data": {
      "image/png": "[encoded data removed]",
      "text/plain": [
       "<Figure size 864x432 with 2 Axes>"
      ]
     },
     "metadata": {
      "needs_background": "light"
     },
     "output_type": "display_data"
    }
   ],
   "source": [
    "plt.figure(figsize=(12,6))\n",
    "sns.heatmap(df.corr(),data=df,annot=True)"
   ]
  },
  {
   "cell_type": "code",
   "execution_count": 19,
   "metadata": {},
   "outputs": [],
   "source": [
    "df.drop('NumberOfChildrenVisiting',axis=1,inplace=True)"
   ]
  },
  {
   "cell_type": "code",
   "execution_count": 20,
   "metadata": {},
   "outputs": [
    {
     "data": {
      "text/html": [
       "<div>\n",
       "<style scoped>\n",
       "    .dataframe tbody tr th:only-of-type {\n",
       "        vertical-align: middle;\n",
       "    }\n",
       "\n",
       "    .dataframe tbody tr th {\n",
       "        vertical-align: top;\n",
       "    }\n",
       "\n",
       "    .dataframe thead th {\n",
       "        text-align: right;\n",
       "    }\n",
       "</style>\n",
       "<table border=\"1\" class=\"dataframe\">\n",
       "  <thead>\n",
       "    <tr style=\"text-align: right;\">\n",
       "      <th></th>\n",
       "      <th>ProdTaken</th>\n",
       "      <th>Age</th>\n",
       "      <th>TypeofContact</th>\n",
       "      <th>CityTier</th>\n",
       "      <th>DurationOfPitch</th>\n",
       "      <th>Occupation</th>\n",
       "      <th>Gender</th>\n",
       "      <th>NumberOfPersonVisiting</th>\n",
       "      <th>NumberOfFollowups</th>\n",
       "      <th>ProductPitched</th>\n",
       "      <th>PreferredPropertyStar</th>\n",
       "      <th>MaritalStatus</th>\n",
       "      <th>NumberOfTrips</th>\n",
       "      <th>Passport</th>\n",
       "      <th>PitchSatisfactionScore</th>\n",
       "      <th>OwnCar</th>\n",
       "      <th>Designation</th>\n",
       "      <th>MonthlyIncome</th>\n",
       "    </tr>\n",
       "  </thead>\n",
       "  <tbody>\n",
       "    <tr>\n",
       "      <th>0</th>\n",
       "      <td>1</td>\n",
       "      <td>41.00</td>\n",
       "      <td>Self Enquiry</td>\n",
       "      <td>3</td>\n",
       "      <td>6.0</td>\n",
       "      <td>Salaried</td>\n",
       "      <td>Female</td>\n",
       "      <td>3</td>\n",
       "      <td>3.0</td>\n",
       "      <td>Deluxe</td>\n",
       "      <td>3.0</td>\n",
       "      <td>Single</td>\n",
       "      <td>1.0</td>\n",
       "      <td>1</td>\n",
       "      <td>2</td>\n",
       "      <td>1</td>\n",
       "      <td>Manager</td>\n",
       "      <td>20993.0</td>\n",
       "    </tr>\n",
       "    <tr>\n",
       "      <th>1</th>\n",
       "      <td>0</td>\n",
       "      <td>49.00</td>\n",
       "      <td>Company Invited</td>\n",
       "      <td>1</td>\n",
       "      <td>14.0</td>\n",
       "      <td>Salaried</td>\n",
       "      <td>Male</td>\n",
       "      <td>3</td>\n",
       "      <td>4.0</td>\n",
       "      <td>Deluxe</td>\n",
       "      <td>4.0</td>\n",
       "      <td>Divorced</td>\n",
       "      <td>2.0</td>\n",
       "      <td>0</td>\n",
       "      <td>3</td>\n",
       "      <td>1</td>\n",
       "      <td>Manager</td>\n",
       "      <td>20130.0</td>\n",
       "    </tr>\n",
       "    <tr>\n",
       "      <th>2</th>\n",
       "      <td>1</td>\n",
       "      <td>37.00</td>\n",
       "      <td>Self Enquiry</td>\n",
       "      <td>1</td>\n",
       "      <td>8.0</td>\n",
       "      <td>Free Lancer</td>\n",
       "      <td>Male</td>\n",
       "      <td>3</td>\n",
       "      <td>4.0</td>\n",
       "      <td>Basic</td>\n",
       "      <td>3.0</td>\n",
       "      <td>Single</td>\n",
       "      <td>7.0</td>\n",
       "      <td>1</td>\n",
       "      <td>3</td>\n",
       "      <td>0</td>\n",
       "      <td>Executive</td>\n",
       "      <td>17090.0</td>\n",
       "    </tr>\n",
       "    <tr>\n",
       "      <th>3</th>\n",
       "      <td>0</td>\n",
       "      <td>33.00</td>\n",
       "      <td>Company Invited</td>\n",
       "      <td>1</td>\n",
       "      <td>9.0</td>\n",
       "      <td>Salaried</td>\n",
       "      <td>Female</td>\n",
       "      <td>2</td>\n",
       "      <td>3.0</td>\n",
       "      <td>Basic</td>\n",
       "      <td>3.0</td>\n",
       "      <td>Divorced</td>\n",
       "      <td>2.0</td>\n",
       "      <td>1</td>\n",
       "      <td>5</td>\n",
       "      <td>1</td>\n",
       "      <td>Executive</td>\n",
       "      <td>17909.0</td>\n",
       "    </tr>\n",
       "    <tr>\n",
       "      <th>4</th>\n",
       "      <td>0</td>\n",
       "      <td>34.57</td>\n",
       "      <td>Self Enquiry</td>\n",
       "      <td>1</td>\n",
       "      <td>8.0</td>\n",
       "      <td>Small Business</td>\n",
       "      <td>Male</td>\n",
       "      <td>2</td>\n",
       "      <td>3.0</td>\n",
       "      <td>Basic</td>\n",
       "      <td>4.0</td>\n",
       "      <td>Divorced</td>\n",
       "      <td>1.0</td>\n",
       "      <td>0</td>\n",
       "      <td>5</td>\n",
       "      <td>1</td>\n",
       "      <td>Executive</td>\n",
       "      <td>18468.0</td>\n",
       "    </tr>\n",
       "  </tbody>\n",
       "</table>\n",
       "</div>"
      ],
      "text/plain": [
       "   ProdTaken    Age    TypeofContact  CityTier  DurationOfPitch  \\\n",
       "0          1  41.00     Self Enquiry         3              6.0   \n",
       "1          0  49.00  Company Invited         1             14.0   \n",
       "2          1  37.00     Self Enquiry         1              8.0   \n",
       "3          0  33.00  Company Invited         1              9.0   \n",
       "4          0  34.57     Self Enquiry         1              8.0   \n",
       "\n",
       "       Occupation  Gender  NumberOfPersonVisiting  NumberOfFollowups  \\\n",
       "0        Salaried  Female                       3                3.0   \n",
       "1        Salaried    Male                       3                4.0   \n",
       "2     Free Lancer    Male                       3                4.0   \n",
       "3        Salaried  Female                       2                3.0   \n",
       "4  Small Business    Male                       2                3.0   \n",
       "\n",
       "  ProductPitched  PreferredPropertyStar MaritalStatus  NumberOfTrips  \\\n",
       "0         Deluxe                    3.0        Single            1.0   \n",
       "1         Deluxe                    4.0      Divorced            2.0   \n",
       "2          Basic                    3.0        Single            7.0   \n",
       "3          Basic                    3.0      Divorced            2.0   \n",
       "4          Basic                    4.0      Divorced            1.0   \n",
       "\n",
       "   Passport  PitchSatisfactionScore  OwnCar Designation  MonthlyIncome  \n",
       "0         1                       2       1     Manager        20993.0  \n",
       "1         0                       3       1     Manager        20130.0  \n",
       "2         1                       3       0   Executive        17090.0  \n",
       "3         1                       5       1   Executive        17909.0  \n",
       "4         0                       5       1   Executive        18468.0  "
      ]
     },
     "execution_count": 20,
     "metadata": {},
     "output_type": "execute_result"
    }
   ],
   "source": [
    "df.head()"
   ]
  },
  {
   "cell_type": "code",
   "execution_count": 21,
   "metadata": {},
   "outputs": [],
   "source": [
    "df.drop('Gender',axis=1,inplace=True)"
   ]
  },
  {
   "cell_type": "code",
   "execution_count": 22,
   "metadata": {},
   "outputs": [
    {
     "data": {
      "text/html": [
       "<div>\n",
       "<style scoped>\n",
       "    .dataframe tbody tr th:only-of-type {\n",
       "        vertical-align: middle;\n",
       "    }\n",
       "\n",
       "    .dataframe tbody tr th {\n",
       "        vertical-align: top;\n",
       "    }\n",
       "\n",
       "    .dataframe thead th {\n",
       "        text-align: right;\n",
       "    }\n",
       "</style>\n",
       "<table border=\"1\" class=\"dataframe\">\n",
       "  <thead>\n",
       "    <tr style=\"text-align: right;\">\n",
       "      <th></th>\n",
       "      <th>ProdTaken</th>\n",
       "      <th>Age</th>\n",
       "      <th>TypeofContact</th>\n",
       "      <th>CityTier</th>\n",
       "      <th>DurationOfPitch</th>\n",
       "      <th>Occupation</th>\n",
       "      <th>NumberOfPersonVisiting</th>\n",
       "      <th>NumberOfFollowups</th>\n",
       "      <th>ProductPitched</th>\n",
       "      <th>PreferredPropertyStar</th>\n",
       "      <th>MaritalStatus</th>\n",
       "      <th>NumberOfTrips</th>\n",
       "      <th>Passport</th>\n",
       "      <th>PitchSatisfactionScore</th>\n",
       "      <th>OwnCar</th>\n",
       "      <th>Designation</th>\n",
       "      <th>MonthlyIncome</th>\n",
       "    </tr>\n",
       "  </thead>\n",
       "  <tbody>\n",
       "    <tr>\n",
       "      <th>0</th>\n",
       "      <td>1</td>\n",
       "      <td>41.00</td>\n",
       "      <td>Self Enquiry</td>\n",
       "      <td>3</td>\n",
       "      <td>6.0</td>\n",
       "      <td>Salaried</td>\n",
       "      <td>3</td>\n",
       "      <td>3.0</td>\n",
       "      <td>Deluxe</td>\n",
       "      <td>3.0</td>\n",
       "      <td>Single</td>\n",
       "      <td>1.0</td>\n",
       "      <td>1</td>\n",
       "      <td>2</td>\n",
       "      <td>1</td>\n",
       "      <td>Manager</td>\n",
       "      <td>20993.0</td>\n",
       "    </tr>\n",
       "    <tr>\n",
       "      <th>1</th>\n",
       "      <td>0</td>\n",
       "      <td>49.00</td>\n",
       "      <td>Company Invited</td>\n",
       "      <td>1</td>\n",
       "      <td>14.0</td>\n",
       "      <td>Salaried</td>\n",
       "      <td>3</td>\n",
       "      <td>4.0</td>\n",
       "      <td>Deluxe</td>\n",
       "      <td>4.0</td>\n",
       "      <td>Divorced</td>\n",
       "      <td>2.0</td>\n",
       "      <td>0</td>\n",
       "      <td>3</td>\n",
       "      <td>1</td>\n",
       "      <td>Manager</td>\n",
       "      <td>20130.0</td>\n",
       "    </tr>\n",
       "    <tr>\n",
       "      <th>2</th>\n",
       "      <td>1</td>\n",
       "      <td>37.00</td>\n",
       "      <td>Self Enquiry</td>\n",
       "      <td>1</td>\n",
       "      <td>8.0</td>\n",
       "      <td>Free Lancer</td>\n",
       "      <td>3</td>\n",
       "      <td>4.0</td>\n",
       "      <td>Basic</td>\n",
       "      <td>3.0</td>\n",
       "      <td>Single</td>\n",
       "      <td>7.0</td>\n",
       "      <td>1</td>\n",
       "      <td>3</td>\n",
       "      <td>0</td>\n",
       "      <td>Executive</td>\n",
       "      <td>17090.0</td>\n",
       "    </tr>\n",
       "    <tr>\n",
       "      <th>3</th>\n",
       "      <td>0</td>\n",
       "      <td>33.00</td>\n",
       "      <td>Company Invited</td>\n",
       "      <td>1</td>\n",
       "      <td>9.0</td>\n",
       "      <td>Salaried</td>\n",
       "      <td>2</td>\n",
       "      <td>3.0</td>\n",
       "      <td>Basic</td>\n",
       "      <td>3.0</td>\n",
       "      <td>Divorced</td>\n",
       "      <td>2.0</td>\n",
       "      <td>1</td>\n",
       "      <td>5</td>\n",
       "      <td>1</td>\n",
       "      <td>Executive</td>\n",
       "      <td>17909.0</td>\n",
       "    </tr>\n",
       "    <tr>\n",
       "      <th>4</th>\n",
       "      <td>0</td>\n",
       "      <td>34.57</td>\n",
       "      <td>Self Enquiry</td>\n",
       "      <td>1</td>\n",
       "      <td>8.0</td>\n",
       "      <td>Small Business</td>\n",
       "      <td>2</td>\n",
       "      <td>3.0</td>\n",
       "      <td>Basic</td>\n",
       "      <td>4.0</td>\n",
       "      <td>Divorced</td>\n",
       "      <td>1.0</td>\n",
       "      <td>0</td>\n",
       "      <td>5</td>\n",
       "      <td>1</td>\n",
       "      <td>Executive</td>\n",
       "      <td>18468.0</td>\n",
       "    </tr>\n",
       "  </tbody>\n",
       "</table>\n",
       "</div>"
      ],
      "text/plain": [
       "   ProdTaken    Age    TypeofContact  CityTier  DurationOfPitch  \\\n",
       "0          1  41.00     Self Enquiry         3              6.0   \n",
       "1          0  49.00  Company Invited         1             14.0   \n",
       "2          1  37.00     Self Enquiry         1              8.0   \n",
       "3          0  33.00  Company Invited         1              9.0   \n",
       "4          0  34.57     Self Enquiry         1              8.0   \n",
       "\n",
       "       Occupation  NumberOfPersonVisiting  NumberOfFollowups ProductPitched  \\\n",
       "0        Salaried                       3                3.0         Deluxe   \n",
       "1        Salaried                       3                4.0         Deluxe   \n",
       "2     Free Lancer                       3                4.0          Basic   \n",
       "3        Salaried                       2                3.0          Basic   \n",
       "4  Small Business                       2                3.0          Basic   \n",
       "\n",
       "   PreferredPropertyStar MaritalStatus  NumberOfTrips  Passport  \\\n",
       "0                    3.0        Single            1.0         1   \n",
       "1                    4.0      Divorced            2.0         0   \n",
       "2                    3.0        Single            7.0         1   \n",
       "3                    3.0      Divorced            2.0         1   \n",
       "4                    4.0      Divorced            1.0         0   \n",
       "\n",
       "   PitchSatisfactionScore  OwnCar Designation  MonthlyIncome  \n",
       "0                       2       1     Manager        20993.0  \n",
       "1                       3       1     Manager        20130.0  \n",
       "2                       3       0   Executive        17090.0  \n",
       "3                       5       1   Executive        17909.0  \n",
       "4                       5       1   Executive        18468.0  "
      ]
     },
     "execution_count": 22,
     "metadata": {},
     "output_type": "execute_result"
    }
   ],
   "source": [
    "df.head()"
   ]
  },
  {
   "cell_type": "code",
   "execution_count": 23,
   "metadata": {},
   "outputs": [
    {
     "data": {
      "text/html": [
       "<div>\n",
       "<style scoped>\n",
       "    .dataframe tbody tr th:only-of-type {\n",
       "        vertical-align: middle;\n",
       "    }\n",
       "\n",
       "    .dataframe tbody tr th {\n",
       "        vertical-align: top;\n",
       "    }\n",
       "\n",
       "    .dataframe thead th {\n",
       "        text-align: right;\n",
       "    }\n",
       "</style>\n",
       "<table border=\"1\" class=\"dataframe\">\n",
       "  <thead>\n",
       "    <tr style=\"text-align: right;\">\n",
       "      <th>NumberOfFollowups</th>\n",
       "      <th>1.0</th>\n",
       "      <th>2.0</th>\n",
       "      <th>3.0</th>\n",
       "      <th>4.0</th>\n",
       "      <th>5.0</th>\n",
       "      <th>6.0</th>\n",
       "    </tr>\n",
       "  </thead>\n",
       "  <tbody>\n",
       "    <tr>\n",
       "      <th>count</th>\n",
       "      <td>176.000000</td>\n",
       "      <td>229.000000</td>\n",
       "      <td>1466.000000</td>\n",
       "      <td>2068.000000</td>\n",
       "      <td>768.000000</td>\n",
       "      <td>136.000000</td>\n",
       "    </tr>\n",
       "    <tr>\n",
       "      <th>mean</th>\n",
       "      <td>0.113636</td>\n",
       "      <td>0.104803</td>\n",
       "      <td>0.166439</td>\n",
       "      <td>0.183269</td>\n",
       "      <td>0.248698</td>\n",
       "      <td>0.397059</td>\n",
       "    </tr>\n",
       "    <tr>\n",
       "      <th>std</th>\n",
       "      <td>0.318275</td>\n",
       "      <td>0.306971</td>\n",
       "      <td>0.372602</td>\n",
       "      <td>0.386980</td>\n",
       "      <td>0.432540</td>\n",
       "      <td>0.491097</td>\n",
       "    </tr>\n",
       "    <tr>\n",
       "      <th>min</th>\n",
       "      <td>0.000000</td>\n",
       "      <td>0.000000</td>\n",
       "      <td>0.000000</td>\n",
       "      <td>0.000000</td>\n",
       "      <td>0.000000</td>\n",
       "      <td>0.000000</td>\n",
       "    </tr>\n",
       "    <tr>\n",
       "      <th>25%</th>\n",
       "      <td>0.000000</td>\n",
       "      <td>0.000000</td>\n",
       "      <td>0.000000</td>\n",
       "      <td>0.000000</td>\n",
       "      <td>0.000000</td>\n",
       "      <td>0.000000</td>\n",
       "    </tr>\n",
       "    <tr>\n",
       "      <th>50%</th>\n",
       "      <td>0.000000</td>\n",
       "      <td>0.000000</td>\n",
       "      <td>0.000000</td>\n",
       "      <td>0.000000</td>\n",
       "      <td>0.000000</td>\n",
       "      <td>0.000000</td>\n",
       "    </tr>\n",
       "    <tr>\n",
       "      <th>75%</th>\n",
       "      <td>0.000000</td>\n",
       "      <td>0.000000</td>\n",
       "      <td>0.000000</td>\n",
       "      <td>0.000000</td>\n",
       "      <td>0.000000</td>\n",
       "      <td>1.000000</td>\n",
       "    </tr>\n",
       "    <tr>\n",
       "      <th>max</th>\n",
       "      <td>1.000000</td>\n",
       "      <td>1.000000</td>\n",
       "      <td>1.000000</td>\n",
       "      <td>1.000000</td>\n",
       "      <td>1.000000</td>\n",
       "      <td>1.000000</td>\n",
       "    </tr>\n",
       "  </tbody>\n",
       "</table>\n",
       "</div>"
      ],
      "text/plain": [
       "NumberOfFollowups         1.0         2.0          3.0          4.0  \\\n",
       "count              176.000000  229.000000  1466.000000  2068.000000   \n",
       "mean                 0.113636    0.104803     0.166439     0.183269   \n",
       "std                  0.318275    0.306971     0.372602     0.386980   \n",
       "min                  0.000000    0.000000     0.000000     0.000000   \n",
       "25%                  0.000000    0.000000     0.000000     0.000000   \n",
       "50%                  0.000000    0.000000     0.000000     0.000000   \n",
       "75%                  0.000000    0.000000     0.000000     0.000000   \n",
       "max                  1.000000    1.000000     1.000000     1.000000   \n",
       "\n",
       "NumberOfFollowups         5.0         6.0  \n",
       "count              768.000000  136.000000  \n",
       "mean                 0.248698    0.397059  \n",
       "std                  0.432540    0.491097  \n",
       "min                  0.000000    0.000000  \n",
       "25%                  0.000000    0.000000  \n",
       "50%                  0.000000    0.000000  \n",
       "75%                  0.000000    1.000000  \n",
       "max                  1.000000    1.000000  "
      ]
     },
     "execution_count": 23,
     "metadata": {},
     "output_type": "execute_result"
    }
   ],
   "source": [
    "df.groupby('NumberOfFollowups')['ProdTaken'].describe().T"
   ]
  },
  {
   "cell_type": "code",
   "execution_count": 24,
   "metadata": {},
   "outputs": [
    {
     "data": {
      "text/html": [
       "<div>\n",
       "<style scoped>\n",
       "    .dataframe tbody tr th:only-of-type {\n",
       "        vertical-align: middle;\n",
       "    }\n",
       "\n",
       "    .dataframe tbody tr th {\n",
       "        vertical-align: top;\n",
       "    }\n",
       "\n",
       "    .dataframe thead th {\n",
       "        text-align: right;\n",
       "    }\n",
       "</style>\n",
       "<table border=\"1\" class=\"dataframe\">\n",
       "  <thead>\n",
       "    <tr style=\"text-align: right;\">\n",
       "      <th>ProdTaken</th>\n",
       "      <th>0</th>\n",
       "      <th>1</th>\n",
       "    </tr>\n",
       "    <tr>\n",
       "      <th>NumberOfFollowups</th>\n",
       "      <th></th>\n",
       "      <th></th>\n",
       "    </tr>\n",
       "  </thead>\n",
       "  <tbody>\n",
       "    <tr>\n",
       "      <th>1.0</th>\n",
       "      <td>156</td>\n",
       "      <td>20</td>\n",
       "    </tr>\n",
       "    <tr>\n",
       "      <th>2.0</th>\n",
       "      <td>205</td>\n",
       "      <td>24</td>\n",
       "    </tr>\n",
       "    <tr>\n",
       "      <th>3.0</th>\n",
       "      <td>1222</td>\n",
       "      <td>244</td>\n",
       "    </tr>\n",
       "    <tr>\n",
       "      <th>4.0</th>\n",
       "      <td>1689</td>\n",
       "      <td>379</td>\n",
       "    </tr>\n",
       "    <tr>\n",
       "      <th>5.0</th>\n",
       "      <td>577</td>\n",
       "      <td>191</td>\n",
       "    </tr>\n",
       "    <tr>\n",
       "      <th>6.0</th>\n",
       "      <td>82</td>\n",
       "      <td>54</td>\n",
       "    </tr>\n",
       "  </tbody>\n",
       "</table>\n",
       "</div>"
      ],
      "text/plain": [
       "ProdTaken             0    1\n",
       "NumberOfFollowups           \n",
       "1.0                 156   20\n",
       "2.0                 205   24\n",
       "3.0                1222  244\n",
       "4.0                1689  379\n",
       "5.0                 577  191\n",
       "6.0                  82   54"
      ]
     },
     "execution_count": 24,
     "metadata": {},
     "output_type": "execute_result"
    }
   ],
   "source": [
    "pd.crosstab(index=df['NumberOfFollowups'],columns=df['ProdTaken'])"
   ]
  },
  {
   "cell_type": "code",
   "execution_count": 25,
   "metadata": {},
   "outputs": [],
   "source": [
    "df['NumberOfFollowups'].fillna(value=df['NumberOfFollowups'].mode()[0],inplace=True)"
   ]
  },
  {
   "cell_type": "code",
   "execution_count": 26,
   "metadata": {},
   "outputs": [],
   "source": [
    "df['NumberOfTrips'].fillna(value=df['NumberOfTrips'].mode()[0],inplace=True)"
   ]
  },
  {
   "cell_type": "code",
   "execution_count": 27,
   "metadata": {},
   "outputs": [
    {
     "data": {
      "text/plain": [
       "ProdTaken                   0\n",
       "Age                         0\n",
       "TypeofContact              25\n",
       "CityTier                    0\n",
       "DurationOfPitch           251\n",
       "Occupation                  0\n",
       "NumberOfPersonVisiting      0\n",
       "NumberOfFollowups           0\n",
       "ProductPitched              0\n",
       "PreferredPropertyStar      26\n",
       "MaritalStatus               0\n",
       "NumberOfTrips               0\n",
       "Passport                    0\n",
       "PitchSatisfactionScore      0\n",
       "OwnCar                      0\n",
       "Designation                 0\n",
       "MonthlyIncome             233\n",
       "dtype: int64"
      ]
     },
     "execution_count": 27,
     "metadata": {},
     "output_type": "execute_result"
    }
   ],
   "source": [
    "df.isnull().sum()"
   ]
  },
  {
   "cell_type": "code",
   "execution_count": 28,
   "metadata": {},
   "outputs": [
    {
     "data": {
      "text/plain": [
       "Designation\n",
       "AVP               32241.0\n",
       "Executive         19940.0\n",
       "Manager           22643.0\n",
       "Senior Manager    26638.0\n",
       "VP                35879.0\n",
       "Name: MonthlyIncome, dtype: float64"
      ]
     },
     "execution_count": 28,
     "metadata": {},
     "output_type": "execute_result"
    }
   ],
   "source": [
    "round(df.groupby('Designation')['MonthlyIncome'].mean())"
   ]
  },
  {
   "cell_type": "code",
   "execution_count": 29,
   "metadata": {},
   "outputs": [],
   "source": [
    "df['MonthlyIncome']=df.apply(lambda x: round(df[(df['Age']==x['Age']) & (df['Designation']==x['Designation'])]['MonthlyIncome'].mean()) if pd.isnull(x['MonthlyIncome']) else x['MonthlyIncome'],axis=1)"
   ]
  },
  {
   "cell_type": "code",
   "execution_count": 30,
   "metadata": {},
   "outputs": [
    {
     "data": {
      "text/plain": [
       "Self Enquiry       3444\n",
       "Company Invited    1419\n",
       "Name: TypeofContact, dtype: int64"
      ]
     },
     "execution_count": 30,
     "metadata": {},
     "output_type": "execute_result"
    }
   ],
   "source": [
    "df['TypeofContact'].value_counts()"
   ]
  },
  {
   "cell_type": "code",
   "execution_count": 31,
   "metadata": {},
   "outputs": [
    {
     "data": {
      "text/html": [
       "<div>\n",
       "<style scoped>\n",
       "    .dataframe tbody tr th:only-of-type {\n",
       "        vertical-align: middle;\n",
       "    }\n",
       "\n",
       "    .dataframe tbody tr th {\n",
       "        vertical-align: top;\n",
       "    }\n",
       "\n",
       "    .dataframe thead th {\n",
       "        text-align: right;\n",
       "    }\n",
       "</style>\n",
       "<table border=\"1\" class=\"dataframe\">\n",
       "  <thead>\n",
       "    <tr style=\"text-align: right;\">\n",
       "      <th>ProdTaken</th>\n",
       "      <th>0</th>\n",
       "      <th>1</th>\n",
       "    </tr>\n",
       "    <tr>\n",
       "      <th>TypeofContact</th>\n",
       "      <th></th>\n",
       "      <th></th>\n",
       "    </tr>\n",
       "  </thead>\n",
       "  <tbody>\n",
       "    <tr>\n",
       "      <th>Company Invited</th>\n",
       "      <td>1109</td>\n",
       "      <td>310</td>\n",
       "    </tr>\n",
       "    <tr>\n",
       "      <th>Self Enquiry</th>\n",
       "      <td>2837</td>\n",
       "      <td>607</td>\n",
       "    </tr>\n",
       "  </tbody>\n",
       "</table>\n",
       "</div>"
      ],
      "text/plain": [
       "ProdTaken           0    1\n",
       "TypeofContact             \n",
       "Company Invited  1109  310\n",
       "Self Enquiry     2837  607"
      ]
     },
     "execution_count": 31,
     "metadata": {},
     "output_type": "execute_result"
    }
   ],
   "source": [
    "pd.crosstab(index=df['TypeofContact'],columns=df['ProdTaken'])"
   ]
  },
  {
   "cell_type": "code",
   "execution_count": 32,
   "metadata": {},
   "outputs": [],
   "source": [
    "df.drop('TypeofContact',axis=1,inplace=True)"
   ]
  },
  {
   "cell_type": "code",
   "execution_count": 33,
   "metadata": {},
   "outputs": [
    {
     "data": {
      "text/html": [
       "<div>\n",
       "<style scoped>\n",
       "    .dataframe tbody tr th:only-of-type {\n",
       "        vertical-align: middle;\n",
       "    }\n",
       "\n",
       "    .dataframe tbody tr th {\n",
       "        vertical-align: top;\n",
       "    }\n",
       "\n",
       "    .dataframe thead th {\n",
       "        text-align: right;\n",
       "    }\n",
       "</style>\n",
       "<table border=\"1\" class=\"dataframe\">\n",
       "  <thead>\n",
       "    <tr style=\"text-align: right;\">\n",
       "      <th></th>\n",
       "      <th>ProdTaken</th>\n",
       "      <th>Age</th>\n",
       "      <th>CityTier</th>\n",
       "      <th>DurationOfPitch</th>\n",
       "      <th>Occupation</th>\n",
       "      <th>NumberOfPersonVisiting</th>\n",
       "      <th>NumberOfFollowups</th>\n",
       "      <th>ProductPitched</th>\n",
       "      <th>PreferredPropertyStar</th>\n",
       "      <th>MaritalStatus</th>\n",
       "      <th>NumberOfTrips</th>\n",
       "      <th>Passport</th>\n",
       "      <th>PitchSatisfactionScore</th>\n",
       "      <th>OwnCar</th>\n",
       "      <th>Designation</th>\n",
       "      <th>MonthlyIncome</th>\n",
       "    </tr>\n",
       "  </thead>\n",
       "  <tbody>\n",
       "    <tr>\n",
       "      <th>0</th>\n",
       "      <td>1</td>\n",
       "      <td>41.00</td>\n",
       "      <td>3</td>\n",
       "      <td>6.0</td>\n",
       "      <td>Salaried</td>\n",
       "      <td>3</td>\n",
       "      <td>3.0</td>\n",
       "      <td>Deluxe</td>\n",
       "      <td>3.0</td>\n",
       "      <td>Single</td>\n",
       "      <td>1.0</td>\n",
       "      <td>1</td>\n",
       "      <td>2</td>\n",
       "      <td>1</td>\n",
       "      <td>Manager</td>\n",
       "      <td>20993.0</td>\n",
       "    </tr>\n",
       "    <tr>\n",
       "      <th>1</th>\n",
       "      <td>0</td>\n",
       "      <td>49.00</td>\n",
       "      <td>1</td>\n",
       "      <td>14.0</td>\n",
       "      <td>Salaried</td>\n",
       "      <td>3</td>\n",
       "      <td>4.0</td>\n",
       "      <td>Deluxe</td>\n",
       "      <td>4.0</td>\n",
       "      <td>Divorced</td>\n",
       "      <td>2.0</td>\n",
       "      <td>0</td>\n",
       "      <td>3</td>\n",
       "      <td>1</td>\n",
       "      <td>Manager</td>\n",
       "      <td>20130.0</td>\n",
       "    </tr>\n",
       "    <tr>\n",
       "      <th>2</th>\n",
       "      <td>1</td>\n",
       "      <td>37.00</td>\n",
       "      <td>1</td>\n",
       "      <td>8.0</td>\n",
       "      <td>Free Lancer</td>\n",
       "      <td>3</td>\n",
       "      <td>4.0</td>\n",
       "      <td>Basic</td>\n",
       "      <td>3.0</td>\n",
       "      <td>Single</td>\n",
       "      <td>7.0</td>\n",
       "      <td>1</td>\n",
       "      <td>3</td>\n",
       "      <td>0</td>\n",
       "      <td>Executive</td>\n",
       "      <td>17090.0</td>\n",
       "    </tr>\n",
       "    <tr>\n",
       "      <th>3</th>\n",
       "      <td>0</td>\n",
       "      <td>33.00</td>\n",
       "      <td>1</td>\n",
       "      <td>9.0</td>\n",
       "      <td>Salaried</td>\n",
       "      <td>2</td>\n",
       "      <td>3.0</td>\n",
       "      <td>Basic</td>\n",
       "      <td>3.0</td>\n",
       "      <td>Divorced</td>\n",
       "      <td>2.0</td>\n",
       "      <td>1</td>\n",
       "      <td>5</td>\n",
       "      <td>1</td>\n",
       "      <td>Executive</td>\n",
       "      <td>17909.0</td>\n",
       "    </tr>\n",
       "    <tr>\n",
       "      <th>4</th>\n",
       "      <td>0</td>\n",
       "      <td>34.57</td>\n",
       "      <td>1</td>\n",
       "      <td>8.0</td>\n",
       "      <td>Small Business</td>\n",
       "      <td>2</td>\n",
       "      <td>3.0</td>\n",
       "      <td>Basic</td>\n",
       "      <td>4.0</td>\n",
       "      <td>Divorced</td>\n",
       "      <td>1.0</td>\n",
       "      <td>0</td>\n",
       "      <td>5</td>\n",
       "      <td>1</td>\n",
       "      <td>Executive</td>\n",
       "      <td>18468.0</td>\n",
       "    </tr>\n",
       "  </tbody>\n",
       "</table>\n",
       "</div>"
      ],
      "text/plain": [
       "   ProdTaken    Age  CityTier  DurationOfPitch      Occupation  \\\n",
       "0          1  41.00         3              6.0        Salaried   \n",
       "1          0  49.00         1             14.0        Salaried   \n",
       "2          1  37.00         1              8.0     Free Lancer   \n",
       "3          0  33.00         1              9.0        Salaried   \n",
       "4          0  34.57         1              8.0  Small Business   \n",
       "\n",
       "   NumberOfPersonVisiting  NumberOfFollowups ProductPitched  \\\n",
       "0                       3                3.0         Deluxe   \n",
       "1                       3                4.0         Deluxe   \n",
       "2                       3                4.0          Basic   \n",
       "3                       2                3.0          Basic   \n",
       "4                       2                3.0          Basic   \n",
       "\n",
       "   PreferredPropertyStar MaritalStatus  NumberOfTrips  Passport  \\\n",
       "0                    3.0        Single            1.0         1   \n",
       "1                    4.0      Divorced            2.0         0   \n",
       "2                    3.0        Single            7.0         1   \n",
       "3                    3.0      Divorced            2.0         1   \n",
       "4                    4.0      Divorced            1.0         0   \n",
       "\n",
       "   PitchSatisfactionScore  OwnCar Designation  MonthlyIncome  \n",
       "0                       2       1     Manager        20993.0  \n",
       "1                       3       1     Manager        20130.0  \n",
       "2                       3       0   Executive        17090.0  \n",
       "3                       5       1   Executive        17909.0  \n",
       "4                       5       1   Executive        18468.0  "
      ]
     },
     "execution_count": 33,
     "metadata": {},
     "output_type": "execute_result"
    }
   ],
   "source": [
    "df.head()"
   ]
  },
  {
   "cell_type": "code",
   "execution_count": 34,
   "metadata": {},
   "outputs": [
    {
     "data": {
      "text/plain": [
       "ProdTaken                   0\n",
       "Age                         0\n",
       "CityTier                    0\n",
       "DurationOfPitch           251\n",
       "Occupation                  0\n",
       "NumberOfPersonVisiting      0\n",
       "NumberOfFollowups           0\n",
       "ProductPitched              0\n",
       "PreferredPropertyStar      26\n",
       "MaritalStatus               0\n",
       "NumberOfTrips               0\n",
       "Passport                    0\n",
       "PitchSatisfactionScore      0\n",
       "OwnCar                      0\n",
       "Designation                 0\n",
       "MonthlyIncome               0\n",
       "dtype: int64"
      ]
     },
     "execution_count": 34,
     "metadata": {},
     "output_type": "execute_result"
    }
   ],
   "source": [
    "df.isnull().sum()"
   ]
  },
  {
   "cell_type": "code",
   "execution_count": 35,
   "metadata": {},
   "outputs": [
    {
     "data": {
      "text/plain": [
       "3.0    2993\n",
       "5.0     956\n",
       "4.0     913\n",
       "Name: PreferredPropertyStar, dtype: int64"
      ]
     },
     "execution_count": 35,
     "metadata": {},
     "output_type": "execute_result"
    }
   ],
   "source": [
    "df['PreferredPropertyStar'].value_counts()"
   ]
  },
  {
   "cell_type": "code",
   "execution_count": 36,
   "metadata": {},
   "outputs": [],
   "source": [
    "df['PreferredPropertyStar'].fillna(value=df['PreferredPropertyStar'].mode()[0],inplace=True)"
   ]
  },
  {
   "cell_type": "code",
   "execution_count": 37,
   "metadata": {},
   "outputs": [
    {
     "data": {
      "text/html": [
       "<div>\n",
       "<style scoped>\n",
       "    .dataframe tbody tr th:only-of-type {\n",
       "        vertical-align: middle;\n",
       "    }\n",
       "\n",
       "    .dataframe tbody tr th {\n",
       "        vertical-align: top;\n",
       "    }\n",
       "\n",
       "    .dataframe thead th {\n",
       "        text-align: right;\n",
       "    }\n",
       "</style>\n",
       "<table border=\"1\" class=\"dataframe\">\n",
       "  <thead>\n",
       "    <tr style=\"text-align: right;\">\n",
       "      <th>ProdTaken</th>\n",
       "      <th>0</th>\n",
       "      <th>1</th>\n",
       "    </tr>\n",
       "    <tr>\n",
       "      <th>DurationOfPitch</th>\n",
       "      <th></th>\n",
       "      <th></th>\n",
       "    </tr>\n",
       "  </thead>\n",
       "  <tbody>\n",
       "    <tr>\n",
       "      <th>5.0</th>\n",
       "      <td>6</td>\n",
       "      <td>0</td>\n",
       "    </tr>\n",
       "    <tr>\n",
       "      <th>6.0</th>\n",
       "      <td>268</td>\n",
       "      <td>39</td>\n",
       "    </tr>\n",
       "    <tr>\n",
       "      <th>7.0</th>\n",
       "      <td>294</td>\n",
       "      <td>48</td>\n",
       "    </tr>\n",
       "    <tr>\n",
       "      <th>8.0</th>\n",
       "      <td>273</td>\n",
       "      <td>60</td>\n",
       "    </tr>\n",
       "    <tr>\n",
       "      <th>9.0</th>\n",
       "      <td>404</td>\n",
       "      <td>79</td>\n",
       "    </tr>\n",
       "    <tr>\n",
       "      <th>10.0</th>\n",
       "      <td>199</td>\n",
       "      <td>45</td>\n",
       "    </tr>\n",
       "    <tr>\n",
       "      <th>11.0</th>\n",
       "      <td>168</td>\n",
       "      <td>37</td>\n",
       "    </tr>\n",
       "    <tr>\n",
       "      <th>12.0</th>\n",
       "      <td>162</td>\n",
       "      <td>33</td>\n",
       "    </tr>\n",
       "    <tr>\n",
       "      <th>13.0</th>\n",
       "      <td>191</td>\n",
       "      <td>32</td>\n",
       "    </tr>\n",
       "    <tr>\n",
       "      <th>14.0</th>\n",
       "      <td>212</td>\n",
       "      <td>41</td>\n",
       "    </tr>\n",
       "    <tr>\n",
       "      <th>15.0</th>\n",
       "      <td>217</td>\n",
       "      <td>52</td>\n",
       "    </tr>\n",
       "    <tr>\n",
       "      <th>16.0</th>\n",
       "      <td>218</td>\n",
       "      <td>56</td>\n",
       "    </tr>\n",
       "    <tr>\n",
       "      <th>17.0</th>\n",
       "      <td>148</td>\n",
       "      <td>24</td>\n",
       "    </tr>\n",
       "    <tr>\n",
       "      <th>18.0</th>\n",
       "      <td>56</td>\n",
       "      <td>19</td>\n",
       "    </tr>\n",
       "    <tr>\n",
       "      <th>19.0</th>\n",
       "      <td>36</td>\n",
       "      <td>21</td>\n",
       "    </tr>\n",
       "    <tr>\n",
       "      <th>20.0</th>\n",
       "      <td>46</td>\n",
       "      <td>19</td>\n",
       "    </tr>\n",
       "    <tr>\n",
       "      <th>21.0</th>\n",
       "      <td>57</td>\n",
       "      <td>16</td>\n",
       "    </tr>\n",
       "    <tr>\n",
       "      <th>22.0</th>\n",
       "      <td>66</td>\n",
       "      <td>23</td>\n",
       "    </tr>\n",
       "    <tr>\n",
       "      <th>23.0</th>\n",
       "      <td>58</td>\n",
       "      <td>21</td>\n",
       "    </tr>\n",
       "    <tr>\n",
       "      <th>24.0</th>\n",
       "      <td>54</td>\n",
       "      <td>16</td>\n",
       "    </tr>\n",
       "    <tr>\n",
       "      <th>25.0</th>\n",
       "      <td>59</td>\n",
       "      <td>14</td>\n",
       "    </tr>\n",
       "    <tr>\n",
       "      <th>26.0</th>\n",
       "      <td>60</td>\n",
       "      <td>12</td>\n",
       "    </tr>\n",
       "    <tr>\n",
       "      <th>27.0</th>\n",
       "      <td>58</td>\n",
       "      <td>14</td>\n",
       "    </tr>\n",
       "    <tr>\n",
       "      <th>28.0</th>\n",
       "      <td>44</td>\n",
       "      <td>17</td>\n",
       "    </tr>\n",
       "    <tr>\n",
       "      <th>29.0</th>\n",
       "      <td>53</td>\n",
       "      <td>21</td>\n",
       "    </tr>\n",
       "    <tr>\n",
       "      <th>30.0</th>\n",
       "      <td>65</td>\n",
       "      <td>30</td>\n",
       "    </tr>\n",
       "    <tr>\n",
       "      <th>31.0</th>\n",
       "      <td>52</td>\n",
       "      <td>31</td>\n",
       "    </tr>\n",
       "    <tr>\n",
       "      <th>32.0</th>\n",
       "      <td>59</td>\n",
       "      <td>15</td>\n",
       "    </tr>\n",
       "    <tr>\n",
       "      <th>33.0</th>\n",
       "      <td>46</td>\n",
       "      <td>11</td>\n",
       "    </tr>\n",
       "    <tr>\n",
       "      <th>34.0</th>\n",
       "      <td>42</td>\n",
       "      <td>8</td>\n",
       "    </tr>\n",
       "    <tr>\n",
       "      <th>35.0</th>\n",
       "      <td>55</td>\n",
       "      <td>11</td>\n",
       "    </tr>\n",
       "    <tr>\n",
       "      <th>36.0</th>\n",
       "      <td>34</td>\n",
       "      <td>10</td>\n",
       "    </tr>\n",
       "    <tr>\n",
       "      <th>126.0</th>\n",
       "      <td>1</td>\n",
       "      <td>0</td>\n",
       "    </tr>\n",
       "    <tr>\n",
       "      <th>127.0</th>\n",
       "      <td>1</td>\n",
       "      <td>0</td>\n",
       "    </tr>\n",
       "  </tbody>\n",
       "</table>\n",
       "</div>"
      ],
      "text/plain": [
       "ProdTaken          0   1\n",
       "DurationOfPitch         \n",
       "5.0                6   0\n",
       "6.0              268  39\n",
       "7.0              294  48\n",
       "8.0              273  60\n",
       "9.0              404  79\n",
       "10.0             199  45\n",
       "11.0             168  37\n",
       "12.0             162  33\n",
       "13.0             191  32\n",
       "14.0             212  41\n",
       "15.0             217  52\n",
       "16.0             218  56\n",
       "17.0             148  24\n",
       "18.0              56  19\n",
       "19.0              36  21\n",
       "20.0              46  19\n",
       "21.0              57  16\n",
       "22.0              66  23\n",
       "23.0              58  21\n",
       "24.0              54  16\n",
       "25.0              59  14\n",
       "26.0              60  12\n",
       "27.0              58  14\n",
       "28.0              44  17\n",
       "29.0              53  21\n",
       "30.0              65  30\n",
       "31.0              52  31\n",
       "32.0              59  15\n",
       "33.0              46  11\n",
       "34.0              42   8\n",
       "35.0              55  11\n",
       "36.0              34  10\n",
       "126.0              1   0\n",
       "127.0              1   0"
      ]
     },
     "execution_count": 37,
     "metadata": {},
     "output_type": "execute_result"
    }
   ],
   "source": [
    "pd.crosstab(index=df['DurationOfPitch'],columns=df['ProdTaken'])"
   ]
  },
  {
   "cell_type": "code",
   "execution_count": 38,
   "metadata": {},
   "outputs": [
    {
     "data": {
      "text/plain": [
       "<matplotlib.axes._subplots.AxesSubplot at 0xb5e6348>"
      ]
     },
     "execution_count": 38,
     "metadata": {},
     "output_type": "execute_result"
    },
    {
     "data": {
      "image/png": "[encoded data removed]",
      "text/plain": [
       "<Figure size 432x288 with 1 Axes>"
      ]
     },
     "metadata": {
      "needs_background": "light"
     },
     "output_type": "display_data"
    }
   ],
   "source": [
    "sns.boxplot(df['DurationOfPitch'])"
   ]
  },
  {
   "cell_type": "code",
   "execution_count": 39,
   "metadata": {},
   "outputs": [
    {
     "data": {
      "text/plain": [
       "16.873142857142856"
      ]
     },
     "execution_count": 39,
     "metadata": {},
     "output_type": "execute_result"
    }
   ],
   "source": [
    "df[(pd.isnull(df['DurationOfPitch'])==False)][df['ProdTaken']==1]['DurationOfPitch'].mean()"
   ]
  },
  {
   "cell_type": "code",
   "execution_count": 40,
   "metadata": {},
   "outputs": [
    {
     "data": {
      "text/plain": [
       "9.0"
      ]
     },
     "execution_count": 40,
     "metadata": {},
     "output_type": "execute_result"
    }
   ],
   "source": [
    "df[(pd.isnull(df['DurationOfPitch'])==False)][df['ProdTaken']==0]['DurationOfPitch'].mode()[0]"
   ]
  },
  {
   "cell_type": "code",
   "execution_count": 41,
   "metadata": {},
   "outputs": [
    {
     "data": {
      "text/plain": [
       "0    3968\n",
       "1     920\n",
       "Name: ProdTaken, dtype: int64"
      ]
     },
     "execution_count": 41,
     "metadata": {},
     "output_type": "execute_result"
    }
   ],
   "source": [
    "df['ProdTaken'].value_counts()"
   ]
  },
  {
   "cell_type": "code",
   "execution_count": 42,
   "metadata": {
    "scrolled": true
   },
   "outputs": [
    {
     "data": {
      "text/plain": [
       "<matplotlib.axes._subplots.AxesSubplot at 0xaf8d788>"
      ]
     },
     "execution_count": 42,
     "metadata": {},
     "output_type": "execute_result"
    },
    {
     "data": {
      "image/png": "[encoded data removed]",
      "text/plain": [
       "<Figure size 432x288 with 1 Axes>"
      ]
     },
     "metadata": {
      "needs_background": "light"
     },
     "output_type": "display_data"
    }
   ],
   "source": [
    "df[df['ProdTaken']==1]['DurationOfPitch'].hist()"
   ]
  },
  {
   "cell_type": "code",
   "execution_count": 43,
   "metadata": {},
   "outputs": [
    {
     "data": {
      "text/plain": [
       "<matplotlib.axes._subplots.AxesSubplot at 0xbdedcc8>"
      ]
     },
     "execution_count": 43,
     "metadata": {},
     "output_type": "execute_result"
    },
    {
     "data": {
      "image/png": "[encoded data removed]",
      "text/plain": [
       "<Figure size 432x288 with 1 Axes>"
      ]
     },
     "metadata": {
      "needs_background": "light"
     },
     "output_type": "display_data"
    }
   ],
   "source": [
    "df[df['ProdTaken']==0]['DurationOfPitch'].hist()"
   ]
  },
  {
   "cell_type": "code",
   "execution_count": 44,
   "metadata": {},
   "outputs": [],
   "source": [
    "df['DurationOfPitch']=df['DurationOfPitch'].apply(lambda x: 17.0 if pd.isnull(x) else x)"
   ]
  },
  {
   "cell_type": "code",
   "execution_count": 45,
   "metadata": {},
   "outputs": [
    {
     "data": {
      "text/plain": [
       "ProdTaken                 0\n",
       "Age                       0\n",
       "CityTier                  0\n",
       "DurationOfPitch           0\n",
       "Occupation                0\n",
       "NumberOfPersonVisiting    0\n",
       "NumberOfFollowups         0\n",
       "ProductPitched            0\n",
       "PreferredPropertyStar     0\n",
       "MaritalStatus             0\n",
       "NumberOfTrips             0\n",
       "Passport                  0\n",
       "PitchSatisfactionScore    0\n",
       "OwnCar                    0\n",
       "Designation               0\n",
       "MonthlyIncome             0\n",
       "dtype: int64"
      ]
     },
     "execution_count": 45,
     "metadata": {},
     "output_type": "execute_result"
    }
   ],
   "source": [
    "df.isnull().sum()"
   ]
  },
  {
   "cell_type": "markdown",
   "metadata": {},
   "source": [
    "### Checking For Outliers"
   ]
  },
  {
   "cell_type": "code",
   "execution_count": 46,
   "metadata": {},
   "outputs": [
    {
     "data": {
      "image/png": "[encoded data removed]",
      "text/plain": [
       "<Figure size 432x288 with 1 Axes>"
      ]
     },
     "metadata": {
      "needs_background": "light"
     },
     "output_type": "display_data"
    },
    {
     "data": {
      "image/png": "[encoded data removed]",
      "text/plain": [
       "<Figure size 432x288 with 1 Axes>"
      ]
     },
     "metadata": {
      "needs_background": "light"
     },
     "output_type": "display_data"
    },
    {
     "data": {
      "image/png": "[encoded data removed]",
      "text/plain": [
       "<Figure size 432x288 with 1 Axes>"
      ]
     },
     "metadata": {
      "needs_background": "light"
     },
     "output_type": "display_data"
    },
    {
     "data": {
      "image/png": "[encoded data removed]",
      "text/plain": [
       "<Figure size 432x288 with 1 Axes>"
      ]
     },
     "metadata": {
      "needs_background": "light"
     },
     "output_type": "display_data"
    }
   ],
   "source": [
    "for col in num_col:\n",
    "    sns.boxplot(x=col,data=df)\n",
    "    plt.show()"
   ]
  },
  {
   "cell_type": "code",
   "execution_count": 47,
   "metadata": {},
   "outputs": [],
   "source": [
    "df2=df\n",
    "for i in range(2):\n",
    "    NOT_out = df2['NumberOfTrips']\n",
    "    q1 = NOT_out.quantile(0.25)\n",
    "    q3 = NOT_out.quantile(0.75)\n",
    "    iqr = q3-q1\n",
    "    min_q = q1 - 1.5*iqr\n",
    "    max_q = q3 + 1.5*iqr\n",
    "    NOT_fil = NOT_out[(NOT_out >= min_q)&(NOT_out <= max_q)]\n"
   ]
  },
  {
   "cell_type": "code",
   "execution_count": 48,
   "metadata": {},
   "outputs": [
    {
     "name": "stdout",
     "output_type": "stream",
     "text": [
      "-1.0 7.0\n"
     ]
    }
   ],
   "source": [
    "print(min_q,max_q)"
   ]
  },
  {
   "cell_type": "code",
   "execution_count": 49,
   "metadata": {},
   "outputs": [],
   "source": [
    "df1=df\n",
    "for i in range(2):\n",
    "    income_out = df1['MonthlyIncome']\n",
    "    q1 = income_out.quantile(0.25)\n",
    "    q3 = income_out.quantile(0.75)\n",
    "    iqr = q3-q1\n",
    "    min_q = q1 - 1.5*iqr\n",
    "    max_q = q3 + 1.5*iqr\n",
    "    income_fil = income_out[(income_out >= min_q)&(income_out <= max_q)]"
   ]
  },
  {
   "cell_type": "code",
   "execution_count": 50,
   "metadata": {},
   "outputs": [
    {
     "name": "stdout",
     "output_type": "stream",
     "text": [
      "12107.875 33414.875\n"
     ]
    }
   ],
   "source": [
    "print(min_q,max_q)"
   ]
  },
  {
   "cell_type": "code",
   "execution_count": 51,
   "metadata": {},
   "outputs": [
    {
     "data": {
      "text/plain": [
       "<matplotlib.axes._subplots.AxesSubplot at 0xbccb0c8>"
      ]
     },
     "execution_count": 51,
     "metadata": {},
     "output_type": "execute_result"
    },
    {
     "data": {
      "image/png": "[encoded data removed]",
      "text/plain": [
       "<Figure size 432x288 with 1 Axes>"
      ]
     },
     "metadata": {
      "needs_background": "light"
     },
     "output_type": "display_data"
    }
   ],
   "source": [
    "sns.boxplot(x=col,data=df[(df['MonthlyIncome']>12108)&(df['MonthlyIncome']<33415)])"
   ]
  },
  {
   "cell_type": "code",
   "execution_count": 52,
   "metadata": {},
   "outputs": [],
   "source": [
    "df = df[(df['MonthlyIncome']>12108)&(df['MonthlyIncome']<33415)&(df['DurationOfPitch']<37)]"
   ]
  },
  {
   "cell_type": "code",
   "execution_count": 53,
   "metadata": {},
   "outputs": [],
   "source": [
    "# Import label encoder\n",
    "from sklearn import preprocessing\n",
    "\n",
    "# label_encoder object knows how to understand word labels.\n",
    "label_encoder = preprocessing.LabelEncoder()\n",
    "\n",
    "# Encode labels in column 'species'.\n",
    "df['Occupation']= label_encoder.fit_transform(df['Occupation'])\n",
    "\n",
    "df['ProductPitched']= label_encoder.fit_transform(df['ProductPitched'])\n",
    "\n",
    "df['MaritalStatus']= label_encoder.fit_transform(df['MaritalStatus'])\n",
    "\n",
    "df['Designation']= label_encoder.fit_transform(df['Designation'])"
   ]
  },
  {
   "cell_type": "code",
   "execution_count": 54,
   "metadata": {},
   "outputs": [
    {
     "data": {
      "text/html": [
       "<div>\n",
       "<style scoped>\n",
       "    .dataframe tbody tr th:only-of-type {\n",
       "        vertical-align: middle;\n",
       "    }\n",
       "\n",
       "    .dataframe tbody tr th {\n",
       "        vertical-align: top;\n",
       "    }\n",
       "\n",
       "    .dataframe thead th {\n",
       "        text-align: right;\n",
       "    }\n",
       "</style>\n",
       "<table border=\"1\" class=\"dataframe\">\n",
       "  <thead>\n",
       "    <tr style=\"text-align: right;\">\n",
       "      <th></th>\n",
       "      <th>ProdTaken</th>\n",
       "      <th>Age</th>\n",
       "      <th>CityTier</th>\n",
       "      <th>DurationOfPitch</th>\n",
       "      <th>Occupation</th>\n",
       "      <th>NumberOfPersonVisiting</th>\n",
       "      <th>NumberOfFollowups</th>\n",
       "      <th>ProductPitched</th>\n",
       "      <th>PreferredPropertyStar</th>\n",
       "      <th>MaritalStatus</th>\n",
       "      <th>NumberOfTrips</th>\n",
       "      <th>Passport</th>\n",
       "      <th>PitchSatisfactionScore</th>\n",
       "      <th>OwnCar</th>\n",
       "      <th>Designation</th>\n",
       "      <th>MonthlyIncome</th>\n",
       "    </tr>\n",
       "  </thead>\n",
       "  <tbody>\n",
       "    <tr>\n",
       "      <th>0</th>\n",
       "      <td>1</td>\n",
       "      <td>41.00</td>\n",
       "      <td>3</td>\n",
       "      <td>6.0</td>\n",
       "      <td>2</td>\n",
       "      <td>3</td>\n",
       "      <td>3.0</td>\n",
       "      <td>1</td>\n",
       "      <td>3.0</td>\n",
       "      <td>2</td>\n",
       "      <td>1.0</td>\n",
       "      <td>1</td>\n",
       "      <td>2</td>\n",
       "      <td>1</td>\n",
       "      <td>2</td>\n",
       "      <td>20993.0</td>\n",
       "    </tr>\n",
       "    <tr>\n",
       "      <th>1</th>\n",
       "      <td>0</td>\n",
       "      <td>49.00</td>\n",
       "      <td>1</td>\n",
       "      <td>14.0</td>\n",
       "      <td>2</td>\n",
       "      <td>3</td>\n",
       "      <td>4.0</td>\n",
       "      <td>1</td>\n",
       "      <td>4.0</td>\n",
       "      <td>0</td>\n",
       "      <td>2.0</td>\n",
       "      <td>0</td>\n",
       "      <td>3</td>\n",
       "      <td>1</td>\n",
       "      <td>2</td>\n",
       "      <td>20130.0</td>\n",
       "    </tr>\n",
       "    <tr>\n",
       "      <th>2</th>\n",
       "      <td>1</td>\n",
       "      <td>37.00</td>\n",
       "      <td>1</td>\n",
       "      <td>8.0</td>\n",
       "      <td>0</td>\n",
       "      <td>3</td>\n",
       "      <td>4.0</td>\n",
       "      <td>0</td>\n",
       "      <td>3.0</td>\n",
       "      <td>2</td>\n",
       "      <td>7.0</td>\n",
       "      <td>1</td>\n",
       "      <td>3</td>\n",
       "      <td>0</td>\n",
       "      <td>1</td>\n",
       "      <td>17090.0</td>\n",
       "    </tr>\n",
       "    <tr>\n",
       "      <th>3</th>\n",
       "      <td>0</td>\n",
       "      <td>33.00</td>\n",
       "      <td>1</td>\n",
       "      <td>9.0</td>\n",
       "      <td>2</td>\n",
       "      <td>2</td>\n",
       "      <td>3.0</td>\n",
       "      <td>0</td>\n",
       "      <td>3.0</td>\n",
       "      <td>0</td>\n",
       "      <td>2.0</td>\n",
       "      <td>1</td>\n",
       "      <td>5</td>\n",
       "      <td>1</td>\n",
       "      <td>1</td>\n",
       "      <td>17909.0</td>\n",
       "    </tr>\n",
       "    <tr>\n",
       "      <th>4</th>\n",
       "      <td>0</td>\n",
       "      <td>34.57</td>\n",
       "      <td>1</td>\n",
       "      <td>8.0</td>\n",
       "      <td>3</td>\n",
       "      <td>2</td>\n",
       "      <td>3.0</td>\n",
       "      <td>0</td>\n",
       "      <td>4.0</td>\n",
       "      <td>0</td>\n",
       "      <td>1.0</td>\n",
       "      <td>0</td>\n",
       "      <td>5</td>\n",
       "      <td>1</td>\n",
       "      <td>1</td>\n",
       "      <td>18468.0</td>\n",
       "    </tr>\n",
       "  </tbody>\n",
       "</table>\n",
       "</div>"
      ],
      "text/plain": [
       "   ProdTaken    Age  CityTier  DurationOfPitch  Occupation  \\\n",
       "0          1  41.00         3              6.0           2   \n",
       "1          0  49.00         1             14.0           2   \n",
       "2          1  37.00         1              8.0           0   \n",
       "3          0  33.00         1              9.0           2   \n",
       "4          0  34.57         1              8.0           3   \n",
       "\n",
       "   NumberOfPersonVisiting  NumberOfFollowups  ProductPitched  \\\n",
       "0                       3                3.0               1   \n",
       "1                       3                4.0               1   \n",
       "2                       3                4.0               0   \n",
       "3                       2                3.0               0   \n",
       "4                       2                3.0               0   \n",
       "\n",
       "   PreferredPropertyStar  MaritalStatus  NumberOfTrips  Passport  \\\n",
       "0                    3.0              2            1.0         1   \n",
       "1                    4.0              0            2.0         0   \n",
       "2                    3.0              2            7.0         1   \n",
       "3                    3.0              0            2.0         1   \n",
       "4                    4.0              0            1.0         0   \n",
       "\n",
       "   PitchSatisfactionScore  OwnCar  Designation  MonthlyIncome  \n",
       "0                       2       1            2        20993.0  \n",
       "1                       3       1            2        20130.0  \n",
       "2                       3       0            1        17090.0  \n",
       "3                       5       1            1        17909.0  \n",
       "4                       5       1            1        18468.0  "
      ]
     },
     "execution_count": 54,
     "metadata": {},
     "output_type": "execute_result"
    }
   ],
   "source": [
    "df.head()"
   ]
  },
  {
   "cell_type": "code",
   "execution_count": 55,
   "metadata": {},
   "outputs": [],
   "source": [
    "x= df.drop('ProdTaken',axis=1)\n",
    "y= df['ProdTaken']"
   ]
  },
  {
   "cell_type": "code",
   "execution_count": 56,
   "metadata": {},
   "outputs": [],
   "source": [
    "from sklearn.model_selection import train_test_split\n",
    "trainx,testx,trainy,testy = train_test_split(x,y,test_size=0.25,random_state=101)"
   ]
  },
  {
   "cell_type": "code",
   "execution_count": 57,
   "metadata": {},
   "outputs": [],
   "source": [
    "from sklearn.linear_model import LogisticRegression"
   ]
  },
  {
   "cell_type": "code",
   "execution_count": 58,
   "metadata": {},
   "outputs": [],
   "source": [
    "model = LogisticRegression().fit(trainx,trainy)"
   ]
  },
  {
   "cell_type": "code",
   "execution_count": 59,
   "metadata": {},
   "outputs": [
    {
     "data": {
      "text/plain": [
       "83.89084507042254"
      ]
     },
     "execution_count": 59,
     "metadata": {},
     "output_type": "execute_result"
    }
   ],
   "source": [
    "model.score(testx,testy)*100"
   ]
  },
  {
   "cell_type": "code",
   "execution_count": 60,
   "metadata": {},
   "outputs": [],
   "source": [
    "from sklearn.tree import DecisionTreeClassifier\n",
    "from sklearn.ensemble import RandomForestClassifier\n",
    "from sklearn.metrics import confusion_matrix, classification_report"
   ]
  },
  {
   "cell_type": "code",
   "execution_count": 112,
   "metadata": {},
   "outputs": [],
   "source": [
    "def create_model(x,y,alpha=0):\n",
    "    global pp\n",
    "    trainx,testx,trainy,testy = train_test_split(x,y,test_size=0.25,random_state=101)\n",
    "    model_dt = DecisionTreeClassifier(ccp_alpha=alpha,).fit(trainx,trainy)\n",
    "    model_rf = RandomForestClassifier(n_estimators=10,).fit(trainx,trainy)\n",
    "    \n",
    "    pp = model_dt.cost_complexity_pruning_path(trainx,trainy)\n",
    "    \n",
    "    print('Actual Outputs: ')\n",
    "    print('-'*20)\n",
    "    print(testy.value_counts())\n",
    "    print()\n",
    "    \n",
    "    print('Decision Tree')\n",
    "    print('-'*20)\n",
    "    print('Training Score: ',round(model_dt.score(trainx,trainy)*100,2))\n",
    "    print('Testing Score: ',round(model_dt.score(testx,testy)*100,2))\n",
    "    ypred_dt = model_dt.predict(testx)\n",
    "    print(confusion_matrix(testy,ypred_dt))\n",
    "    cnf_dt = pd.DataFrame(confusion_matrix(testy,ypred_dt),index=['No','Yes'],columns=['No','Yes'])\n",
    "    sns.heatmap(cnf_dt,annot=True,fmt='d',cbar=None,cmap='YlGn')\n",
    "    plt.show()\n",
    "    \n",
    "    print()\n",
    "    print('Random Forest')\n",
    "    print('-'*20)\n",
    "    print('Training Score: ',round(model_rf.score(trainx,trainy)*100,2))\n",
    "    print('Testing Score: ',round(model_rf.score(testx,testy)*100,2))\n",
    "    ypred_rf = model_rf.predict(testx)\n",
    "    print(confusion_matrix(testy,ypred_rf))\n",
    "    cnf_rf = pd.DataFrame(confusion_matrix(testy,ypred_rf),index=['No','Yes'],columns=['No','Yes'])\n",
    "    sns.heatmap(cnf_rf,annot=True,fmt='d',cbar=None,cmap='YlGn')\n",
    "    \n",
    "    return (model_dt,model_rf)"
   ]
  },
  {
   "cell_type": "code",
   "execution_count": 113,
   "metadata": {},
   "outputs": [
    {
     "name": "stdout",
     "output_type": "stream",
     "text": [
      "Actual Outputs: \n",
      "--------------------\n",
      "0    919\n",
      "1    217\n",
      "Name: ProdTaken, dtype: int64\n",
      "\n",
      "Decision Tree\n",
      "--------------------\n",
      "Training Score:  100.0\n",
      "Testing Score:  90.14\n",
      "[[860  59]\n",
      " [ 53 164]]\n"
     ]
    },
    {
     "data": {
      "image/png": "[encoded data removed]",
      "text/plain": [
       "<Figure size 432x288 with 1 Axes>"
      ]
     },
     "metadata": {
      "needs_background": "light"
     },
     "output_type": "display_data"
    },
    {
     "name": "stdout",
     "output_type": "stream",
     "text": [
      "\n",
      "Random Forest\n",
      "--------------------\n",
      "Training Score:  99.44\n",
      "Testing Score:  91.11\n",
      "[[905  14]\n",
      " [ 87 130]]\n"
     ]
    },
    {
     "data": {
      "image/png": "[encoded data removed]",
      "text/plain": [
       "<Figure size 432x288 with 1 Axes>"
      ]
     },
     "metadata": {
      "needs_background": "light"
     },
     "output_type": "display_data"
    }
   ],
   "source": [
    "model_dt,model_rf=create_model(x,y)"
   ]
  },
  {
   "cell_type": "code",
   "execution_count": 63,
   "metadata": {},
   "outputs": [],
   "source": [
    "imp_dt = pd.DataFrame(model_dt.feature_importances_,index=x.columns,columns=['Imp'])"
   ]
  },
  {
   "cell_type": "code",
   "execution_count": 64,
   "metadata": {},
   "outputs": [
    {
     "data": {
      "image/png": "[encoded data removed]",
      "text/plain": [
       "<Figure size 432x288 with 1 Axes>"
      ]
     },
     "metadata": {
      "needs_background": "light"
     },
     "output_type": "display_data"
    }
   ],
   "source": [
    "p=imp_dt['Imp'].sort_values().plot.barh()"
   ]
  },
  {
   "cell_type": "code",
   "execution_count": 65,
   "metadata": {},
   "outputs": [],
   "source": [
    "imp_rf = pd.DataFrame(model_rf.feature_importances_,index=x.columns,columns=['Imp'])"
   ]
  },
  {
   "cell_type": "code",
   "execution_count": 66,
   "metadata": {},
   "outputs": [
    {
     "data": {
      "image/png": "[encoded data removed]",
      "text/plain": [
       "<Figure size 432x288 with 1 Axes>"
      ]
     },
     "metadata": {
      "needs_background": "light"
     },
     "output_type": "display_data"
    }
   ],
   "source": [
    "p=imp_rf['Imp'].sort_values().plot.barh()"
   ]
  },
  {
   "cell_type": "markdown",
   "metadata": {},
   "source": [
    "### Checking for Overfitting (Pruning and Cross Validation)"
   ]
  },
  {
   "cell_type": "markdown",
   "metadata": {},
   "source": [
    "### cost_complexity_pruning_path"
   ]
  },
  {
   "cell_type": "code",
   "execution_count": 67,
   "metadata": {},
   "outputs": [
    {
     "data": {
      "text/plain": [
       "{'ccp_alphas': array([0.        , 0.00014458, 0.00019065, 0.0001939 , 0.00023343,\n",
       "        0.00023488, 0.00024467, 0.0002569 , 0.00026424, 0.00026691,\n",
       "        0.00026691, 0.00027263, 0.00027263, 0.00027525, 0.00027892,\n",
       "        0.00027962, 0.00028137, 0.00028137, 0.00028186, 0.00028273,\n",
       "        0.00028795, 0.00028922, 0.00029096, 0.0002936 , 0.0002936 ,\n",
       "        0.000343  , 0.00035232, 0.00035817, 0.00037697, 0.00038034,\n",
       "        0.00038408, 0.00038435, 0.00039147, 0.00039147, 0.00039147,\n",
       "        0.00039147, 0.00039147, 0.00039147, 0.00039147, 0.00039147,\n",
       "        0.00039147, 0.00041104, 0.0004111 , 0.00043061, 0.00043496,\n",
       "        0.0004404 , 0.0004404 , 0.0004404 , 0.0004404 , 0.0004404 ,\n",
       "        0.0004404 , 0.00044998, 0.00045671, 0.00045671, 0.00045671,\n",
       "        0.00045883, 0.00046188, 0.00046747, 0.00046976, 0.00046976,\n",
       "        0.00046976, 0.00046976, 0.00047256, 0.00047428, 0.0004771 ,\n",
       "        0.00048508, 0.00048933, 0.00048933, 0.00048933, 0.00048933,\n",
       "        0.00049912, 0.00050331, 0.00050331, 0.0005084 , 0.00050891,\n",
       "        0.0005138 , 0.0005138 , 0.0005138 , 0.0005138 , 0.00051509,\n",
       "        0.00052195, 0.00052195, 0.00052848, 0.00053215, 0.00053382,\n",
       "        0.00053502, 0.00053827, 0.00053827, 0.00054203, 0.00054805,\n",
       "        0.0005505 , 0.00055161, 0.00055266, 0.00055458, 0.00055784,\n",
       "        0.00055784, 0.00055784, 0.00055856, 0.00055997, 0.00056371,\n",
       "        0.00056479, 0.00056826, 0.00056828, 0.00057633, 0.00058102,\n",
       "        0.00059734, 0.00059948, 0.00060226, 0.00060315, 0.00061768,\n",
       "        0.00062914, 0.00063497, 0.00066351, 0.00067617, 0.00068571,\n",
       "        0.00069502, 0.00070464, 0.00070464, 0.000716  , 0.00071932,\n",
       "        0.00074379, 0.00076376, 0.00077397, 0.00077653, 0.00078293,\n",
       "        0.00078689, 0.00079162, 0.00080006, 0.00081178, 0.00081371,\n",
       "        0.00083064, 0.00085966, 0.00086806, 0.00089147, 0.00091275,\n",
       "        0.00091342, 0.00092777, 0.00094652, 0.00096583, 0.00097867,\n",
       "        0.00097931, 0.00099731, 0.00100007, 0.00100663, 0.00100663,\n",
       "        0.00100891, 0.00102851, 0.00105069, 0.00105242, 0.00107374,\n",
       "        0.00110815, 0.00111704, 0.00114389, 0.00120886, 0.00120993,\n",
       "        0.00123312, 0.0012364 , 0.00123849, 0.00124207, 0.00127094,\n",
       "        0.00132037, 0.0013654 , 0.00141493, 0.00142565, 0.00143165,\n",
       "        0.00144355, 0.00146794, 0.00151875, 0.00152284, 0.0015272 ,\n",
       "        0.00164365, 0.00168983, 0.00177631, 0.00185431, 0.00206802,\n",
       "        0.00209354, 0.00213688, 0.00224227, 0.00229121, 0.00424673,\n",
       "        0.00428086, 0.00430758, 0.00515619, 0.01825608, 0.02145292]),\n",
       " 'impurities': array([0.        , 0.0005783 , 0.0017222 , 0.00230391, 0.00347108,\n",
       "        0.00394084, 0.00443017, 0.00494397, 0.00547245, 0.00600627,\n",
       "        0.00654008, 0.00708534, 0.0076306 , 0.0081811 , 0.00873893,\n",
       "        0.00929817, 0.0098609 , 0.01042364, 0.01098735, 0.0115528 ,\n",
       "        0.01212871, 0.01270714, 0.01445288, 0.01474648, 0.01504008,\n",
       "        0.01641209, 0.01711673, 0.01854942, 0.01968032, 0.0212017 ,\n",
       "        0.02235394, 0.02350699, 0.02389845, 0.02428992, 0.02468138,\n",
       "        0.02507285, 0.02546432, 0.02585578, 0.02624725, 0.02663872,\n",
       "        0.02703018, 0.0282633 , 0.02990771, 0.03076894, 0.03207383,\n",
       "        0.03251423, 0.03339502, 0.03383542, 0.03471622, 0.03515662,\n",
       "        0.03559702, 0.03784692, 0.03876034, 0.04058718, 0.0415006 ,\n",
       "        0.04195943, 0.04380695, 0.04427442, 0.04474418, 0.04521394,\n",
       "        0.0456837 , 0.04615346, 0.04662601, 0.04899739, 0.05042869,\n",
       "        0.052369  , 0.05334767, 0.053837  , 0.05432633, 0.05481566,\n",
       "        0.0558139 , 0.05631721, 0.05682053, 0.05732893, 0.05834674,\n",
       "        0.05886054, 0.05937434, 0.05988813, 0.06040193, 0.06143211,\n",
       "        0.06195406, 0.06247602, 0.0630045 , 0.06460094, 0.06566858,\n",
       "        0.06673861, 0.06727688, 0.06781514, 0.06835717, 0.06890523,\n",
       "        0.06945573, 0.07166217, 0.07276749, 0.07332206, 0.0738799 ,\n",
       "        0.07443774, 0.07611126, 0.07722837, 0.07778834, 0.07835205,\n",
       "        0.07891683, 0.07948509, 0.08062166, 0.08119798, 0.08236002,\n",
       "        0.08534673, 0.08714516, 0.08774741, 0.08955687, 0.09017455,\n",
       "        0.09206197, 0.09269694, 0.09402396, 0.09470013, 0.10155725,\n",
       "        0.10433731, 0.10574659, 0.10715587, 0.10858787, 0.10930719,\n",
       "        0.11079476, 0.11232229, 0.11309627, 0.1162024 , 0.11698533,\n",
       "        0.11777222, 0.11935547, 0.12095558, 0.12420272, 0.12501643,\n",
       "        0.12667771, 0.12925668, 0.13012475, 0.13369063, 0.13551613,\n",
       "        0.13642955, 0.14106842, 0.14201494, 0.14491242, 0.14589108,\n",
       "        0.14687039, 0.14886501, 0.15186523, 0.15287185, 0.15387848,\n",
       "        0.15488739, 0.15694441, 0.16009647, 0.16535859, 0.16643232,\n",
       "        0.17086492, 0.17421605, 0.17535995, 0.17656881, 0.18019859,\n",
       "        0.18143171, 0.18390451, 0.18885846, 0.19506879, 0.19633973,\n",
       "        0.19898048, 0.20034588, 0.20742055, 0.21027186, 0.21170351,\n",
       "        0.21314706, 0.21901881, 0.22053755, 0.22206039, 0.22358759,\n",
       "        0.22523124, 0.22692106, 0.23047369, 0.232328  , 0.23439602,\n",
       "        0.23648956, 0.23862645, 0.24086872, 0.24315993, 0.24740665,\n",
       "        0.25596837, 0.26458353, 0.27489591, 0.29315199, 0.31460491])}"
      ]
     },
     "execution_count": 67,
     "metadata": {},
     "output_type": "execute_result"
    }
   ],
   "source": [
    "pp"
   ]
  },
  {
   "cell_type": "code",
   "execution_count": 68,
   "metadata": {},
   "outputs": [],
   "source": [
    "ccp_alpha = pp['ccp_alphas']\n",
    "ccp_imp = pp['impurities']"
   ]
  },
  {
   "cell_type": "code",
   "execution_count": 69,
   "metadata": {},
   "outputs": [
    {
     "name": "stdout",
     "output_type": "stream",
     "text": [
      "Number of Nodes in the last tree is: 1 with ccp_alpha: 0.02145292312373681\n"
     ]
    }
   ],
   "source": [
    "clfs=[]\n",
    "for alpha in ccp_alpha:\n",
    "    clf = DecisionTreeClassifier(ccp_alpha=alpha)\n",
    "    clf.fit(trainx,trainy)\n",
    "    clfs.append(clf)\n",
    "print('Number of Nodes in the last tree is: {} with ccp_alpha: {}'.format(clfs[-1].tree_.node_count, ccp_alpha[-1]))"
   ]
  },
  {
   "cell_type": "code",
   "execution_count": 70,
   "metadata": {},
   "outputs": [
    {
     "data": {
      "image/png": "[encoded data removed]",
      "text/plain": [
       "<Figure size 432x288 with 1 Axes>"
      ]
     },
     "metadata": {
      "needs_background": "light"
     },
     "output_type": "display_data"
    }
   ],
   "source": [
    "train_scores = [clf.score(trainx,trainy) for clf in clfs]\n",
    "test_scores = [clf.score(testx,testy) for clf in clfs]\n",
    "\n",
    "fig,ax = plt.subplots()\n",
    "\n",
    "ax.set_xlabel('alpha')\n",
    "ax.set_ylabel('accuracy')\n",
    "ax.set_title('Accuracy v/s alpha for training and testing sets')\n",
    "ax.plot(ccp_alpha,train_scores, marker='o',label='train',drawstyle='steps-post')\n",
    "ax.plot(ccp_alpha,test_scores, marker='o',label='test',drawstyle='steps-post')\n",
    "ax.legend()\n",
    "plt.show()"
   ]
  },
  {
   "cell_type": "code",
   "execution_count": 71,
   "metadata": {},
   "outputs": [
    {
     "data": {
      "text/plain": [
       "Text(0, 0.5, 'Impurities -->')"
      ]
     },
     "execution_count": 71,
     "metadata": {},
     "output_type": "execute_result"
    },
    {
     "data": {
      "image/png": "[encoded data removed]",
      "text/plain": [
       "<Figure size 432x288 with 1 Axes>"
      ]
     },
     "metadata": {
      "needs_background": "light"
     },
     "output_type": "display_data"
    }
   ],
   "source": [
    "plt.plot(ccp_alpha,ccp_imp,marker='o')\n",
    "plt.xlabel('Aplha -->')\n",
    "plt.ylabel('Impurities -->')"
   ]
  },
  {
   "cell_type": "code",
   "execution_count": 72,
   "metadata": {},
   "outputs": [
    {
     "data": {
      "image/png": "[encoded data removed]",
      "text/plain": [
       "<Figure size 432x288 with 2 Axes>"
      ]
     },
     "metadata": {
      "needs_background": "light"
     },
     "output_type": "display_data"
    }
   ],
   "source": [
    "node_counts = [clf.tree_.node_count for clf in clfs]\n",
    "depth = [clf.tree_.max_depth for clf in clfs]\n",
    "fig, ax = plt.subplots(2, 1)\n",
    "ax[0].plot(ccp_alpha, node_counts, marker='o', drawstyle=\"steps-post\")\n",
    "ax[0].set_xlabel(\"alpha\")\n",
    "ax[0].set_ylabel(\"number of nodes\")\n",
    "ax[0].set_title(\"Number of nodes vs alpha\")\n",
    "ax[1].plot(ccp_alpha, depth, marker='o', drawstyle=\"steps-post\")\n",
    "ax[1].set_xlabel(\"alpha\")\n",
    "ax[1].set_ylabel(\"depth of tree\")\n",
    "ax[1].set_title(\"Depth vs alpha\")\n",
    "fig.tight_layout()"
   ]
  },
  {
   "cell_type": "code",
   "execution_count": 73,
   "metadata": {},
   "outputs": [],
   "source": [
    "ccp_alpha.sort()"
   ]
  },
  {
   "cell_type": "code",
   "execution_count": 74,
   "metadata": {},
   "outputs": [
    {
     "data": {
      "text/plain": [
       "array([0.        , 0.00014458, 0.00019065, 0.0001939 , 0.00023343,\n",
       "       0.00023488, 0.00024467, 0.0002569 , 0.00026424, 0.00026691,\n",
       "       0.00026691, 0.00027263, 0.00027263, 0.00027525, 0.00027892,\n",
       "       0.00027962, 0.00028137, 0.00028137, 0.00028186, 0.00028273,\n",
       "       0.00028795, 0.00028922, 0.00029096, 0.0002936 , 0.0002936 ,\n",
       "       0.000343  , 0.00035232, 0.00035817, 0.00037697, 0.00038034,\n",
       "       0.00038408, 0.00038435, 0.00039147, 0.00039147, 0.00039147,\n",
       "       0.00039147, 0.00039147, 0.00039147, 0.00039147, 0.00039147,\n",
       "       0.00039147, 0.00041104, 0.0004111 , 0.00043061, 0.00043496,\n",
       "       0.0004404 , 0.0004404 , 0.0004404 , 0.0004404 , 0.0004404 ,\n",
       "       0.0004404 , 0.00044998, 0.00045671, 0.00045671, 0.00045671,\n",
       "       0.00045883, 0.00046188, 0.00046747, 0.00046976, 0.00046976,\n",
       "       0.00046976, 0.00046976, 0.00047256, 0.00047428, 0.0004771 ,\n",
       "       0.00048508, 0.00048933, 0.00048933, 0.00048933, 0.00048933,\n",
       "       0.00049912, 0.00050331, 0.00050331, 0.0005084 , 0.00050891,\n",
       "       0.0005138 , 0.0005138 , 0.0005138 , 0.0005138 , 0.00051509,\n",
       "       0.00052195, 0.00052195, 0.00052848, 0.00053215, 0.00053382,\n",
       "       0.00053502, 0.00053827, 0.00053827, 0.00054203, 0.00054805,\n",
       "       0.0005505 , 0.00055161, 0.00055266, 0.00055458, 0.00055784,\n",
       "       0.00055784, 0.00055784, 0.00055856, 0.00055997, 0.00056371,\n",
       "       0.00056479, 0.00056826, 0.00056828, 0.00057633, 0.00058102,\n",
       "       0.00059734, 0.00059948, 0.00060226, 0.00060315, 0.00061768,\n",
       "       0.00062914, 0.00063497, 0.00066351, 0.00067617, 0.00068571,\n",
       "       0.00069502, 0.00070464, 0.00070464, 0.000716  , 0.00071932,\n",
       "       0.00074379, 0.00076376, 0.00077397, 0.00077653, 0.00078293,\n",
       "       0.00078689, 0.00079162, 0.00080006, 0.00081178, 0.00081371,\n",
       "       0.00083064, 0.00085966, 0.00086806, 0.00089147, 0.00091275,\n",
       "       0.00091342, 0.00092777, 0.00094652, 0.00096583, 0.00097867,\n",
       "       0.00097931, 0.00099731, 0.00100007, 0.00100663, 0.00100663,\n",
       "       0.00100891, 0.00102851, 0.00105069, 0.00105242, 0.00107374,\n",
       "       0.00110815, 0.00111704, 0.00114389, 0.00120886, 0.00120993,\n",
       "       0.00123312, 0.0012364 , 0.00123849, 0.00124207, 0.00127094,\n",
       "       0.00132037, 0.0013654 , 0.00141493, 0.00142565, 0.00143165,\n",
       "       0.00144355, 0.00146794, 0.00151875, 0.00152284, 0.0015272 ,\n",
       "       0.00164365, 0.00168983, 0.00177631, 0.00185431, 0.00206802,\n",
       "       0.00209354, 0.00213688, 0.00224227, 0.00229121, 0.00424673,\n",
       "       0.00428086, 0.00430758, 0.00515619, 0.01825608, 0.02145292])"
      ]
     },
     "execution_count": 74,
     "metadata": {},
     "output_type": "execute_result"
    }
   ],
   "source": [
    "ccp_alpha"
   ]
  },
  {
   "cell_type": "code",
   "execution_count": 75,
   "metadata": {},
   "outputs": [],
   "source": [
    "alpha= ccp_alpha[-9]"
   ]
  },
  {
   "cell_type": "code",
   "execution_count": 76,
   "metadata": {},
   "outputs": [
    {
     "name": "stdout",
     "output_type": "stream",
     "text": [
      "Actual Outputs: \n",
      "--------------------\n",
      "0    919\n",
      "1    217\n",
      "Name: ProdTaken, dtype: int64\n",
      "\n",
      "Decision Tree\n",
      "--------------------\n",
      "Training Score:  85.11\n",
      "Testing Score:  84.33\n",
      "[[874  45]\n",
      " [133  84]]\n"
     ]
    },
    {
     "data": {
      "image/png": "[encoded data removed]",
      "text/plain": [
       "<Figure size 432x288 with 1 Axes>"
      ]
     },
     "metadata": {
      "needs_background": "light"
     },
     "output_type": "display_data"
    },
    {
     "name": "stdout",
     "output_type": "stream",
     "text": [
      "\n",
      "Random Forest\n",
      "--------------------\n",
      "Training Score:  100.0\n",
      "Testing Score:  93.4\n",
      "[[911   8]\n",
      " [ 67 150]]\n"
     ]
    },
    {
     "data": {
      "image/png": "[encoded data removed]",
      "text/plain": [
       "<Figure size 432x288 with 1 Axes>"
      ]
     },
     "metadata": {
      "needs_background": "light"
     },
     "output_type": "display_data"
    }
   ],
   "source": [
    "model_dt_p,model_rf_p = create_model(x,y,alpha)"
   ]
  },
  {
   "cell_type": "code",
   "execution_count": 162,
   "metadata": {},
   "outputs": [],
   "source": [
    "x2= df[['Age','MonthlyIncome','DurationOfPitch','NumberOfTrips']]\n",
    "y2=y.copy()"
   ]
  },
  {
   "cell_type": "code",
   "execution_count": 163,
   "metadata": {},
   "outputs": [],
   "source": [
    "trainx1,testx1,trainy1,testy1 = train_test_split(x2,y2,test_size=0.25,random_state=101)"
   ]
  },
  {
   "cell_type": "code",
   "execution_count": 164,
   "metadata": {},
   "outputs": [
    {
     "name": "stdout",
     "output_type": "stream",
     "text": [
      "Actual Outputs: \n",
      "--------------------\n",
      "0    919\n",
      "1    217\n",
      "Name: ProdTaken, dtype: int64\n",
      "\n",
      "Decision Tree\n",
      "--------------------\n",
      "Training Score:  99.91\n",
      "Testing Score:  85.48\n",
      "[[831  88]\n",
      " [ 77 140]]\n"
     ]
    },
    {
     "data": {
      "image/png": "[encoded data removed]",
      "text/plain": [
       "<Figure size 432x288 with 1 Axes>"
      ]
     },
     "metadata": {
      "needs_background": "light"
     },
     "output_type": "display_data"
    },
    {
     "name": "stdout",
     "output_type": "stream",
     "text": [
      "\n",
      "Random Forest\n",
      "--------------------\n",
      "Training Score:  98.83\n",
      "Testing Score:  87.85\n",
      "[[887  32]\n",
      " [106 111]]\n"
     ]
    },
    {
     "data": {
      "image/png": "[encoded data removed]",
      "text/plain": [
       "<Figure size 432x288 with 1 Axes>"
      ]
     },
     "metadata": {
      "needs_background": "light"
     },
     "output_type": "display_data"
    }
   ],
   "source": [
    "model_dt1,model_rf1 = create_model(x2,y2)"
   ]
  },
  {
   "cell_type": "code",
   "execution_count": 165,
   "metadata": {},
   "outputs": [],
   "source": [
    "ccp_alpha1 = pp['ccp_alphas']\n",
    "ccp_imp1 = pp['impurities']"
   ]
  },
  {
   "cell_type": "code",
   "execution_count": 166,
   "metadata": {},
   "outputs": [
    {
     "name": "stdout",
     "output_type": "stream",
     "text": [
      "Number of Nodes in the last tree is: 3 with ccp_alpha: 0.009587748060942203\n"
     ]
    }
   ],
   "source": [
    "clfs1=[]\n",
    "for alpha in ccp_alpha1:\n",
    "    clf = DecisionTreeClassifier(ccp_alpha=alpha)\n",
    "    clf.fit(trainx1,trainy1)\n",
    "    clfs1.append(clf)\n",
    "print('Number of Nodes in the last tree is: {} with ccp_alpha: {}'.format(clfs1[-1].tree_.node_count, ccp_alpha1[-1]))"
   ]
  },
  {
   "cell_type": "code",
   "execution_count": 167,
   "metadata": {},
   "outputs": [
    {
     "data": {
      "image/png": "[encoded data removed]",
      "text/plain": [
       "<Figure size 432x288 with 1 Axes>"
      ]
     },
     "metadata": {
      "needs_background": "light"
     },
     "output_type": "display_data"
    }
   ],
   "source": [
    "train_scores = [clf.score(trainx1,trainy1) for clf in clfs1]\n",
    "test_scores = [clf.score(testx1,testy1) for clf in clfs1]\n",
    "\n",
    "fig,ax = plt.subplots()\n",
    "\n",
    "ax.set_xlabel('alpha')\n",
    "ax.set_ylabel('accuracy')\n",
    "ax.set_title('Accuracy v/s alpha for training and testing sets')\n",
    "ax.plot(ccp_alpha1,train_scores, marker='o',label='train',drawstyle='steps-post')\n",
    "ax.plot(ccp_alpha1,test_scores, marker='o',label='test',drawstyle='steps-post')\n",
    "ax.legend()\n",
    "plt.show()"
   ]
  },
  {
   "cell_type": "code",
   "execution_count": 168,
   "metadata": {},
   "outputs": [
    {
     "data": {
      "text/plain": [
       "Text(0, 0.5, 'Impurities -->')"
      ]
     },
     "execution_count": 168,
     "metadata": {},
     "output_type": "execute_result"
    },
    {
     "data": {
      "image/png": "[encoded data removed]",
      "text/plain": [
       "<Figure size 432x288 with 1 Axes>"
      ]
     },
     "metadata": {
      "needs_background": "light"
     },
     "output_type": "display_data"
    }
   ],
   "source": [
    "plt.plot(ccp_alpha1,ccp_imp1,marker='o')\n",
    "plt.xlabel('Aplha -->')\n",
    "plt.ylabel('Impurities -->')"
   ]
  },
  {
   "cell_type": "code",
   "execution_count": 169,
   "metadata": {},
   "outputs": [],
   "source": [
    "ccp_alpha1.sort()"
   ]
  },
  {
   "cell_type": "code",
   "execution_count": 170,
   "metadata": {},
   "outputs": [
    {
     "data": {
      "text/plain": [
       "array([0.00000000e+00, 3.91466040e-05, 3.91466040e-05, 4.40399295e-05,\n",
       "       9.78665101e-05, 1.42064289e-04, 1.63110850e-04, 1.63110850e-04,\n",
       "       1.76159718e-04, 1.76159718e-04, 1.77063101e-04, 1.81752090e-04,\n",
       "       1.88742555e-04, 1.88983606e-04, 1.89419052e-04, 1.89616363e-04,\n",
       "       1.90714225e-04, 1.93316563e-04, 1.94401503e-04, 1.95733020e-04,\n",
       "       1.95733020e-04, 1.95733020e-04, 1.95733020e-04, 1.95733020e-04,\n",
       "       1.95733020e-04, 1.95733020e-04, 1.95733020e-04, 2.01852534e-04,\n",
       "       2.14455309e-04, 2.15306322e-04, 2.20199648e-04, 2.20199648e-04,\n",
       "       2.20199648e-04, 2.24440530e-04, 2.25845792e-04, 2.27762060e-04,\n",
       "       2.34879624e-04, 2.34879624e-04, 2.34879624e-04, 2.34879624e-04,\n",
       "       2.34879624e-04, 2.34879624e-04, 2.40217797e-04, 2.44666275e-04,\n",
       "       2.44666275e-04, 2.51656740e-04, 2.51656740e-04, 2.51656740e-04,\n",
       "       2.51656740e-04, 2.51656740e-04, 2.51656740e-04, 2.56899589e-04,\n",
       "       2.56899589e-04, 2.56899589e-04, 2.60977360e-04, 2.60977360e-04,\n",
       "       2.61217229e-04, 2.64239577e-04, 2.64239577e-04, 2.64239577e-04,\n",
       "       2.64239577e-04, 2.65305059e-04, 2.65770822e-04, 2.66908664e-04,\n",
       "       2.66908664e-04, 2.66908664e-04, 2.69132903e-04, 2.69132903e-04,\n",
       "       2.69635642e-04, 2.71014951e-04, 2.71357142e-04, 2.72628135e-04,\n",
       "       2.75249560e-04, 2.75249560e-04, 2.75805619e-04, 2.77288445e-04,\n",
       "       2.77870984e-04, 2.78146923e-04, 2.78919554e-04, 2.78919554e-04,\n",
       "       2.79618600e-04, 2.79618600e-04, 2.79618600e-04, 2.80254097e-04,\n",
       "       2.80254097e-04, 2.81366216e-04, 2.81366216e-04, 2.81855549e-04,\n",
       "       2.83113833e-04, 2.83113833e-04, 2.84618725e-04, 2.88864054e-04,\n",
       "       2.90043520e-04, 2.92409262e-04, 2.93599530e-04, 2.93599530e-04,\n",
       "       3.01127723e-04, 3.06481959e-04, 3.22636846e-04, 3.26221700e-04,\n",
       "       3.28643035e-04, 3.31240496e-04, 3.42532785e-04, 3.45411212e-04,\n",
       "       3.49523250e-04, 3.52319436e-04, 3.52319436e-04, 3.52319436e-04,\n",
       "       3.52319436e-04, 3.54416576e-04, 3.57911808e-04, 3.58884395e-04,\n",
       "       3.62656851e-04, 3.72264009e-04, 3.76319609e-04, 3.77485110e-04,\n",
       "       3.77485110e-04, 3.81105293e-04, 3.81679389e-04, 3.83937847e-04,\n",
       "       3.89525528e-04, 3.91466040e-04, 3.91466040e-04, 3.91466040e-04,\n",
       "       3.91466040e-04, 3.91466040e-04, 4.01056958e-04, 4.11854897e-04,\n",
       "       4.15343997e-04, 4.19427900e-04, 4.19427900e-04, 4.23196673e-04,\n",
       "       4.27053862e-04, 4.27053862e-04, 4.27053862e-04, 4.27053862e-04,\n",
       "       4.29769813e-04, 4.30019514e-04, 4.31078675e-04, 4.40399295e-04,\n",
       "       4.40399295e-04, 4.40399295e-04, 4.40399295e-04, 4.40399295e-04,\n",
       "       4.40399295e-04, 4.40399295e-04, 4.40399295e-04, 4.40399295e-04,\n",
       "       4.44847773e-04, 4.45263112e-04, 4.45836324e-04, 4.46324326e-04,\n",
       "       4.49296251e-04, 4.51691585e-04, 4.55455682e-04, 4.55455682e-04,\n",
       "       4.56710380e-04, 4.56710380e-04, 4.57207252e-04, 4.58120942e-04,\n",
       "       4.58574504e-04, 4.59305326e-04, 4.61370690e-04, 4.61370690e-04,\n",
       "       4.69759248e-04, 4.69759248e-04, 4.69759248e-04, 4.69759248e-04,\n",
       "       4.69759248e-04, 4.69759248e-04, 4.70276766e-04, 4.72555434e-04,\n",
       "       4.74276164e-04, 4.77099237e-04, 4.81503230e-04, 4.83828502e-04,\n",
       "       4.84732577e-04, 4.85653358e-04, 4.88126863e-04, 4.89332550e-04,\n",
       "       4.89332550e-04, 4.89332550e-04, 4.92696034e-04, 4.93473057e-04,\n",
       "       4.94483419e-04, 4.94651382e-04, 4.98131808e-04, 5.03313480e-04,\n",
       "       5.13799178e-04, 5.17612159e-04, 5.18648220e-04, 5.18766732e-04,\n",
       "       5.27144611e-04, 5.28128044e-04, 5.28479154e-04, 5.33817328e-04,\n",
       "       5.33817328e-04, 5.36138273e-04, 5.38160560e-04, 5.42029902e-04,\n",
       "       5.54117423e-04, 5.56145264e-04, 5.58560704e-04, 5.58959531e-04,\n",
       "       5.66580366e-04, 5.67244460e-04, 5.71947137e-04, 5.80466475e-04,\n",
       "       5.81267757e-04, 5.87199060e-04, 5.96519680e-04, 5.98186419e-04,\n",
       "       6.10690160e-04, 6.32807186e-04, 6.40580793e-04, 6.46526679e-04,\n",
       "       6.50340699e-04, 6.62906663e-04, 6.79015641e-04, 6.83512134e-04,\n",
       "       7.14933921e-04, 7.17931404e-04, 7.41725129e-04, 7.43383982e-04,\n",
       "       7.53498544e-04, 7.86162523e-04, 7.92718732e-04, 8.02611250e-04,\n",
       "       8.16248247e-04, 8.17407783e-04, 8.49235929e-04, 9.01391192e-04,\n",
       "       9.39518497e-04, 9.41651485e-04, 9.71861547e-04, 9.75373553e-04,\n",
       "       1.02975091e-03, 1.03906184e-03, 1.04867255e-03, 1.08365756e-03,\n",
       "       1.08828860e-03, 1.09427830e-03, 1.09452106e-03, 1.14531779e-03,\n",
       "       1.37251398e-03, 1.43609324e-03, 1.45245415e-03, 1.58365883e-03,\n",
       "       1.75360969e-03, 1.97340596e-03, 2.17267480e-03, 2.43984513e-03,\n",
       "       3.09625019e-03, 4.97652831e-03, 9.58774806e-03])"
      ]
     },
     "execution_count": 170,
     "metadata": {},
     "output_type": "execute_result"
    }
   ],
   "source": [
    "ccp_alpha1"
   ]
  },
  {
   "cell_type": "code",
   "execution_count": 229,
   "metadata": {},
   "outputs": [],
   "source": [
    "alpha1 = ccp_alpha1[-11]"
   ]
  },
  {
   "cell_type": "code",
   "execution_count": 230,
   "metadata": {
    "scrolled": true
   },
   "outputs": [
    {
     "name": "stdout",
     "output_type": "stream",
     "text": [
      "Actual Outputs: \n",
      "--------------------\n",
      "0    919\n",
      "1    217\n",
      "Name: ProdTaken, dtype: int64\n",
      "\n",
      "Decision Tree\n",
      "--------------------\n",
      "Training Score:  82.3\n",
      "Testing Score:  81.87\n",
      "[[884  35]\n",
      " [171  46]]\n"
     ]
    },
    {
     "data": {
      "image/png": "[encoded data removed]",
      "text/plain": [
       "<Figure size 432x288 with 1 Axes>"
      ]
     },
     "metadata": {
      "needs_background": "light"
     },
     "output_type": "display_data"
    },
    {
     "name": "stdout",
     "output_type": "stream",
     "text": [
      "\n",
      "Random Forest\n",
      "--------------------\n",
      "Training Score:  98.36\n",
      "Testing Score:  88.64\n",
      "[[891  28]\n",
      " [101 116]]\n"
     ]
    },
    {
     "data": {
      "image/png": "[encoded data removed]",
      "text/plain": [
       "<Figure size 432x288 with 1 Axes>"
      ]
     },
     "metadata": {
      "needs_background": "light"
     },
     "output_type": "display_data"
    }
   ],
   "source": [
    "model_dt_f,model_rf_f = create_model(x2,y2,alpha1)"
   ]
  },
  {
   "cell_type": "code",
   "execution_count": 173,
   "metadata": {},
   "outputs": [],
   "source": [
    "from sklearn.neighbors import KNeighborsClassifier\n",
    "from sklearn.model_selection import train_test_split\n",
    "xtrain,xtest,ytrain,ytest = train_test_split(x2,y2,test_size=0.25,random_state=1)"
   ]
  },
  {
   "cell_type": "code",
   "execution_count": 174,
   "metadata": {},
   "outputs": [],
   "source": [
    "model = KNeighborsClassifier(n_neighbors=4).fit(xtrain,ytrain)"
   ]
  },
  {
   "cell_type": "code",
   "execution_count": 175,
   "metadata": {},
   "outputs": [
    {
     "data": {
      "text/plain": [
       "0.789612676056338"
      ]
     },
     "execution_count": 175,
     "metadata": {},
     "output_type": "execute_result"
    }
   ],
   "source": [
    "model.score(xtest,ytest)"
   ]
  },
  {
   "cell_type": "code",
   "execution_count": 176,
   "metadata": {},
   "outputs": [],
   "source": [
    "scores_train = []\n",
    "scores_test = []\n",
    "for i in range(2,50):\n",
    "    model_i = KNeighborsClassifier(n_neighbors=i).fit(xtrain,ytrain)\n",
    "    scores_train.append(model_i.score(xtrain,ytrain))\n",
    "    scores_test.append(model_i.score(xtest,ytest))"
   ]
  },
  {
   "cell_type": "code",
   "execution_count": 177,
   "metadata": {},
   "outputs": [
    {
     "data": {
      "text/plain": [
       "<matplotlib.legend.Legend at 0x16cf8a88>"
      ]
     },
     "execution_count": 177,
     "metadata": {},
     "output_type": "execute_result"
    },
    {
     "data": {
      "image/png": "[encoded data removed]",
      "text/plain": [
       "<Figure size 1080x432 with 1 Axes>"
      ]
     },
     "metadata": {
      "needs_background": "light"
     },
     "output_type": "display_data"
    }
   ],
   "source": [
    "plt.figure(figsize=(15,6))\n",
    "p=plt.plot(range(2,50),scores_train,marker='o',label='train score')\n",
    "p=plt.plot(range(2,50),scores_test,marker='*',color='r',label='test score')\n",
    "p=plt.grid()\n",
    "p=plt.xticks(range(2,50))\n",
    "plt.legend()"
   ]
  },
  {
   "cell_type": "code",
   "execution_count": 178,
   "metadata": {},
   "outputs": [],
   "source": [
    "model_dt_test = DecisionTreeClassifier().fit(xtrain,ytrain)"
   ]
  },
  {
   "cell_type": "code",
   "execution_count": 179,
   "metadata": {},
   "outputs": [
    {
     "data": {
      "text/plain": [
       "0.8556338028169014"
      ]
     },
     "execution_count": 179,
     "metadata": {},
     "output_type": "execute_result"
    }
   ],
   "source": [
    "model_dt_test.score(xtest,ytest)"
   ]
  },
  {
   "cell_type": "code",
   "execution_count": 205,
   "metadata": {},
   "outputs": [],
   "source": [
    "criterions = ['gini','entropy']\n",
    "n_est = list(range(5,100,15))\n",
    "max_depth = list(range(15,100,10))\n",
    "\n",
    "params = {\n",
    "           'n_estimators': n_est,\n",
    "           'criterion': criterions,\n",
    "           'max_depth':max_depth\n",
    "         }"
   ]
  },
  {
   "cell_type": "markdown",
   "metadata": {},
   "source": [
    "### Finding the best parameter values "
   ]
  },
  {
   "cell_type": "code",
   "execution_count": 206,
   "metadata": {},
   "outputs": [],
   "source": [
    "from sklearn.model_selection import GridSearchCV"
   ]
  },
  {
   "cell_type": "code",
   "execution_count": 207,
   "metadata": {},
   "outputs": [
    {
     "name": "stdout",
     "output_type": "stream",
     "text": [
      "Fitting 5 folds for each of 126 candidates, totalling 630 fits\n",
      "[CV 1/5] END ...criterion=gini, max_depth=15, n_estimators=5; total time=   0.0s\n",
      "[CV 2/5] END ...criterion=gini, max_depth=15, n_estimators=5; total time=   0.0s\n",
      "[CV 3/5] END ...criterion=gini, max_depth=15, n_estimators=5; total time=   0.0s\n",
      "[CV 4/5] END ...criterion=gini, max_depth=15, n_estimators=5; total time=   0.0s\n",
      "[CV 5/5] END ...criterion=gini, max_depth=15, n_estimators=5; total time=   0.0s\n",
      "[CV 1/5] END ..criterion=gini, max_depth=15, n_estimators=20; total time=   0.2s\n",
      "[CV 2/5] END ..criterion=gini, max_depth=15, n_estimators=20; total time=   0.2s\n",
      "[CV 3/5] END ..criterion=gini, max_depth=15, n_estimators=20; total time=   0.3s\n",
      "[CV 4/5] END ..criterion=gini, max_depth=15, n_estimators=20; total time=   0.2s\n",
      "[CV 5/5] END ..criterion=gini, max_depth=15, n_estimators=20; total time=   0.2s\n",
      "[CV 1/5] END ..criterion=gini, max_depth=15, n_estimators=35; total time=   0.4s\n",
      "[CV 2/5] END ..criterion=gini, max_depth=15, n_estimators=35; total time=   0.4s\n",
      "[CV 3/5] END ..criterion=gini, max_depth=15, n_estimators=35; total time=   0.4s\n",
      "[CV 4/5] END ..criterion=gini, max_depth=15, n_estimators=35; total time=   0.4s\n",
      "[CV 5/5] END ..criterion=gini, max_depth=15, n_estimators=35; total time=   0.4s\n",
      "[CV 1/5] END ..criterion=gini, max_depth=15, n_estimators=50; total time=   0.7s\n",
      "[CV 2/5] END ..criterion=gini, max_depth=15, n_estimators=50; total time=   0.6s\n",
      "[CV 3/5] END ..criterion=gini, max_depth=15, n_estimators=50; total time=   0.5s\n",
      "[CV 4/5] END ..criterion=gini, max_depth=15, n_estimators=50; total time=   0.5s\n",
      "[CV 5/5] END ..criterion=gini, max_depth=15, n_estimators=50; total time=   0.5s\n",
      "[CV 1/5] END ..criterion=gini, max_depth=15, n_estimators=65; total time=   0.6s\n",
      "[CV 2/5] END ..criterion=gini, max_depth=15, n_estimators=65; total time=   0.5s\n",
      "[CV 3/5] END ..criterion=gini, max_depth=15, n_estimators=65; total time=   0.5s\n",
      "[CV 4/5] END ..criterion=gini, max_depth=15, n_estimators=65; total time=   0.5s\n",
      "[CV 5/5] END ..criterion=gini, max_depth=15, n_estimators=65; total time=   0.7s\n",
      "[CV 1/5] END ..criterion=gini, max_depth=15, n_estimators=80; total time=   1.0s\n",
      "[CV 2/5] END ..criterion=gini, max_depth=15, n_estimators=80; total time=   0.8s\n",
      "[CV 3/5] END ..criterion=gini, max_depth=15, n_estimators=80; total time=   0.9s\n",
      "[CV 4/5] END ..criterion=gini, max_depth=15, n_estimators=80; total time=   1.0s\n",
      "[CV 5/5] END ..criterion=gini, max_depth=15, n_estimators=80; total time=   0.9s\n",
      "[CV 1/5] END ..criterion=gini, max_depth=15, n_estimators=95; total time=   1.1s\n",
      "[CV 2/5] END ..criterion=gini, max_depth=15, n_estimators=95; total time=   1.0s\n",
      "[CV 3/5] END ..criterion=gini, max_depth=15, n_estimators=95; total time=   1.0s\n",
      "[CV 4/5] END ..criterion=gini, max_depth=15, n_estimators=95; total time=   0.9s\n",
      "[CV 5/5] END ..criterion=gini, max_depth=15, n_estimators=95; total time=   1.0s\n",
      "[CV 1/5] END ...criterion=gini, max_depth=25, n_estimators=5; total time=   0.0s\n",
      "[CV 2/5] END ...criterion=gini, max_depth=25, n_estimators=5; total time=   0.0s\n",
      "[CV 3/5] END ...criterion=gini, max_depth=25, n_estimators=5; total time=   0.0s\n",
      "[CV 4/5] END ...criterion=gini, max_depth=25, n_estimators=5; total time=   0.0s\n",
      "[CV 5/5] END ...criterion=gini, max_depth=25, n_estimators=5; total time=   0.0s\n",
      "[CV 1/5] END ..criterion=gini, max_depth=25, n_estimators=20; total time=   0.2s\n",
      "[CV 2/5] END ..criterion=gini, max_depth=25, n_estimators=20; total time=   0.2s\n",
      "[CV 3/5] END ..criterion=gini, max_depth=25, n_estimators=20; total time=   0.2s\n",
      "[CV 4/5] END ..criterion=gini, max_depth=25, n_estimators=20; total time=   0.2s\n",
      "[CV 5/5] END ..criterion=gini, max_depth=25, n_estimators=20; total time=   0.2s\n",
      "[CV 1/5] END ..criterion=gini, max_depth=25, n_estimators=35; total time=   0.3s\n",
      "[CV 2/5] END ..criterion=gini, max_depth=25, n_estimators=35; total time=   0.3s\n",
      "[CV 3/5] END ..criterion=gini, max_depth=25, n_estimators=35; total time=   0.3s\n",
      "[CV 4/5] END ..criterion=gini, max_depth=25, n_estimators=35; total time=   0.2s\n",
      "[CV 5/5] END ..criterion=gini, max_depth=25, n_estimators=35; total time=   0.2s\n",
      "[CV 1/5] END ..criterion=gini, max_depth=25, n_estimators=50; total time=   0.4s\n",
      "[CV 2/5] END ..criterion=gini, max_depth=25, n_estimators=50; total time=   0.3s\n",
      "[CV 3/5] END ..criterion=gini, max_depth=25, n_estimators=50; total time=   0.3s\n",
      "[CV 4/5] END ..criterion=gini, max_depth=25, n_estimators=50; total time=   0.4s\n",
      "[CV 5/5] END ..criterion=gini, max_depth=25, n_estimators=50; total time=   0.3s\n",
      "[CV 1/5] END ..criterion=gini, max_depth=25, n_estimators=65; total time=   0.3s\n",
      "[CV 2/5] END ..criterion=gini, max_depth=25, n_estimators=65; total time=   0.3s\n",
      "[CV 3/5] END ..criterion=gini, max_depth=25, n_estimators=65; total time=   0.3s\n",
      "[CV 4/5] END ..criterion=gini, max_depth=25, n_estimators=65; total time=   1.0s\n",
      "[CV 5/5] END ..criterion=gini, max_depth=25, n_estimators=65; total time=   0.7s\n",
      "[CV 1/5] END ..criterion=gini, max_depth=25, n_estimators=80; total time=   0.8s\n",
      "[CV 2/5] END ..criterion=gini, max_depth=25, n_estimators=80; total time=   1.4s\n",
      "[CV 3/5] END ..criterion=gini, max_depth=25, n_estimators=80; total time=   1.0s\n",
      "[CV 4/5] END ..criterion=gini, max_depth=25, n_estimators=80; total time=   0.8s\n",
      "[CV 5/5] END ..criterion=gini, max_depth=25, n_estimators=80; total time=   1.1s\n",
      "[CV 1/5] END ..criterion=gini, max_depth=25, n_estimators=95; total time=   1.4s\n",
      "[CV 2/5] END ..criterion=gini, max_depth=25, n_estimators=95; total time=   1.3s\n",
      "[CV 3/5] END ..criterion=gini, max_depth=25, n_estimators=95; total time=   1.2s\n",
      "[CV 4/5] END ..criterion=gini, max_depth=25, n_estimators=95; total time=   0.9s\n",
      "[CV 5/5] END ..criterion=gini, max_depth=25, n_estimators=95; total time=   1.0s\n",
      "[CV 1/5] END ...criterion=gini, max_depth=35, n_estimators=5; total time=   0.0s\n",
      "[CV 2/5] END ...criterion=gini, max_depth=35, n_estimators=5; total time=   0.0s\n",
      "[CV 3/5] END ...criterion=gini, max_depth=35, n_estimators=5; total time=   0.0s\n",
      "[CV 4/5] END ...criterion=gini, max_depth=35, n_estimators=5; total time=   0.0s\n",
      "[CV 5/5] END ...criterion=gini, max_depth=35, n_estimators=5; total time=   0.0s\n",
      "[CV 1/5] END ..criterion=gini, max_depth=35, n_estimators=20; total time=   0.2s\n",
      "[CV 2/5] END ..criterion=gini, max_depth=35, n_estimators=20; total time=   0.2s\n",
      "[CV 3/5] END ..criterion=gini, max_depth=35, n_estimators=20; total time=   0.2s\n",
      "[CV 4/5] END ..criterion=gini, max_depth=35, n_estimators=20; total time=   0.2s\n",
      "[CV 5/5] END ..criterion=gini, max_depth=35, n_estimators=20; total time=   0.2s\n",
      "[CV 1/5] END ..criterion=gini, max_depth=35, n_estimators=35; total time=   0.3s\n",
      "[CV 2/5] END ..criterion=gini, max_depth=35, n_estimators=35; total time=   0.4s\n",
      "[CV 3/5] END ..criterion=gini, max_depth=35, n_estimators=35; total time=   0.3s\n",
      "[CV 4/5] END ..criterion=gini, max_depth=35, n_estimators=35; total time=   0.3s\n",
      "[CV 5/5] END ..criterion=gini, max_depth=35, n_estimators=35; total time=   0.3s\n",
      "[CV 1/5] END ..criterion=gini, max_depth=35, n_estimators=50; total time=   0.4s\n",
      "[CV 2/5] END ..criterion=gini, max_depth=35, n_estimators=50; total time=   0.4s\n",
      "[CV 3/5] END ..criterion=gini, max_depth=35, n_estimators=50; total time=   0.6s\n",
      "[CV 4/5] END ..criterion=gini, max_depth=35, n_estimators=50; total time=   0.7s\n",
      "[CV 5/5] END ..criterion=gini, max_depth=35, n_estimators=50; total time=   0.6s\n",
      "[CV 1/5] END ..criterion=gini, max_depth=35, n_estimators=65; total time=   0.7s\n",
      "[CV 2/5] END ..criterion=gini, max_depth=35, n_estimators=65; total time=   0.7s\n",
      "[CV 3/5] END ..criterion=gini, max_depth=35, n_estimators=65; total time=   0.7s\n",
      "[CV 4/5] END ..criterion=gini, max_depth=35, n_estimators=65; total time=   0.9s\n",
      "[CV 5/5] END ..criterion=gini, max_depth=35, n_estimators=65; total time=   0.7s\n",
      "[CV 1/5] END ..criterion=gini, max_depth=35, n_estimators=80; total time=   0.8s\n",
      "[CV 2/5] END ..criterion=gini, max_depth=35, n_estimators=80; total time=   1.1s\n",
      "[CV 3/5] END ..criterion=gini, max_depth=35, n_estimators=80; total time=   0.9s\n",
      "[CV 4/5] END ..criterion=gini, max_depth=35, n_estimators=80; total time=   1.0s\n",
      "[CV 5/5] END ..criterion=gini, max_depth=35, n_estimators=80; total time=   1.1s\n",
      "[CV 1/5] END ..criterion=gini, max_depth=35, n_estimators=95; total time=   1.1s\n",
      "[CV 2/5] END ..criterion=gini, max_depth=35, n_estimators=95; total time=   0.9s\n",
      "[CV 3/5] END ..criterion=gini, max_depth=35, n_estimators=95; total time=   1.0s\n",
      "[CV 4/5] END ..criterion=gini, max_depth=35, n_estimators=95; total time=   1.0s\n",
      "[CV 5/5] END ..criterion=gini, max_depth=35, n_estimators=95; total time=   0.8s\n",
      "[CV 1/5] END ...criterion=gini, max_depth=45, n_estimators=5; total time=   0.0s\n",
      "[CV 2/5] END ...criterion=gini, max_depth=45, n_estimators=5; total time=   0.0s\n",
      "[CV 3/5] END ...criterion=gini, max_depth=45, n_estimators=5; total time=   0.0s\n",
      "[CV 4/5] END ...criterion=gini, max_depth=45, n_estimators=5; total time=   0.0s\n",
      "[CV 5/5] END ...criterion=gini, max_depth=45, n_estimators=5; total time=   0.0s\n",
      "[CV 1/5] END ..criterion=gini, max_depth=45, n_estimators=20; total time=   0.1s\n",
      "[CV 2/5] END ..criterion=gini, max_depth=45, n_estimators=20; total time=   0.1s\n",
      "[CV 3/5] END ..criterion=gini, max_depth=45, n_estimators=20; total time=   0.1s\n",
      "[CV 4/5] END ..criterion=gini, max_depth=45, n_estimators=20; total time=   0.1s\n",
      "[CV 5/5] END ..criterion=gini, max_depth=45, n_estimators=20; total time=   0.1s\n",
      "[CV 1/5] END ..criterion=gini, max_depth=45, n_estimators=35; total time=   0.6s\n",
      "[CV 2/5] END ..criterion=gini, max_depth=45, n_estimators=35; total time=   0.6s\n",
      "[CV 3/5] END ..criterion=gini, max_depth=45, n_estimators=35; total time=   0.3s\n",
      "[CV 4/5] END ..criterion=gini, max_depth=45, n_estimators=35; total time=   0.4s\n",
      "[CV 5/5] END ..criterion=gini, max_depth=45, n_estimators=35; total time=   0.4s\n",
      "[CV 1/5] END ..criterion=gini, max_depth=45, n_estimators=50; total time=   0.6s\n",
      "[CV 2/5] END ..criterion=gini, max_depth=45, n_estimators=50; total time=   0.5s\n",
      "[CV 3/5] END ..criterion=gini, max_depth=45, n_estimators=50; total time=   0.4s\n",
      "[CV 4/5] END ..criterion=gini, max_depth=45, n_estimators=50; total time=   0.3s\n",
      "[CV 5/5] END ..criterion=gini, max_depth=45, n_estimators=50; total time=   0.6s\n",
      "[CV 1/5] END ..criterion=gini, max_depth=45, n_estimators=65; total time=   0.7s\n",
      "[CV 2/5] END ..criterion=gini, max_depth=45, n_estimators=65; total time=   0.6s\n",
      "[CV 3/5] END ..criterion=gini, max_depth=45, n_estimators=65; total time=   0.6s\n",
      "[CV 4/5] END ..criterion=gini, max_depth=45, n_estimators=65; total time=   0.6s\n",
      "[CV 5/5] END ..criterion=gini, max_depth=45, n_estimators=65; total time=   0.5s\n",
      "[CV 1/5] END ..criterion=gini, max_depth=45, n_estimators=80; total time=   1.1s\n",
      "[CV 2/5] END ..criterion=gini, max_depth=45, n_estimators=80; total time=   0.9s\n",
      "[CV 3/5] END ..criterion=gini, max_depth=45, n_estimators=80; total time=   1.0s\n",
      "[CV 4/5] END ..criterion=gini, max_depth=45, n_estimators=80; total time=   0.9s\n",
      "[CV 5/5] END ..criterion=gini, max_depth=45, n_estimators=80; total time=   0.7s\n",
      "[CV 1/5] END ..criterion=gini, max_depth=45, n_estimators=95; total time=   1.3s\n",
      "[CV 2/5] END ..criterion=gini, max_depth=45, n_estimators=95; total time=   1.1s\n",
      "[CV 3/5] END ..criterion=gini, max_depth=45, n_estimators=95; total time=   1.0s\n",
      "[CV 4/5] END ..criterion=gini, max_depth=45, n_estimators=95; total time=   1.2s\n",
      "[CV 5/5] END ..criterion=gini, max_depth=45, n_estimators=95; total time=   1.2s\n",
      "[CV 1/5] END ...criterion=gini, max_depth=55, n_estimators=5; total time=   0.0s\n",
      "[CV 2/5] END ...criterion=gini, max_depth=55, n_estimators=5; total time=   0.0s\n",
      "[CV 3/5] END ...criterion=gini, max_depth=55, n_estimators=5; total time=   0.0s\n",
      "[CV 4/5] END ...criterion=gini, max_depth=55, n_estimators=5; total time=   0.0s\n",
      "[CV 5/5] END ...criterion=gini, max_depth=55, n_estimators=5; total time=   0.0s\n",
      "[CV 1/5] END ..criterion=gini, max_depth=55, n_estimators=20; total time=   0.2s\n",
      "[CV 2/5] END ..criterion=gini, max_depth=55, n_estimators=20; total time=   0.1s\n",
      "[CV 3/5] END ..criterion=gini, max_depth=55, n_estimators=20; total time=   0.1s\n",
      "[CV 4/5] END ..criterion=gini, max_depth=55, n_estimators=20; total time=   0.1s\n",
      "[CV 5/5] END ..criterion=gini, max_depth=55, n_estimators=20; total time=   0.1s\n",
      "[CV 1/5] END ..criterion=gini, max_depth=55, n_estimators=35; total time=   0.3s\n",
      "[CV 2/5] END ..criterion=gini, max_depth=55, n_estimators=35; total time=   0.4s\n",
      "[CV 3/5] END ..criterion=gini, max_depth=55, n_estimators=35; total time=   0.5s\n",
      "[CV 4/5] END ..criterion=gini, max_depth=55, n_estimators=35; total time=   0.4s\n",
      "[CV 5/5] END ..criterion=gini, max_depth=55, n_estimators=35; total time=   0.4s\n",
      "[CV 1/5] END ..criterion=gini, max_depth=55, n_estimators=50; total time=   0.5s\n",
      "[CV 2/5] END ..criterion=gini, max_depth=55, n_estimators=50; total time=   0.5s\n",
      "[CV 3/5] END ..criterion=gini, max_depth=55, n_estimators=50; total time=   0.5s\n",
      "[CV 4/5] END ..criterion=gini, max_depth=55, n_estimators=50; total time=   0.4s\n",
      "[CV 5/5] END ..criterion=gini, max_depth=55, n_estimators=50; total time=   0.4s\n",
      "[CV 1/5] END ..criterion=gini, max_depth=55, n_estimators=65; total time=   0.5s\n",
      "[CV 2/5] END ..criterion=gini, max_depth=55, n_estimators=65; total time=   0.5s\n",
      "[CV 3/5] END ..criterion=gini, max_depth=55, n_estimators=65; total time=   0.5s\n",
      "[CV 4/5] END ..criterion=gini, max_depth=55, n_estimators=65; total time=   0.4s\n",
      "[CV 5/5] END ..criterion=gini, max_depth=55, n_estimators=65; total time=   0.7s\n",
      "[CV 1/5] END ..criterion=gini, max_depth=55, n_estimators=80; total time=   1.0s\n",
      "[CV 2/5] END ..criterion=gini, max_depth=55, n_estimators=80; total time=   1.1s\n",
      "[CV 3/5] END ..criterion=gini, max_depth=55, n_estimators=80; total time=   1.1s\n",
      "[CV 4/5] END ..criterion=gini, max_depth=55, n_estimators=80; total time=   0.9s\n",
      "[CV 5/5] END ..criterion=gini, max_depth=55, n_estimators=80; total time=   0.9s\n",
      "[CV 1/5] END ..criterion=gini, max_depth=55, n_estimators=95; total time=   1.2s\n",
      "[CV 2/5] END ..criterion=gini, max_depth=55, n_estimators=95; total time=   1.1s\n",
      "[CV 3/5] END ..criterion=gini, max_depth=55, n_estimators=95; total time=   0.9s\n",
      "[CV 4/5] END ..criterion=gini, max_depth=55, n_estimators=95; total time=   0.8s\n",
      "[CV 5/5] END ..criterion=gini, max_depth=55, n_estimators=95; total time=   1.2s\n",
      "[CV 1/5] END ...criterion=gini, max_depth=65, n_estimators=5; total time=   0.0s\n",
      "[CV 2/5] END ...criterion=gini, max_depth=65, n_estimators=5; total time=   0.0s\n",
      "[CV 3/5] END ...criterion=gini, max_depth=65, n_estimators=5; total time=   0.0s\n",
      "[CV 4/5] END ...criterion=gini, max_depth=65, n_estimators=5; total time=   0.0s\n",
      "[CV 5/5] END ...criterion=gini, max_depth=65, n_estimators=5; total time=   0.0s\n",
      "[CV 1/5] END ..criterion=gini, max_depth=65, n_estimators=20; total time=   0.2s\n",
      "[CV 2/5] END ..criterion=gini, max_depth=65, n_estimators=20; total time=   0.2s\n",
      "[CV 3/5] END ..criterion=gini, max_depth=65, n_estimators=20; total time=   0.3s\n",
      "[CV 4/5] END ..criterion=gini, max_depth=65, n_estimators=20; total time=   0.2s\n",
      "[CV 5/5] END ..criterion=gini, max_depth=65, n_estimators=20; total time=   0.2s\n",
      "[CV 1/5] END ..criterion=gini, max_depth=65, n_estimators=35; total time=   0.4s\n",
      "[CV 2/5] END ..criterion=gini, max_depth=65, n_estimators=35; total time=   0.3s\n",
      "[CV 3/5] END ..criterion=gini, max_depth=65, n_estimators=35; total time=   0.3s\n",
      "[CV 4/5] END ..criterion=gini, max_depth=65, n_estimators=35; total time=   0.7s\n",
      "[CV 5/5] END ..criterion=gini, max_depth=65, n_estimators=35; total time=   0.5s\n",
      "[CV 1/5] END ..criterion=gini, max_depth=65, n_estimators=50; total time=   0.6s\n",
      "[CV 2/5] END ..criterion=gini, max_depth=65, n_estimators=50; total time=   0.5s\n",
      "[CV 3/5] END ..criterion=gini, max_depth=65, n_estimators=50; total time=   0.5s\n",
      "[CV 4/5] END ..criterion=gini, max_depth=65, n_estimators=50; total time=   0.4s\n",
      "[CV 5/5] END ..criterion=gini, max_depth=65, n_estimators=50; total time=   0.3s\n",
      "[CV 1/5] END ..criterion=gini, max_depth=65, n_estimators=65; total time=   1.2s\n",
      "[CV 2/5] END ..criterion=gini, max_depth=65, n_estimators=65; total time=   0.9s\n",
      "[CV 3/5] END ..criterion=gini, max_depth=65, n_estimators=65; total time=   0.7s\n",
      "[CV 4/5] END ..criterion=gini, max_depth=65, n_estimators=65; total time=   0.6s\n",
      "[CV 5/5] END ..criterion=gini, max_depth=65, n_estimators=65; total time=   0.8s\n",
      "[CV 1/5] END ..criterion=gini, max_depth=65, n_estimators=80; total time=   0.8s\n",
      "[CV 2/5] END ..criterion=gini, max_depth=65, n_estimators=80; total time=   0.7s\n",
      "[CV 3/5] END ..criterion=gini, max_depth=65, n_estimators=80; total time=   0.6s\n",
      "[CV 4/5] END ..criterion=gini, max_depth=65, n_estimators=80; total time=   0.5s\n",
      "[CV 5/5] END ..criterion=gini, max_depth=65, n_estimators=80; total time=   0.7s\n",
      "[CV 1/5] END ..criterion=gini, max_depth=65, n_estimators=95; total time=   1.6s\n",
      "[CV 2/5] END ..criterion=gini, max_depth=65, n_estimators=95; total time=   1.2s\n",
      "[CV 3/5] END ..criterion=gini, max_depth=65, n_estimators=95; total time=   1.9s\n",
      "[CV 4/5] END ..criterion=gini, max_depth=65, n_estimators=95; total time=   1.4s\n",
      "[CV 5/5] END ..criterion=gini, max_depth=65, n_estimators=95; total time=   1.2s\n",
      "[CV 1/5] END ...criterion=gini, max_depth=75, n_estimators=5; total time=   0.0s\n",
      "[CV 2/5] END ...criterion=gini, max_depth=75, n_estimators=5; total time=   0.0s\n",
      "[CV 3/5] END ...criterion=gini, max_depth=75, n_estimators=5; total time=   0.0s\n",
      "[CV 4/5] END ...criterion=gini, max_depth=75, n_estimators=5; total time=   0.0s\n",
      "[CV 5/5] END ...criterion=gini, max_depth=75, n_estimators=5; total time=   0.0s\n",
      "[CV 1/5] END ..criterion=gini, max_depth=75, n_estimators=20; total time=   0.2s\n",
      "[CV 2/5] END ..criterion=gini, max_depth=75, n_estimators=20; total time=   0.1s\n",
      "[CV 3/5] END ..criterion=gini, max_depth=75, n_estimators=20; total time=   0.2s\n",
      "[CV 4/5] END ..criterion=gini, max_depth=75, n_estimators=20; total time=   0.1s\n",
      "[CV 5/5] END ..criterion=gini, max_depth=75, n_estimators=20; total time=   0.2s\n",
      "[CV 1/5] END ..criterion=gini, max_depth=75, n_estimators=35; total time=   0.3s\n",
      "[CV 2/5] END ..criterion=gini, max_depth=75, n_estimators=35; total time=   0.2s\n",
      "[CV 3/5] END ..criterion=gini, max_depth=75, n_estimators=35; total time=   0.2s\n",
      "[CV 4/5] END ..criterion=gini, max_depth=75, n_estimators=35; total time=   0.3s\n",
      "[CV 5/5] END ..criterion=gini, max_depth=75, n_estimators=35; total time=   0.2s\n",
      "[CV 1/5] END ..criterion=gini, max_depth=75, n_estimators=50; total time=   0.4s\n",
      "[CV 2/5] END ..criterion=gini, max_depth=75, n_estimators=50; total time=   0.7s\n",
      "[CV 3/5] END ..criterion=gini, max_depth=75, n_estimators=50; total time=   0.7s\n",
      "[CV 4/5] END ..criterion=gini, max_depth=75, n_estimators=50; total time=   0.8s\n",
      "[CV 5/5] END ..criterion=gini, max_depth=75, n_estimators=50; total time=   0.6s\n",
      "[CV 1/5] END ..criterion=gini, max_depth=75, n_estimators=65; total time=   0.6s\n",
      "[CV 2/5] END ..criterion=gini, max_depth=75, n_estimators=65; total time=   0.6s\n",
      "[CV 3/5] END ..criterion=gini, max_depth=75, n_estimators=65; total time=   0.4s\n",
      "[CV 4/5] END ..criterion=gini, max_depth=75, n_estimators=65; total time=   0.4s\n",
      "[CV 5/5] END ..criterion=gini, max_depth=75, n_estimators=65; total time=   0.8s\n",
      "[CV 1/5] END ..criterion=gini, max_depth=75, n_estimators=80; total time=   0.9s\n",
      "[CV 2/5] END ..criterion=gini, max_depth=75, n_estimators=80; total time=   1.1s\n",
      "[CV 3/5] END ..criterion=gini, max_depth=75, n_estimators=80; total time=   1.0s\n",
      "[CV 4/5] END ..criterion=gini, max_depth=75, n_estimators=80; total time=   1.1s\n",
      "[CV 5/5] END ..criterion=gini, max_depth=75, n_estimators=80; total time=   1.0s\n",
      "[CV 1/5] END ..criterion=gini, max_depth=75, n_estimators=95; total time=   0.9s\n",
      "[CV 2/5] END ..criterion=gini, max_depth=75, n_estimators=95; total time=   1.1s\n",
      "[CV 3/5] END ..criterion=gini, max_depth=75, n_estimators=95; total time=   1.1s\n",
      "[CV 4/5] END ..criterion=gini, max_depth=75, n_estimators=95; total time=   1.0s\n",
      "[CV 5/5] END ..criterion=gini, max_depth=75, n_estimators=95; total time=   0.9s\n",
      "[CV 1/5] END ...criterion=gini, max_depth=85, n_estimators=5; total time=   0.0s\n",
      "[CV 2/5] END ...criterion=gini, max_depth=85, n_estimators=5; total time=   0.0s\n",
      "[CV 3/5] END ...criterion=gini, max_depth=85, n_estimators=5; total time=   0.0s\n",
      "[CV 4/5] END ...criterion=gini, max_depth=85, n_estimators=5; total time=   0.0s\n",
      "[CV 5/5] END ...criterion=gini, max_depth=85, n_estimators=5; total time=   0.0s\n",
      "[CV 1/5] END ..criterion=gini, max_depth=85, n_estimators=20; total time=   0.3s\n",
      "[CV 2/5] END ..criterion=gini, max_depth=85, n_estimators=20; total time=   0.3s\n",
      "[CV 3/5] END ..criterion=gini, max_depth=85, n_estimators=20; total time=   0.3s\n",
      "[CV 4/5] END ..criterion=gini, max_depth=85, n_estimators=20; total time=   0.2s\n",
      "[CV 5/5] END ..criterion=gini, max_depth=85, n_estimators=20; total time=   0.2s\n",
      "[CV 1/5] END ..criterion=gini, max_depth=85, n_estimators=35; total time=   0.6s\n",
      "[CV 2/5] END ..criterion=gini, max_depth=85, n_estimators=35; total time=   0.4s\n",
      "[CV 3/5] END ..criterion=gini, max_depth=85, n_estimators=35; total time=   0.4s\n",
      "[CV 4/5] END ..criterion=gini, max_depth=85, n_estimators=35; total time=   0.4s\n",
      "[CV 5/5] END ..criterion=gini, max_depth=85, n_estimators=35; total time=   0.5s\n",
      "[CV 1/5] END ..criterion=gini, max_depth=85, n_estimators=50; total time=   0.5s\n",
      "[CV 2/5] END ..criterion=gini, max_depth=85, n_estimators=50; total time=   0.7s\n",
      "[CV 3/5] END ..criterion=gini, max_depth=85, n_estimators=50; total time=   0.6s\n",
      "[CV 4/5] END ..criterion=gini, max_depth=85, n_estimators=50; total time=   0.8s\n",
      "[CV 5/5] END ..criterion=gini, max_depth=85, n_estimators=50; total time=   0.6s\n",
      "[CV 1/5] END ..criterion=gini, max_depth=85, n_estimators=65; total time=   0.9s\n",
      "[CV 2/5] END ..criterion=gini, max_depth=85, n_estimators=65; total time=   0.7s\n",
      "[CV 3/5] END ..criterion=gini, max_depth=85, n_estimators=65; total time=   0.7s\n",
      "[CV 4/5] END ..criterion=gini, max_depth=85, n_estimators=65; total time=   0.6s\n",
      "[CV 5/5] END ..criterion=gini, max_depth=85, n_estimators=65; total time=   0.6s\n",
      "[CV 1/5] END ..criterion=gini, max_depth=85, n_estimators=80; total time=   0.6s\n",
      "[CV 2/5] END ..criterion=gini, max_depth=85, n_estimators=80; total time=   0.6s\n",
      "[CV 3/5] END ..criterion=gini, max_depth=85, n_estimators=80; total time=   0.5s\n",
      "[CV 4/5] END ..criterion=gini, max_depth=85, n_estimators=80; total time=   0.5s\n",
      "[CV 5/5] END ..criterion=gini, max_depth=85, n_estimators=80; total time=   0.5s\n",
      "[CV 1/5] END ..criterion=gini, max_depth=85, n_estimators=95; total time=   0.6s\n",
      "[CV 2/5] END ..criterion=gini, max_depth=85, n_estimators=95; total time=   0.5s\n",
      "[CV 3/5] END ..criterion=gini, max_depth=85, n_estimators=95; total time=   0.5s\n",
      "[CV 4/5] END ..criterion=gini, max_depth=85, n_estimators=95; total time=   0.5s\n",
      "[CV 5/5] END ..criterion=gini, max_depth=85, n_estimators=95; total time=   1.2s\n",
      "[CV 1/5] END ...criterion=gini, max_depth=95, n_estimators=5; total time=   0.0s\n",
      "[CV 2/5] END ...criterion=gini, max_depth=95, n_estimators=5; total time=   0.0s\n",
      "[CV 3/5] END ...criterion=gini, max_depth=95, n_estimators=5; total time=   0.0s\n",
      "[CV 4/5] END ...criterion=gini, max_depth=95, n_estimators=5; total time=   0.0s\n",
      "[CV 5/5] END ...criterion=gini, max_depth=95, n_estimators=5; total time=   0.0s\n",
      "[CV 1/5] END ..criterion=gini, max_depth=95, n_estimators=20; total time=   0.2s\n",
      "[CV 2/5] END ..criterion=gini, max_depth=95, n_estimators=20; total time=   0.3s\n",
      "[CV 3/5] END ..criterion=gini, max_depth=95, n_estimators=20; total time=   0.3s\n",
      "[CV 4/5] END ..criterion=gini, max_depth=95, n_estimators=20; total time=   0.2s\n",
      "[CV 5/5] END ..criterion=gini, max_depth=95, n_estimators=20; total time=   0.2s\n",
      "[CV 1/5] END ..criterion=gini, max_depth=95, n_estimators=35; total time=   0.4s\n",
      "[CV 2/5] END ..criterion=gini, max_depth=95, n_estimators=35; total time=   0.4s\n",
      "[CV 3/5] END ..criterion=gini, max_depth=95, n_estimators=35; total time=   0.3s\n",
      "[CV 4/5] END ..criterion=gini, max_depth=95, n_estimators=35; total time=   0.3s\n",
      "[CV 5/5] END ..criterion=gini, max_depth=95, n_estimators=35; total time=   0.5s\n",
      "[CV 1/5] END ..criterion=gini, max_depth=95, n_estimators=50; total time=   0.8s\n",
      "[CV 2/5] END ..criterion=gini, max_depth=95, n_estimators=50; total time=   0.5s\n",
      "[CV 3/5] END ..criterion=gini, max_depth=95, n_estimators=50; total time=   0.5s\n",
      "[CV 4/5] END ..criterion=gini, max_depth=95, n_estimators=50; total time=   0.5s\n",
      "[CV 5/5] END ..criterion=gini, max_depth=95, n_estimators=50; total time=   0.8s\n",
      "[CV 1/5] END ..criterion=gini, max_depth=95, n_estimators=65; total time=   1.1s\n",
      "[CV 2/5] END ..criterion=gini, max_depth=95, n_estimators=65; total time=   0.8s\n",
      "[CV 3/5] END ..criterion=gini, max_depth=95, n_estimators=65; total time=   0.6s\n",
      "[CV 4/5] END ..criterion=gini, max_depth=95, n_estimators=65; total time=   0.6s\n",
      "[CV 5/5] END ..criterion=gini, max_depth=95, n_estimators=65; total time=   0.5s\n",
      "[CV 1/5] END ..criterion=gini, max_depth=95, n_estimators=80; total time=   0.6s\n",
      "[CV 2/5] END ..criterion=gini, max_depth=95, n_estimators=80; total time=   0.6s\n",
      "[CV 3/5] END ..criterion=gini, max_depth=95, n_estimators=80; total time=   0.5s\n",
      "[CV 4/5] END ..criterion=gini, max_depth=95, n_estimators=80; total time=   0.5s\n",
      "[CV 5/5] END ..criterion=gini, max_depth=95, n_estimators=80; total time=   0.5s\n",
      "[CV 1/5] END ..criterion=gini, max_depth=95, n_estimators=95; total time=   0.5s\n",
      "[CV 2/5] END ..criterion=gini, max_depth=95, n_estimators=95; total time=   0.5s\n",
      "[CV 3/5] END ..criterion=gini, max_depth=95, n_estimators=95; total time=   0.5s\n",
      "[CV 4/5] END ..criterion=gini, max_depth=95, n_estimators=95; total time=   0.5s\n",
      "[CV 5/5] END ..criterion=gini, max_depth=95, n_estimators=95; total time=   0.5s\n",
      "[CV 1/5] END criterion=entropy, max_depth=15, n_estimators=5; total time=   0.0s\n",
      "[CV 2/5] END criterion=entropy, max_depth=15, n_estimators=5; total time=   0.0s\n",
      "[CV 3/5] END criterion=entropy, max_depth=15, n_estimators=5; total time=   0.0s\n",
      "[CV 4/5] END criterion=entropy, max_depth=15, n_estimators=5; total time=   0.0s\n",
      "[CV 5/5] END criterion=entropy, max_depth=15, n_estimators=5; total time=   0.0s\n",
      "[CV 1/5] END criterion=entropy, max_depth=15, n_estimators=20; total time=   0.1s\n",
      "[CV 2/5] END criterion=entropy, max_depth=15, n_estimators=20; total time=   0.1s\n",
      "[CV 3/5] END criterion=entropy, max_depth=15, n_estimators=20; total time=   0.1s\n",
      "[CV 4/5] END criterion=entropy, max_depth=15, n_estimators=20; total time=   0.1s\n",
      "[CV 5/5] END criterion=entropy, max_depth=15, n_estimators=20; total time=   0.1s\n",
      "[CV 1/5] END criterion=entropy, max_depth=15, n_estimators=35; total time=   0.2s\n",
      "[CV 2/5] END criterion=entropy, max_depth=15, n_estimators=35; total time=   0.2s\n",
      "[CV 3/5] END criterion=entropy, max_depth=15, n_estimators=35; total time=   0.2s\n",
      "[CV 4/5] END criterion=entropy, max_depth=15, n_estimators=35; total time=   0.2s\n",
      "[CV 5/5] END criterion=entropy, max_depth=15, n_estimators=35; total time=   0.2s\n",
      "[CV 1/5] END criterion=entropy, max_depth=15, n_estimators=50; total time=   0.4s\n",
      "[CV 2/5] END criterion=entropy, max_depth=15, n_estimators=50; total time=   0.3s\n",
      "[CV 3/5] END criterion=entropy, max_depth=15, n_estimators=50; total time=   0.3s\n",
      "[CV 4/5] END criterion=entropy, max_depth=15, n_estimators=50; total time=   0.3s\n",
      "[CV 5/5] END criterion=entropy, max_depth=15, n_estimators=50; total time=   0.3s\n",
      "[CV 1/5] END criterion=entropy, max_depth=15, n_estimators=65; total time=   0.5s\n",
      "[CV 2/5] END criterion=entropy, max_depth=15, n_estimators=65; total time=   0.5s\n",
      "[CV 3/5] END criterion=entropy, max_depth=15, n_estimators=65; total time=   0.6s\n",
      "[CV 4/5] END criterion=entropy, max_depth=15, n_estimators=65; total time=   0.6s\n",
      "[CV 5/5] END criterion=entropy, max_depth=15, n_estimators=65; total time=   0.4s\n",
      "[CV 1/5] END criterion=entropy, max_depth=15, n_estimators=80; total time=   0.5s\n",
      "[CV 2/5] END criterion=entropy, max_depth=15, n_estimators=80; total time=   0.5s\n",
      "[CV 3/5] END criterion=entropy, max_depth=15, n_estimators=80; total time=   0.7s\n",
      "[CV 4/5] END criterion=entropy, max_depth=15, n_estimators=80; total time=   1.4s\n",
      "[CV 5/5] END criterion=entropy, max_depth=15, n_estimators=80; total time=   1.0s\n",
      "[CV 1/5] END criterion=entropy, max_depth=15, n_estimators=95; total time=   1.1s\n",
      "[CV 2/5] END criterion=entropy, max_depth=15, n_estimators=95; total time=   1.3s\n",
      "[CV 3/5] END criterion=entropy, max_depth=15, n_estimators=95; total time=   1.7s\n",
      "[CV 4/5] END criterion=entropy, max_depth=15, n_estimators=95; total time=   1.4s\n",
      "[CV 5/5] END criterion=entropy, max_depth=15, n_estimators=95; total time=   1.5s\n",
      "[CV 1/5] END criterion=entropy, max_depth=25, n_estimators=5; total time=   0.0s\n",
      "[CV 2/5] END criterion=entropy, max_depth=25, n_estimators=5; total time=   0.0s\n",
      "[CV 3/5] END criterion=entropy, max_depth=25, n_estimators=5; total time=   0.0s\n",
      "[CV 4/5] END criterion=entropy, max_depth=25, n_estimators=5; total time=   0.1s\n",
      "[CV 5/5] END criterion=entropy, max_depth=25, n_estimators=5; total time=   0.0s\n",
      "[CV 1/5] END criterion=entropy, max_depth=25, n_estimators=20; total time=   0.3s\n",
      "[CV 2/5] END criterion=entropy, max_depth=25, n_estimators=20; total time=   0.3s\n",
      "[CV 3/5] END criterion=entropy, max_depth=25, n_estimators=20; total time=   0.3s\n",
      "[CV 4/5] END criterion=entropy, max_depth=25, n_estimators=20; total time=   0.3s\n",
      "[CV 5/5] END criterion=entropy, max_depth=25, n_estimators=20; total time=   0.3s\n",
      "[CV 1/5] END criterion=entropy, max_depth=25, n_estimators=35; total time=   0.7s\n",
      "[CV 2/5] END criterion=entropy, max_depth=25, n_estimators=35; total time=   0.6s\n",
      "[CV 3/5] END criterion=entropy, max_depth=25, n_estimators=35; total time=   0.5s\n",
      "[CV 4/5] END criterion=entropy, max_depth=25, n_estimators=35; total time=   0.6s\n",
      "[CV 5/5] END criterion=entropy, max_depth=25, n_estimators=35; total time=   0.4s\n",
      "[CV 1/5] END criterion=entropy, max_depth=25, n_estimators=50; total time=   0.7s\n",
      "[CV 2/5] END criterion=entropy, max_depth=25, n_estimators=50; total time=   0.6s\n",
      "[CV 3/5] END criterion=entropy, max_depth=25, n_estimators=50; total time=   0.5s\n",
      "[CV 4/5] END criterion=entropy, max_depth=25, n_estimators=50; total time=   0.5s\n",
      "[CV 5/5] END criterion=entropy, max_depth=25, n_estimators=50; total time=   0.5s\n",
      "[CV 1/5] END criterion=entropy, max_depth=25, n_estimators=65; total time=   0.6s\n",
      "[CV 2/5] END criterion=entropy, max_depth=25, n_estimators=65; total time=   0.5s\n",
      "[CV 3/5] END criterion=entropy, max_depth=25, n_estimators=65; total time=   0.5s\n",
      "[CV 4/5] END criterion=entropy, max_depth=25, n_estimators=65; total time=   0.4s\n",
      "[CV 5/5] END criterion=entropy, max_depth=25, n_estimators=65; total time=   0.5s\n",
      "[CV 1/5] END criterion=entropy, max_depth=25, n_estimators=80; total time=   0.8s\n",
      "[CV 2/5] END criterion=entropy, max_depth=25, n_estimators=80; total time=   1.7s\n",
      "[CV 3/5] END criterion=entropy, max_depth=25, n_estimators=80; total time=   1.3s\n",
      "[CV 4/5] END criterion=entropy, max_depth=25, n_estimators=80; total time=   1.1s\n",
      "[CV 5/5] END criterion=entropy, max_depth=25, n_estimators=80; total time=   1.1s\n",
      "[CV 1/5] END criterion=entropy, max_depth=25, n_estimators=95; total time=   1.2s\n",
      "[CV 2/5] END criterion=entropy, max_depth=25, n_estimators=95; total time=   1.0s\n",
      "[CV 3/5] END criterion=entropy, max_depth=25, n_estimators=95; total time=   1.1s\n",
      "[CV 4/5] END criterion=entropy, max_depth=25, n_estimators=95; total time=   1.5s\n",
      "[CV 5/5] END criterion=entropy, max_depth=25, n_estimators=95; total time=   1.3s\n",
      "[CV 1/5] END criterion=entropy, max_depth=35, n_estimators=5; total time=   0.0s\n",
      "[CV 2/5] END criterion=entropy, max_depth=35, n_estimators=5; total time=   0.0s\n",
      "[CV 3/5] END criterion=entropy, max_depth=35, n_estimators=5; total time=   0.0s\n",
      "[CV 4/5] END criterion=entropy, max_depth=35, n_estimators=5; total time=   0.0s\n",
      "[CV 5/5] END criterion=entropy, max_depth=35, n_estimators=5; total time=   0.0s\n",
      "[CV 1/5] END criterion=entropy, max_depth=35, n_estimators=20; total time=   0.1s\n",
      "[CV 2/5] END criterion=entropy, max_depth=35, n_estimators=20; total time=   0.1s\n",
      "[CV 3/5] END criterion=entropy, max_depth=35, n_estimators=20; total time=   0.2s\n",
      "[CV 4/5] END criterion=entropy, max_depth=35, n_estimators=20; total time=   0.1s\n",
      "[CV 5/5] END criterion=entropy, max_depth=35, n_estimators=20; total time=   0.2s\n",
      "[CV 1/5] END criterion=entropy, max_depth=35, n_estimators=35; total time=   0.3s\n",
      "[CV 2/5] END criterion=entropy, max_depth=35, n_estimators=35; total time=   0.2s\n",
      "[CV 3/5] END criterion=entropy, max_depth=35, n_estimators=35; total time=   0.2s\n",
      "[CV 4/5] END criterion=entropy, max_depth=35, n_estimators=35; total time=   0.2s\n",
      "[CV 5/5] END criterion=entropy, max_depth=35, n_estimators=35; total time=   0.2s\n",
      "[CV 1/5] END criterion=entropy, max_depth=35, n_estimators=50; total time=   0.9s\n",
      "[CV 2/5] END criterion=entropy, max_depth=35, n_estimators=50; total time=   0.8s\n",
      "[CV 3/5] END criterion=entropy, max_depth=35, n_estimators=50; total time=   0.7s\n",
      "[CV 4/5] END criterion=entropy, max_depth=35, n_estimators=50; total time=   0.7s\n",
      "[CV 5/5] END criterion=entropy, max_depth=35, n_estimators=50; total time=   0.6s\n",
      "[CV 1/5] END criterion=entropy, max_depth=35, n_estimators=65; total time=   0.9s\n",
      "[CV 2/5] END criterion=entropy, max_depth=35, n_estimators=65; total time=   1.2s\n",
      "[CV 3/5] END criterion=entropy, max_depth=35, n_estimators=65; total time=   1.1s\n",
      "[CV 4/5] END criterion=entropy, max_depth=35, n_estimators=65; total time=   1.0s\n",
      "[CV 5/5] END criterion=entropy, max_depth=35, n_estimators=65; total time=   1.0s\n",
      "[CV 1/5] END criterion=entropy, max_depth=35, n_estimators=80; total time=   1.5s\n",
      "[CV 2/5] END criterion=entropy, max_depth=35, n_estimators=80; total time=   1.2s\n",
      "[CV 3/5] END criterion=entropy, max_depth=35, n_estimators=80; total time=   1.0s\n",
      "[CV 4/5] END criterion=entropy, max_depth=35, n_estimators=80; total time=   0.9s\n",
      "[CV 5/5] END criterion=entropy, max_depth=35, n_estimators=80; total time=   0.9s\n",
      "[CV 1/5] END criterion=entropy, max_depth=35, n_estimators=95; total time=   0.8s\n",
      "[CV 2/5] END criterion=entropy, max_depth=35, n_estimators=95; total time=   1.0s\n",
      "[CV 3/5] END criterion=entropy, max_depth=35, n_estimators=95; total time=   1.0s\n",
      "[CV 4/5] END criterion=entropy, max_depth=35, n_estimators=95; total time=   0.8s\n",
      "[CV 5/5] END criterion=entropy, max_depth=35, n_estimators=95; total time=   0.8s\n",
      "[CV 1/5] END criterion=entropy, max_depth=45, n_estimators=5; total time=   0.0s\n",
      "[CV 2/5] END criterion=entropy, max_depth=45, n_estimators=5; total time=   0.0s\n",
      "[CV 3/5] END criterion=entropy, max_depth=45, n_estimators=5; total time=   0.0s\n",
      "[CV 4/5] END criterion=entropy, max_depth=45, n_estimators=5; total time=   0.0s\n",
      "[CV 5/5] END criterion=entropy, max_depth=45, n_estimators=5; total time=   0.0s\n",
      "[CV 1/5] END criterion=entropy, max_depth=45, n_estimators=20; total time=   0.1s\n",
      "[CV 2/5] END criterion=entropy, max_depth=45, n_estimators=20; total time=   0.1s\n",
      "[CV 3/5] END criterion=entropy, max_depth=45, n_estimators=20; total time=   0.1s\n",
      "[CV 4/5] END criterion=entropy, max_depth=45, n_estimators=20; total time=   0.1s\n",
      "[CV 5/5] END criterion=entropy, max_depth=45, n_estimators=20; total time=   0.1s\n",
      "[CV 1/5] END criterion=entropy, max_depth=45, n_estimators=35; total time=   0.2s\n",
      "[CV 2/5] END criterion=entropy, max_depth=45, n_estimators=35; total time=   0.4s\n",
      "[CV 3/5] END criterion=entropy, max_depth=45, n_estimators=35; total time=   0.6s\n",
      "[CV 4/5] END criterion=entropy, max_depth=45, n_estimators=35; total time=   0.4s\n",
      "[CV 5/5] END criterion=entropy, max_depth=45, n_estimators=35; total time=   0.6s\n",
      "[CV 1/5] END criterion=entropy, max_depth=45, n_estimators=50; total time=   0.7s\n",
      "[CV 2/5] END criterion=entropy, max_depth=45, n_estimators=50; total time=   0.7s\n",
      "[CV 3/5] END criterion=entropy, max_depth=45, n_estimators=50; total time=   0.6s\n",
      "[CV 4/5] END criterion=entropy, max_depth=45, n_estimators=50; total time=   1.0s\n",
      "[CV 5/5] END criterion=entropy, max_depth=45, n_estimators=50; total time=   0.8s\n",
      "[CV 1/5] END criterion=entropy, max_depth=45, n_estimators=65; total time=   1.1s\n",
      "[CV 2/5] END criterion=entropy, max_depth=45, n_estimators=65; total time=   1.1s\n",
      "[CV 3/5] END criterion=entropy, max_depth=45, n_estimators=65; total time=   1.0s\n",
      "[CV 4/5] END criterion=entropy, max_depth=45, n_estimators=65; total time=   0.9s\n",
      "[CV 5/5] END criterion=entropy, max_depth=45, n_estimators=65; total time=   0.8s\n",
      "[CV 1/5] END criterion=entropy, max_depth=45, n_estimators=80; total time=   1.0s\n",
      "[CV 2/5] END criterion=entropy, max_depth=45, n_estimators=80; total time=   0.9s\n",
      "[CV 3/5] END criterion=entropy, max_depth=45, n_estimators=80; total time=   0.7s\n",
      "[CV 4/5] END criterion=entropy, max_depth=45, n_estimators=80; total time=   0.7s\n",
      "[CV 5/5] END criterion=entropy, max_depth=45, n_estimators=80; total time=   1.4s\n",
      "[CV 1/5] END criterion=entropy, max_depth=45, n_estimators=95; total time=   1.6s\n",
      "[CV 2/5] END criterion=entropy, max_depth=45, n_estimators=95; total time=   1.4s\n",
      "[CV 3/5] END criterion=entropy, max_depth=45, n_estimators=95; total time=   1.2s\n",
      "[CV 4/5] END criterion=entropy, max_depth=45, n_estimators=95; total time=   1.1s\n",
      "[CV 5/5] END criterion=entropy, max_depth=45, n_estimators=95; total time=   1.6s\n",
      "[CV 1/5] END criterion=entropy, max_depth=55, n_estimators=5; total time=   0.0s\n",
      "[CV 2/5] END criterion=entropy, max_depth=55, n_estimators=5; total time=   0.0s\n",
      "[CV 3/5] END criterion=entropy, max_depth=55, n_estimators=5; total time=   0.0s\n",
      "[CV 4/5] END criterion=entropy, max_depth=55, n_estimators=5; total time=   0.0s\n",
      "[CV 5/5] END criterion=entropy, max_depth=55, n_estimators=5; total time=   0.0s\n",
      "[CV 1/5] END criterion=entropy, max_depth=55, n_estimators=20; total time=   0.3s\n",
      "[CV 2/5] END criterion=entropy, max_depth=55, n_estimators=20; total time=   0.2s\n",
      "[CV 3/5] END criterion=entropy, max_depth=55, n_estimators=20; total time=   0.2s\n",
      "[CV 4/5] END criterion=entropy, max_depth=55, n_estimators=20; total time=   0.2s\n",
      "[CV 5/5] END criterion=entropy, max_depth=55, n_estimators=20; total time=   0.2s\n",
      "[CV 1/5] END criterion=entropy, max_depth=55, n_estimators=35; total time=   0.4s\n",
      "[CV 2/5] END criterion=entropy, max_depth=55, n_estimators=35; total time=   0.3s\n",
      "[CV 3/5] END criterion=entropy, max_depth=55, n_estimators=35; total time=   0.3s\n",
      "[CV 4/5] END criterion=entropy, max_depth=55, n_estimators=35; total time=   0.3s\n",
      "[CV 5/5] END criterion=entropy, max_depth=55, n_estimators=35; total time=   0.3s\n",
      "[CV 1/5] END criterion=entropy, max_depth=55, n_estimators=50; total time=   0.4s\n",
      "[CV 2/5] END criterion=entropy, max_depth=55, n_estimators=50; total time=   0.4s\n",
      "[CV 3/5] END criterion=entropy, max_depth=55, n_estimators=50; total time=   0.3s\n",
      "[CV 4/5] END criterion=entropy, max_depth=55, n_estimators=50; total time=   0.3s\n",
      "[CV 5/5] END criterion=entropy, max_depth=55, n_estimators=50; total time=   0.3s\n",
      "[CV 1/5] END criterion=entropy, max_depth=55, n_estimators=65; total time=   0.6s\n",
      "[CV 2/5] END criterion=entropy, max_depth=55, n_estimators=65; total time=   1.2s\n",
      "[CV 3/5] END criterion=entropy, max_depth=55, n_estimators=65; total time=   1.0s\n",
      "[CV 4/5] END criterion=entropy, max_depth=55, n_estimators=65; total time=   0.9s\n",
      "[CV 5/5] END criterion=entropy, max_depth=55, n_estimators=65; total time=   0.8s\n",
      "[CV 1/5] END criterion=entropy, max_depth=55, n_estimators=80; total time=   0.9s\n",
      "[CV 2/5] END criterion=entropy, max_depth=55, n_estimators=80; total time=   0.9s\n",
      "[CV 3/5] END criterion=entropy, max_depth=55, n_estimators=80; total time=   1.0s\n",
      "[CV 4/5] END criterion=entropy, max_depth=55, n_estimators=80; total time=   1.2s\n",
      "[CV 5/5] END criterion=entropy, max_depth=55, n_estimators=80; total time=   1.4s\n",
      "[CV 1/5] END criterion=entropy, max_depth=55, n_estimators=95; total time=   1.6s\n",
      "[CV 2/5] END criterion=entropy, max_depth=55, n_estimators=95; total time=   1.4s\n",
      "[CV 3/5] END criterion=entropy, max_depth=55, n_estimators=95; total time=   1.3s\n",
      "[CV 4/5] END criterion=entropy, max_depth=55, n_estimators=95; total time=   1.1s\n",
      "[CV 5/5] END criterion=entropy, max_depth=55, n_estimators=95; total time=   1.0s\n",
      "[CV 1/5] END criterion=entropy, max_depth=65, n_estimators=5; total time=   0.0s\n",
      "[CV 2/5] END criterion=entropy, max_depth=65, n_estimators=5; total time=   0.0s\n",
      "[CV 3/5] END criterion=entropy, max_depth=65, n_estimators=5; total time=   0.0s\n",
      "[CV 4/5] END criterion=entropy, max_depth=65, n_estimators=5; total time=   0.0s\n",
      "[CV 5/5] END criterion=entropy, max_depth=65, n_estimators=5; total time=   0.0s\n",
      "[CV 1/5] END criterion=entropy, max_depth=65, n_estimators=20; total time=   0.1s\n",
      "[CV 2/5] END criterion=entropy, max_depth=65, n_estimators=20; total time=   0.1s\n",
      "[CV 3/5] END criterion=entropy, max_depth=65, n_estimators=20; total time=   0.1s\n",
      "[CV 4/5] END criterion=entropy, max_depth=65, n_estimators=20; total time=   0.1s\n",
      "[CV 5/5] END criterion=entropy, max_depth=65, n_estimators=20; total time=   0.1s\n",
      "[CV 1/5] END criterion=entropy, max_depth=65, n_estimators=35; total time=   0.5s\n",
      "[CV 2/5] END criterion=entropy, max_depth=65, n_estimators=35; total time=   0.6s\n",
      "[CV 3/5] END criterion=entropy, max_depth=65, n_estimators=35; total time=   0.5s\n",
      "[CV 4/5] END criterion=entropy, max_depth=65, n_estimators=35; total time=   0.5s\n",
      "[CV 5/5] END criterion=entropy, max_depth=65, n_estimators=35; total time=   0.4s\n",
      "[CV 1/5] END criterion=entropy, max_depth=65, n_estimators=50; total time=   0.9s\n",
      "[CV 2/5] END criterion=entropy, max_depth=65, n_estimators=50; total time=   0.8s\n",
      "[CV 3/5] END criterion=entropy, max_depth=65, n_estimators=50; total time=   0.9s\n",
      "[CV 4/5] END criterion=entropy, max_depth=65, n_estimators=50; total time=   0.8s\n",
      "[CV 5/5] END criterion=entropy, max_depth=65, n_estimators=50; total time=   0.6s\n",
      "[CV 1/5] END criterion=entropy, max_depth=65, n_estimators=65; total time=   0.8s\n",
      "[CV 2/5] END criterion=entropy, max_depth=65, n_estimators=65; total time=   0.9s\n",
      "[CV 3/5] END criterion=entropy, max_depth=65, n_estimators=65; total time=   0.9s\n",
      "[CV 4/5] END criterion=entropy, max_depth=65, n_estimators=65; total time=   1.1s\n",
      "[CV 5/5] END criterion=entropy, max_depth=65, n_estimators=65; total time=   1.0s\n",
      "[CV 1/5] END criterion=entropy, max_depth=65, n_estimators=80; total time=   1.2s\n",
      "[CV 2/5] END criterion=entropy, max_depth=65, n_estimators=80; total time=   1.4s\n",
      "[CV 3/5] END criterion=entropy, max_depth=65, n_estimators=80; total time=   1.2s\n",
      "[CV 4/5] END criterion=entropy, max_depth=65, n_estimators=80; total time=   1.0s\n",
      "[CV 5/5] END criterion=entropy, max_depth=65, n_estimators=80; total time=   1.0s\n",
      "[CV 1/5] END criterion=entropy, max_depth=65, n_estimators=95; total time=   1.1s\n",
      "[CV 2/5] END criterion=entropy, max_depth=65, n_estimators=95; total time=   0.8s\n",
      "[CV 3/5] END criterion=entropy, max_depth=65, n_estimators=95; total time=   0.9s\n",
      "[CV 4/5] END criterion=entropy, max_depth=65, n_estimators=95; total time=   1.1s\n",
      "[CV 5/5] END criterion=entropy, max_depth=65, n_estimators=95; total time=   1.8s\n",
      "[CV 1/5] END criterion=entropy, max_depth=75, n_estimators=5; total time=   0.0s\n",
      "[CV 2/5] END criterion=entropy, max_depth=75, n_estimators=5; total time=   0.0s\n",
      "[CV 3/5] END criterion=entropy, max_depth=75, n_estimators=5; total time=   0.0s\n",
      "[CV 4/5] END criterion=entropy, max_depth=75, n_estimators=5; total time=   0.0s\n",
      "[CV 5/5] END criterion=entropy, max_depth=75, n_estimators=5; total time=   0.0s\n",
      "[CV 1/5] END criterion=entropy, max_depth=75, n_estimators=20; total time=   0.2s\n",
      "[CV 2/5] END criterion=entropy, max_depth=75, n_estimators=20; total time=   0.2s\n",
      "[CV 3/5] END criterion=entropy, max_depth=75, n_estimators=20; total time=   0.2s\n",
      "[CV 4/5] END criterion=entropy, max_depth=75, n_estimators=20; total time=   0.2s\n",
      "[CV 5/5] END criterion=entropy, max_depth=75, n_estimators=20; total time=   0.2s\n",
      "[CV 1/5] END criterion=entropy, max_depth=75, n_estimators=35; total time=   0.4s\n",
      "[CV 2/5] END criterion=entropy, max_depth=75, n_estimators=35; total time=   0.3s\n",
      "[CV 3/5] END criterion=entropy, max_depth=75, n_estimators=35; total time=   0.7s\n",
      "[CV 4/5] END criterion=entropy, max_depth=75, n_estimators=35; total time=   0.6s\n",
      "[CV 5/5] END criterion=entropy, max_depth=75, n_estimators=35; total time=   0.7s\n",
      "[CV 1/5] END criterion=entropy, max_depth=75, n_estimators=50; total time=   0.6s\n",
      "[CV 2/5] END criterion=entropy, max_depth=75, n_estimators=50; total time=   0.6s\n",
      "[CV 3/5] END criterion=entropy, max_depth=75, n_estimators=50; total time=   0.5s\n",
      "[CV 4/5] END criterion=entropy, max_depth=75, n_estimators=50; total time=   0.5s\n",
      "[CV 5/5] END criterion=entropy, max_depth=75, n_estimators=50; total time=   0.7s\n",
      "[CV 1/5] END criterion=entropy, max_depth=75, n_estimators=65; total time=   1.1s\n",
      "[CV 2/5] END criterion=entropy, max_depth=75, n_estimators=65; total time=   1.1s\n",
      "[CV 3/5] END criterion=entropy, max_depth=75, n_estimators=65; total time=   1.1s\n",
      "[CV 4/5] END criterion=entropy, max_depth=75, n_estimators=65; total time=   1.1s\n",
      "[CV 5/5] END criterion=entropy, max_depth=75, n_estimators=65; total time=   1.2s\n",
      "[CV 1/5] END criterion=entropy, max_depth=75, n_estimators=80; total time=   1.3s\n",
      "[CV 2/5] END criterion=entropy, max_depth=75, n_estimators=80; total time=   1.2s\n",
      "[CV 3/5] END criterion=entropy, max_depth=75, n_estimators=80; total time=   1.0s\n",
      "[CV 4/5] END criterion=entropy, max_depth=75, n_estimators=80; total time=   1.2s\n",
      "[CV 5/5] END criterion=entropy, max_depth=75, n_estimators=80; total time=   1.5s\n",
      "[CV 1/5] END criterion=entropy, max_depth=75, n_estimators=95; total time=   1.6s\n",
      "[CV 2/5] END criterion=entropy, max_depth=75, n_estimators=95; total time=   1.5s\n",
      "[CV 3/5] END criterion=entropy, max_depth=75, n_estimators=95; total time=   1.2s\n",
      "[CV 4/5] END criterion=entropy, max_depth=75, n_estimators=95; total time=   1.5s\n",
      "[CV 5/5] END criterion=entropy, max_depth=75, n_estimators=95; total time=   1.5s\n",
      "[CV 1/5] END criterion=entropy, max_depth=85, n_estimators=5; total time=   0.0s\n",
      "[CV 2/5] END criterion=entropy, max_depth=85, n_estimators=5; total time=   0.0s\n",
      "[CV 3/5] END criterion=entropy, max_depth=85, n_estimators=5; total time=   0.0s\n",
      "[CV 4/5] END criterion=entropy, max_depth=85, n_estimators=5; total time=   0.0s\n",
      "[CV 5/5] END criterion=entropy, max_depth=85, n_estimators=5; total time=   0.0s\n",
      "[CV 1/5] END criterion=entropy, max_depth=85, n_estimators=20; total time=   0.3s\n",
      "[CV 2/5] END criterion=entropy, max_depth=85, n_estimators=20; total time=   0.3s\n",
      "[CV 3/5] END criterion=entropy, max_depth=85, n_estimators=20; total time=   0.2s\n",
      "[CV 4/5] END criterion=entropy, max_depth=85, n_estimators=20; total time=   0.2s\n",
      "[CV 5/5] END criterion=entropy, max_depth=85, n_estimators=20; total time=   0.2s\n",
      "[CV 1/5] END criterion=entropy, max_depth=85, n_estimators=35; total time=   0.4s\n",
      "[CV 2/5] END criterion=entropy, max_depth=85, n_estimators=35; total time=   0.3s\n",
      "[CV 3/5] END criterion=entropy, max_depth=85, n_estimators=35; total time=   0.4s\n",
      "[CV 4/5] END criterion=entropy, max_depth=85, n_estimators=35; total time=   0.4s\n",
      "[CV 5/5] END criterion=entropy, max_depth=85, n_estimators=35; total time=   0.4s\n",
      "[CV 1/5] END criterion=entropy, max_depth=85, n_estimators=50; total time=   0.9s\n",
      "[CV 2/5] END criterion=entropy, max_depth=85, n_estimators=50; total time=   1.0s\n",
      "[CV 3/5] END criterion=entropy, max_depth=85, n_estimators=50; total time=   1.1s\n",
      "[CV 4/5] END criterion=entropy, max_depth=85, n_estimators=50; total time=   0.9s\n",
      "[CV 5/5] END criterion=entropy, max_depth=85, n_estimators=50; total time=   0.8s\n",
      "[CV 1/5] END criterion=entropy, max_depth=85, n_estimators=65; total time=   1.0s\n",
      "[CV 2/5] END criterion=entropy, max_depth=85, n_estimators=65; total time=   0.9s\n",
      "[CV 3/5] END criterion=entropy, max_depth=85, n_estimators=65; total time=   0.8s\n",
      "[CV 4/5] END criterion=entropy, max_depth=85, n_estimators=65; total time=   1.3s\n",
      "[CV 5/5] END criterion=entropy, max_depth=85, n_estimators=65; total time=   1.1s\n",
      "[CV 1/5] END criterion=entropy, max_depth=85, n_estimators=80; total time=   1.5s\n",
      "[CV 2/5] END criterion=entropy, max_depth=85, n_estimators=80; total time=   1.2s\n",
      "[CV 3/5] END criterion=entropy, max_depth=85, n_estimators=80; total time=   1.4s\n",
      "[CV 4/5] END criterion=entropy, max_depth=85, n_estimators=80; total time=   1.2s\n",
      "[CV 5/5] END criterion=entropy, max_depth=85, n_estimators=80; total time=   1.1s\n",
      "[CV 1/5] END criterion=entropy, max_depth=85, n_estimators=95; total time=   1.2s\n",
      "[CV 2/5] END criterion=entropy, max_depth=85, n_estimators=95; total time=   1.1s\n",
      "[CV 3/5] END criterion=entropy, max_depth=85, n_estimators=95; total time=   1.4s\n",
      "[CV 4/5] END criterion=entropy, max_depth=85, n_estimators=95; total time=   1.4s\n",
      "[CV 5/5] END criterion=entropy, max_depth=85, n_estimators=95; total time=   1.4s\n",
      "[CV 1/5] END criterion=entropy, max_depth=95, n_estimators=5; total time=   0.0s\n",
      "[CV 2/5] END criterion=entropy, max_depth=95, n_estimators=5; total time=   0.0s\n",
      "[CV 3/5] END criterion=entropy, max_depth=95, n_estimators=5; total time=   0.0s\n",
      "[CV 4/5] END criterion=entropy, max_depth=95, n_estimators=5; total time=   0.0s\n",
      "[CV 5/5] END criterion=entropy, max_depth=95, n_estimators=5; total time=   0.0s\n",
      "[CV 1/5] END criterion=entropy, max_depth=95, n_estimators=20; total time=   0.2s\n",
      "[CV 2/5] END criterion=entropy, max_depth=95, n_estimators=20; total time=   0.2s\n",
      "[CV 3/5] END criterion=entropy, max_depth=95, n_estimators=20; total time=   0.2s\n",
      "[CV 4/5] END criterion=entropy, max_depth=95, n_estimators=20; total time=   0.2s\n",
      "[CV 5/5] END criterion=entropy, max_depth=95, n_estimators=20; total time=   0.2s\n",
      "[CV 1/5] END criterion=entropy, max_depth=95, n_estimators=35; total time=   0.4s\n",
      "[CV 2/5] END criterion=entropy, max_depth=95, n_estimators=35; total time=   0.4s\n",
      "[CV 3/5] END criterion=entropy, max_depth=95, n_estimators=35; total time=   0.5s\n",
      "[CV 4/5] END criterion=entropy, max_depth=95, n_estimators=35; total time=   0.6s\n",
      "[CV 5/5] END criterion=entropy, max_depth=95, n_estimators=35; total time=   0.5s\n",
      "[CV 1/5] END criterion=entropy, max_depth=95, n_estimators=50; total time=   0.9s\n",
      "[CV 2/5] END criterion=entropy, max_depth=95, n_estimators=50; total time=   0.8s\n",
      "[CV 3/5] END criterion=entropy, max_depth=95, n_estimators=50; total time=   0.8s\n",
      "[CV 4/5] END criterion=entropy, max_depth=95, n_estimators=50; total time=   0.8s\n",
      "[CV 5/5] END criterion=entropy, max_depth=95, n_estimators=50; total time=   0.9s\n",
      "[CV 1/5] END criterion=entropy, max_depth=95, n_estimators=65; total time=   1.1s\n",
      "[CV 2/5] END criterion=entropy, max_depth=95, n_estimators=65; total time=   1.4s\n",
      "[CV 3/5] END criterion=entropy, max_depth=95, n_estimators=65; total time=   1.1s\n",
      "[CV 4/5] END criterion=entropy, max_depth=95, n_estimators=65; total time=   1.0s\n",
      "[CV 5/5] END criterion=entropy, max_depth=95, n_estimators=65; total time=   1.2s\n",
      "[CV 1/5] END criterion=entropy, max_depth=95, n_estimators=80; total time=   1.3s\n",
      "[CV 2/5] END criterion=entropy, max_depth=95, n_estimators=80; total time=   1.0s\n",
      "[CV 3/5] END criterion=entropy, max_depth=95, n_estimators=80; total time=   1.2s\n",
      "[CV 4/5] END criterion=entropy, max_depth=95, n_estimators=80; total time=   1.7s\n",
      "[CV 5/5] END criterion=entropy, max_depth=95, n_estimators=80; total time=   1.1s\n",
      "[CV 1/5] END criterion=entropy, max_depth=95, n_estimators=95; total time=   1.3s\n",
      "[CV 2/5] END criterion=entropy, max_depth=95, n_estimators=95; total time=   1.0s\n",
      "[CV 3/5] END criterion=entropy, max_depth=95, n_estimators=95; total time=   0.9s\n",
      "[CV 4/5] END criterion=entropy, max_depth=95, n_estimators=95; total time=   0.9s\n",
      "[CV 5/5] END criterion=entropy, max_depth=95, n_estimators=95; total time=   0.8s\n"
     ]
    },
    {
     "data": {
      "text/plain": [
       "GridSearchCV(estimator=RandomForestClassifier(),\n",
       "             param_grid={'criterion': ['gini', 'entropy'],\n",
       "                         'max_depth': [15, 25, 35, 45, 55, 65, 75, 85, 95],\n",
       "                         'n_estimators': [5, 20, 35, 50, 65, 80, 95]},\n",
       "             verbose=3)"
      ]
     },
     "execution_count": 207,
     "metadata": {},
     "output_type": "execute_result"
    }
   ],
   "source": [
    "g_model = GridSearchCV(RandomForestClassifier(),param_grid=params,verbose=3)  # Same as nested forloops to test multiple parameters\n",
    "g_model.fit(xtrain,ytrain)     "
   ]
  },
  {
   "cell_type": "code",
   "execution_count": 208,
   "metadata": {},
   "outputs": [
    {
     "data": {
      "text/plain": [
       "RandomForestClassifier(max_depth=85, n_estimators=65)"
      ]
     },
     "execution_count": 208,
     "metadata": {},
     "output_type": "execute_result"
    }
   ],
   "source": [
    "g_model.best_estimator_"
   ]
  },
  {
   "cell_type": "code",
   "execution_count": 209,
   "metadata": {},
   "outputs": [
    {
     "data": {
      "text/plain": [
       "{'criterion': 'gini', 'max_depth': 85, 'n_estimators': 65}"
      ]
     },
     "execution_count": 209,
     "metadata": {},
     "output_type": "execute_result"
    }
   ],
   "source": [
    "g_model.best_params_"
   ]
  },
  {
   "cell_type": "code",
   "execution_count": 274,
   "metadata": {},
   "outputs": [],
   "source": [
    "model_best_GSCV = RandomForestClassifier(criterion='gini',max_depth=85,n_estimators=65).fit(xtrain,ytrain)"
   ]
  },
  {
   "cell_type": "code",
   "execution_count": 275,
   "metadata": {},
   "outputs": [
    {
     "data": {
      "text/plain": [
       "0.8961267605633803"
      ]
     },
     "execution_count": 275,
     "metadata": {},
     "output_type": "execute_result"
    }
   ],
   "source": [
    "model_best_GSCV.score(xtest,ytest)"
   ]
  },
  {
   "cell_type": "code",
   "execution_count": 276,
   "metadata": {},
   "outputs": [
    {
     "data": {
      "text/plain": [
       "0.998825601879037"
      ]
     },
     "execution_count": 276,
     "metadata": {},
     "output_type": "execute_result"
    }
   ],
   "source": [
    "model_best_GSCV.score(xtrain,ytrain)"
   ]
  },
  {
   "cell_type": "markdown",
   "metadata": {},
   "source": [
    "### BaggingClassifier"
   ]
  },
  {
   "cell_type": "code",
   "execution_count": 277,
   "metadata": {},
   "outputs": [],
   "source": [
    "from sklearn.ensemble import BaggingClassifier\n",
    "from sklearn.model_selection import KFold,cross_val_score"
   ]
  },
  {
   "cell_type": "code",
   "execution_count": 278,
   "metadata": {},
   "outputs": [
    {
     "name": "stdout",
     "output_type": "stream",
     "text": [
      "accuracy :\n",
      "0.8775869660942316\n"
     ]
    }
   ],
   "source": [
    "seed = 8\n",
    "kfold = KFold(n_splits = 3,\n",
    "                       random_state = seed,shuffle=True)\n",
    "  \n",
    "# initialize the base classifier\n",
    "base_cls = DecisionTreeClassifier()\n",
    "  \n",
    "# no. of base classifier\n",
    "num_trees = 50\n",
    "  \n",
    "# bagging classifier\n",
    "model = BaggingClassifier(base_estimator = base_cls,\n",
    "                          n_estimators = num_trees,\n",
    "                          random_state = seed)\n",
    "  \n",
    "results = cross_val_score(model, x2, y2, cv = kfold)\n",
    "print(\"accuracy :\")\n",
    "print(results.mean())"
   ]
  },
  {
   "cell_type": "code",
   "execution_count": 279,
   "metadata": {},
   "outputs": [
    {
     "data": {
      "text/plain": [
       "BaggingClassifier(base_estimator=DecisionTreeClassifier(), n_estimators=50,\n",
       "                  random_state=8)"
      ]
     },
     "execution_count": 279,
     "metadata": {},
     "output_type": "execute_result"
    }
   ],
   "source": [
    "model.fit(xtrain,ytrain)"
   ]
  },
  {
   "cell_type": "code",
   "execution_count": 280,
   "metadata": {},
   "outputs": [],
   "source": [
    "from sklearn.metrics import accuracy_score"
   ]
  },
  {
   "cell_type": "code",
   "execution_count": 281,
   "metadata": {},
   "outputs": [],
   "source": [
    "ypred = model.predict(xtest)"
   ]
  },
  {
   "cell_type": "code",
   "execution_count": 282,
   "metadata": {},
   "outputs": [
    {
     "name": "stdout",
     "output_type": "stream",
     "text": [
      "0.8926056338028169\n"
     ]
    }
   ],
   "source": [
    "print(accuracy_score(ypred,ytest))"
   ]
  },
  {
   "cell_type": "code",
   "execution_count": 283,
   "metadata": {},
   "outputs": [
    {
     "name": "stdout",
     "output_type": "stream",
     "text": [
      "0.9982384028185555\n"
     ]
    }
   ],
   "source": [
    "ypred_t = model.predict(xtrain)\n",
    "print(accuracy_score(ypred_t,ytrain))"
   ]
  },
  {
   "cell_type": "markdown",
   "metadata": {},
   "source": [
    "### Deployment"
   ]
  },
  {
   "cell_type": "code",
   "execution_count": 284,
   "metadata": {},
   "outputs": [],
   "source": [
    "final_model = model_best_GSCV"
   ]
  },
  {
   "cell_type": "code",
   "execution_count": 285,
   "metadata": {},
   "outputs": [],
   "source": [
    "pd.to_pickle(final_model,'TourPackagePredictor')"
   ]
  },
  {
   "cell_type": "code",
   "execution_count": 286,
   "metadata": {},
   "outputs": [],
   "source": [
    "model = pd.read_pickle('TourPackagePredictor')"
   ]
  },
  {
   "cell_type": "code",
   "execution_count": 300,
   "metadata": {},
   "outputs": [
    {
     "name": "stdout",
     "output_type": "stream",
     "text": [
      "Enter customer's MonthlyIncome: 20993\n",
      "Enter customer's age: 41\n",
      "Enter Duration of Pitch: 6\n",
      "Enter the no of trips done by customer: 1\n"
     ]
    }
   ],
   "source": [
    "MonthlyIncome = eval(input(\"Enter customer's MonthlyIncome: \"))\n",
    "Age = eval(input(\"Enter customer's age: \"))\n",
    "DurOfPitch = eval(input('Enter Duration of Pitch: '))\n",
    "NoOfTrips =  eval(input('Enter the no of trips done by customer: '))\n",
    "\n",
    "query = pd.DataFrame({\n",
    "    'MonthlyIncome':[MonthlyIncome],\n",
    "    'Age':[Age],\n",
    "    'DurationOfPitch':[DurOfPitch],\n",
    "    'NumberOfTrips': [NoOfTrips]\n",
    "})"
   ]
  },
  {
   "cell_type": "code",
   "execution_count": 301,
   "metadata": {},
   "outputs": [
    {
     "data": {
      "text/html": [
       "<div>\n",
       "<style scoped>\n",
       "    .dataframe tbody tr th:only-of-type {\n",
       "        vertical-align: middle;\n",
       "    }\n",
       "\n",
       "    .dataframe tbody tr th {\n",
       "        vertical-align: top;\n",
       "    }\n",
       "\n",
       "    .dataframe thead th {\n",
       "        text-align: right;\n",
       "    }\n",
       "</style>\n",
       "<table border=\"1\" class=\"dataframe\">\n",
       "  <thead>\n",
       "    <tr style=\"text-align: right;\">\n",
       "      <th></th>\n",
       "      <th>MonthlyIncome</th>\n",
       "      <th>Age</th>\n",
       "      <th>DurationOfPitch</th>\n",
       "      <th>NumberOfTrips</th>\n",
       "    </tr>\n",
       "  </thead>\n",
       "  <tbody>\n",
       "    <tr>\n",
       "      <th>0</th>\n",
       "      <td>20993</td>\n",
       "      <td>41</td>\n",
       "      <td>6</td>\n",
       "      <td>1</td>\n",
       "    </tr>\n",
       "  </tbody>\n",
       "</table>\n",
       "</div>"
      ],
      "text/plain": [
       "   MonthlyIncome  Age  DurationOfPitch  NumberOfTrips\n",
       "0          20993   41                6              1"
      ]
     },
     "execution_count": 301,
     "metadata": {},
     "output_type": "execute_result"
    }
   ],
   "source": [
    "query"
   ]
  },
  {
   "cell_type": "code",
   "execution_count": 302,
   "metadata": {},
   "outputs": [
    {
     "data": {
      "text/plain": [
       "0"
      ]
     },
     "execution_count": 302,
     "metadata": {},
     "output_type": "execute_result"
    }
   ],
   "source": [
    "Prodtaken = model.predict(query)[0]\n",
    "Prodtaken"
   ]
  },
  {
   "cell_type": "code",
   "execution_count": null,
   "metadata": {},
   "outputs": [],
   "source": []
  }
 ],
 "metadata": {
  "kernelspec": {
   "display_name": "Python 3",
   "language": "python",
   "name": "python3"
  },
  "language_info": {
   "codemirror_mode": {
    "name": "ipython",
    "version": 3
   },
   "file_extension": ".py",
   "mimetype": "text/x-python",
   "name": "python",
   "nbconvert_exporter": "python",
   "pygments_lexer": "ipython3",
   "version": "3.8.8"
  }
 },
 "nbformat": 4,
 "nbformat_minor": 4
}
